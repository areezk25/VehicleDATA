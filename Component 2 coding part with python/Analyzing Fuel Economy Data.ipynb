{
 "cells": [
  {
   "cell_type": "markdown",
   "metadata": {
    "collapsed": false
   },
   "source": [
    "# Analyzing Fuel Economy Data\n",
    "\n",
    "### Overview\n",
    "\n",
    "I am going to use pythons pandas, numpy, and matplotlib to analyze fuel economy data for different car models from 2010 and 2014.\n",
    "\n",
    "I have conducted an Exploratory Data Analysis on both dataset to answer following questions:\n",
    "\n",
    "1. Are more unique models using alternative fuels in 2014 compared to 2010? By how much?\n",
    "2. How much have vehicle classes improved in fuel economy \\(increased in mpg\\)?\n",
    "3. What are the characteristics of SmartWay vehicles? Have they changed over time? \\(mpg, greenhouse gas\\)\n",
    "4. What features are associated with better fuel economy \\(mpg\\)?\n",
    "5. For all of the models that were produced in 2010 that are still being produced in 2014, how much has the mpg improved and which vehicle improved the most?\n",
    "\n"
   ]
  },
  {
   "cell_type": "markdown",
   "metadata": {
    "collapsed": false
   },
   "source": [
    "# Assessing Data\n",
    "\n",
    "We will explore the data and try to answer following questions about the data.\n",
    "- number of samples in each dataset\n",
    "- number of columns in each dataset\n",
    "- duplicate rows in each dataset\n",
    "- features with missing values\n",
    "- number of non-null unique values for features in each dataset\n",
    "- what those unique values are and counts for each"
   ]
  },
  {
   "cell_type": "code",
   "execution_count": 1,
   "metadata": {
    "collapsed": false,
    "ExecuteTime": {
     "end_time": "2023-07-09T11:25:35.265075300Z",
     "start_time": "2023-07-09T11:25:35.253557600Z"
    }
   },
   "outputs": [],
   "source": [
    "# importing libraries\n",
    "import pandas as pd\n",
    "import numpy as np\n",
    "import matplotlib.pyplot as plt\n",
    "import seaborn as sns\n",
    "sns.set_style('darkgrid')\n",
    "%matplotlib inline"
   ]
  },
  {
   "cell_type": "code",
   "execution_count": 2,
   "metadata": {
    "collapsed": false,
    "ExecuteTime": {
     "end_time": "2023-07-09T11:25:38.612274Z",
     "start_time": "2023-07-09T11:25:38.588414800Z"
    }
   },
   "outputs": [],
   "source": [
    "df_10 = pd.read_csv('all_alpha_10.csv')\n",
    "df_14 = pd.read_csv('all_alpha_14.csv')"
   ]
  },
  {
   "cell_type": "code",
   "execution_count": 3,
   "metadata": {
    "collapsed": false,
    "ExecuteTime": {
     "end_time": "2023-07-09T11:25:39.843388800Z",
     "start_time": "2023-07-09T11:25:39.784051700Z"
    }
   },
   "outputs": [
    {
     "data": {
      "text/plain": "       Model  Displ      Cyl    Trans Drive      Fuel Sales Area Stnd  \\\n0  ACURA MDX    3.7  (6 cyl)  Auto-S5   4WD  Gasoline         CA   U2   \n1  ACURA MDX    3.7  (6 cyl)  Auto-S5   4WD  Gasoline         FA   B5   \n2  ACURA RDX    2.3  (4 cyl)  Auto-S5   4WD  Gasoline         CA   U2   \n3  ACURA RDX    2.3  (4 cyl)  Auto-S5   4WD  Gasoline         FA   B5   \n4   ACURA RL    3.5  (6 cyl)  Auto-S5   4WD  Gasoline         CA   U2   \n\n   Underhood ID    Veh Class Air Pollution Score FE Calc Appr City MPG  \\\n0  8HNXT03.7PKR          SUV                   7          Drv       15   \n1  8HNXT03.7PKR          SUV                   6          Drv       15   \n2  8HNXT02.3DKR          SUV                   7          Drv       17   \n3  8HNXT02.3DKR          SUV                   6          Drv       17   \n4  8HNXV03.5HKR  midsize car                   7          Drv       16   \n\n  Hwy MPG Cmb MPG  Unadj Cmb MPG Greenhouse Gas Score SmartWay  \n0      20      17        22.0527                    4       no  \n1      20      17        22.0527                    4       no  \n2      22      19        24.1745                    5       no  \n3      22      19        24.1745                    5       no  \n4      24      19        24.5629                    5       no  ",
      "text/html": "<div>\n<style scoped>\n    .dataframe tbody tr th:only-of-type {\n        vertical-align: middle;\n    }\n\n    .dataframe tbody tr th {\n        vertical-align: top;\n    }\n\n    .dataframe thead th {\n        text-align: right;\n    }\n</style>\n<table border=\"1\" class=\"dataframe\">\n  <thead>\n    <tr style=\"text-align: right;\">\n      <th></th>\n      <th>Model</th>\n      <th>Displ</th>\n      <th>Cyl</th>\n      <th>Trans</th>\n      <th>Drive</th>\n      <th>Fuel</th>\n      <th>Sales Area</th>\n      <th>Stnd</th>\n      <th>Underhood ID</th>\n      <th>Veh Class</th>\n      <th>Air Pollution Score</th>\n      <th>FE Calc Appr</th>\n      <th>City MPG</th>\n      <th>Hwy MPG</th>\n      <th>Cmb MPG</th>\n      <th>Unadj Cmb MPG</th>\n      <th>Greenhouse Gas Score</th>\n      <th>SmartWay</th>\n    </tr>\n  </thead>\n  <tbody>\n    <tr>\n      <th>0</th>\n      <td>ACURA MDX</td>\n      <td>3.7</td>\n      <td>(6 cyl)</td>\n      <td>Auto-S5</td>\n      <td>4WD</td>\n      <td>Gasoline</td>\n      <td>CA</td>\n      <td>U2</td>\n      <td>8HNXT03.7PKR</td>\n      <td>SUV</td>\n      <td>7</td>\n      <td>Drv</td>\n      <td>15</td>\n      <td>20</td>\n      <td>17</td>\n      <td>22.0527</td>\n      <td>4</td>\n      <td>no</td>\n    </tr>\n    <tr>\n      <th>1</th>\n      <td>ACURA MDX</td>\n      <td>3.7</td>\n      <td>(6 cyl)</td>\n      <td>Auto-S5</td>\n      <td>4WD</td>\n      <td>Gasoline</td>\n      <td>FA</td>\n      <td>B5</td>\n      <td>8HNXT03.7PKR</td>\n      <td>SUV</td>\n      <td>6</td>\n      <td>Drv</td>\n      <td>15</td>\n      <td>20</td>\n      <td>17</td>\n      <td>22.0527</td>\n      <td>4</td>\n      <td>no</td>\n    </tr>\n    <tr>\n      <th>2</th>\n      <td>ACURA RDX</td>\n      <td>2.3</td>\n      <td>(4 cyl)</td>\n      <td>Auto-S5</td>\n      <td>4WD</td>\n      <td>Gasoline</td>\n      <td>CA</td>\n      <td>U2</td>\n      <td>8HNXT02.3DKR</td>\n      <td>SUV</td>\n      <td>7</td>\n      <td>Drv</td>\n      <td>17</td>\n      <td>22</td>\n      <td>19</td>\n      <td>24.1745</td>\n      <td>5</td>\n      <td>no</td>\n    </tr>\n    <tr>\n      <th>3</th>\n      <td>ACURA RDX</td>\n      <td>2.3</td>\n      <td>(4 cyl)</td>\n      <td>Auto-S5</td>\n      <td>4WD</td>\n      <td>Gasoline</td>\n      <td>FA</td>\n      <td>B5</td>\n      <td>8HNXT02.3DKR</td>\n      <td>SUV</td>\n      <td>6</td>\n      <td>Drv</td>\n      <td>17</td>\n      <td>22</td>\n      <td>19</td>\n      <td>24.1745</td>\n      <td>5</td>\n      <td>no</td>\n    </tr>\n    <tr>\n      <th>4</th>\n      <td>ACURA RL</td>\n      <td>3.5</td>\n      <td>(6 cyl)</td>\n      <td>Auto-S5</td>\n      <td>4WD</td>\n      <td>Gasoline</td>\n      <td>CA</td>\n      <td>U2</td>\n      <td>8HNXV03.5HKR</td>\n      <td>midsize car</td>\n      <td>7</td>\n      <td>Drv</td>\n      <td>16</td>\n      <td>24</td>\n      <td>19</td>\n      <td>24.5629</td>\n      <td>5</td>\n      <td>no</td>\n    </tr>\n  </tbody>\n</table>\n</div>"
     },
     "execution_count": 3,
     "metadata": {},
     "output_type": "execute_result"
    }
   ],
   "source": [
    "df_10.head()"
   ]
  },
  {
   "cell_type": "code",
   "execution_count": 4,
   "metadata": {
    "collapsed": false,
    "ExecuteTime": {
     "end_time": "2023-07-09T11:25:40.511966800Z",
     "start_time": "2023-07-09T11:25:40.467037100Z"
    }
   },
   "outputs": [
    {
     "data": {
      "text/plain": "       Model  Displ  Cyl       Trans Drive      Fuel Cert Region       Stnd  \\\n0  ACURA RDX    3.5  6.0  SemiAuto-6   2WD  Gasoline          FA     T3B125   \n1  ACURA RDX    3.5  6.0  SemiAuto-6   2WD  Gasoline          CA         U2   \n2  ACURA RDX    3.5  6.0  SemiAuto-6   4WD  Gasoline          FA     T3B125   \n3  ACURA RDX    3.5  6.0  SemiAuto-6   4WD  Gasoline          CA         U2   \n4  ACURA TLX    2.4  4.0       AMS-8   2WD  Gasoline          CA  L3ULEV125   \n\n             Stnd Description  Underhood ID  Veh Class  Air Pollution Score  \\\n0      Federal Tier 3 Bin 125  JHNXT03.5GV3  small SUV                    3   \n1      California LEV-II ULEV  JHNXT03.5GV3  small SUV                    3   \n2      Federal Tier 3 Bin 125  JHNXT03.5GV3  small SUV                    3   \n3      California LEV-II ULEV  JHNXT03.5GV3  small SUV                    3   \n4  California LEV-III ULEV125  JHNXV02.4WH3  small car                    3   \n\n  City MPG Hwy MPG Cmb MPG  Greenhouse Gas Score SmartWay Comb CO2  \n0       20      28      23                     5       No      386  \n1       20      28      23                     5       No      386  \n2       19      27      22                     4       No      402  \n3       19      27      22                     4       No      402  \n4       23      33      27                     6       No      330  ",
      "text/html": "<div>\n<style scoped>\n    .dataframe tbody tr th:only-of-type {\n        vertical-align: middle;\n    }\n\n    .dataframe tbody tr th {\n        vertical-align: top;\n    }\n\n    .dataframe thead th {\n        text-align: right;\n    }\n</style>\n<table border=\"1\" class=\"dataframe\">\n  <thead>\n    <tr style=\"text-align: right;\">\n      <th></th>\n      <th>Model</th>\n      <th>Displ</th>\n      <th>Cyl</th>\n      <th>Trans</th>\n      <th>Drive</th>\n      <th>Fuel</th>\n      <th>Cert Region</th>\n      <th>Stnd</th>\n      <th>Stnd Description</th>\n      <th>Underhood ID</th>\n      <th>Veh Class</th>\n      <th>Air Pollution Score</th>\n      <th>City MPG</th>\n      <th>Hwy MPG</th>\n      <th>Cmb MPG</th>\n      <th>Greenhouse Gas Score</th>\n      <th>SmartWay</th>\n      <th>Comb CO2</th>\n    </tr>\n  </thead>\n  <tbody>\n    <tr>\n      <th>0</th>\n      <td>ACURA RDX</td>\n      <td>3.5</td>\n      <td>6.0</td>\n      <td>SemiAuto-6</td>\n      <td>2WD</td>\n      <td>Gasoline</td>\n      <td>FA</td>\n      <td>T3B125</td>\n      <td>Federal Tier 3 Bin 125</td>\n      <td>JHNXT03.5GV3</td>\n      <td>small SUV</td>\n      <td>3</td>\n      <td>20</td>\n      <td>28</td>\n      <td>23</td>\n      <td>5</td>\n      <td>No</td>\n      <td>386</td>\n    </tr>\n    <tr>\n      <th>1</th>\n      <td>ACURA RDX</td>\n      <td>3.5</td>\n      <td>6.0</td>\n      <td>SemiAuto-6</td>\n      <td>2WD</td>\n      <td>Gasoline</td>\n      <td>CA</td>\n      <td>U2</td>\n      <td>California LEV-II ULEV</td>\n      <td>JHNXT03.5GV3</td>\n      <td>small SUV</td>\n      <td>3</td>\n      <td>20</td>\n      <td>28</td>\n      <td>23</td>\n      <td>5</td>\n      <td>No</td>\n      <td>386</td>\n    </tr>\n    <tr>\n      <th>2</th>\n      <td>ACURA RDX</td>\n      <td>3.5</td>\n      <td>6.0</td>\n      <td>SemiAuto-6</td>\n      <td>4WD</td>\n      <td>Gasoline</td>\n      <td>FA</td>\n      <td>T3B125</td>\n      <td>Federal Tier 3 Bin 125</td>\n      <td>JHNXT03.5GV3</td>\n      <td>small SUV</td>\n      <td>3</td>\n      <td>19</td>\n      <td>27</td>\n      <td>22</td>\n      <td>4</td>\n      <td>No</td>\n      <td>402</td>\n    </tr>\n    <tr>\n      <th>3</th>\n      <td>ACURA RDX</td>\n      <td>3.5</td>\n      <td>6.0</td>\n      <td>SemiAuto-6</td>\n      <td>4WD</td>\n      <td>Gasoline</td>\n      <td>CA</td>\n      <td>U2</td>\n      <td>California LEV-II ULEV</td>\n      <td>JHNXT03.5GV3</td>\n      <td>small SUV</td>\n      <td>3</td>\n      <td>19</td>\n      <td>27</td>\n      <td>22</td>\n      <td>4</td>\n      <td>No</td>\n      <td>402</td>\n    </tr>\n    <tr>\n      <th>4</th>\n      <td>ACURA TLX</td>\n      <td>2.4</td>\n      <td>4.0</td>\n      <td>AMS-8</td>\n      <td>2WD</td>\n      <td>Gasoline</td>\n      <td>CA</td>\n      <td>L3ULEV125</td>\n      <td>California LEV-III ULEV125</td>\n      <td>JHNXV02.4WH3</td>\n      <td>small car</td>\n      <td>3</td>\n      <td>23</td>\n      <td>33</td>\n      <td>27</td>\n      <td>6</td>\n      <td>No</td>\n      <td>330</td>\n    </tr>\n  </tbody>\n</table>\n</div>"
     },
     "execution_count": 4,
     "metadata": {},
     "output_type": "execute_result"
    }
   ],
   "source": [
    "df_14.head()"
   ]
  },
  {
   "cell_type": "code",
   "execution_count": 5,
   "metadata": {
    "collapsed": false,
    "ExecuteTime": {
     "end_time": "2023-07-09T11:25:41.271832200Z",
     "start_time": "2023-07-09T11:25:41.219139900Z"
    }
   },
   "outputs": [
    {
     "name": "stdout",
     "output_type": "stream",
     "text": [
      "Number of rows in 2010 and 2014 data set respectively are 2404 and 1611.\n",
      "\n",
      "Number of columns in 2010 and 2014 data set respectively are 18 and 18.\n",
      "\n"
     ]
    }
   ],
   "source": [
    "# number of samples in each dataset\n",
    "print('Number of rows in 2010 and 2014 data set respectively are '+str(df_10.shape[0])+' and '+str(df_14.shape[0])+'.\\n')\n",
    "print('Number of columns in 2010 and 2014 data set respectively are '+str(df_10.shape[1])+' and '+str(df_14.shape[1])+'.\\n')"
   ]
  },
  {
   "cell_type": "code",
   "execution_count": 6,
   "metadata": {
    "collapsed": false,
    "ExecuteTime": {
     "end_time": "2023-07-09T11:25:42.112930200Z",
     "start_time": "2023-07-09T11:25:42.093743800Z"
    }
   },
   "outputs": [
    {
     "name": "stdout",
     "output_type": "stream",
     "text": [
      "Number of duplicate row in 2010 and 2014 dataset respectively are 25 and 0.\n"
     ]
    }
   ],
   "source": [
    "# duplicate rows in 2010 dataset\n",
    "print('Number of duplicate row in 2010 and 2014 dataset respectively are '+str(df_10.duplicated().sum())+' and '\n",
    "      +str(df_14.duplicated().sum())+'.')"
   ]
  },
  {
   "cell_type": "code",
   "execution_count": 7,
   "metadata": {
    "collapsed": false,
    "ExecuteTime": {
     "end_time": "2023-07-09T11:25:43.062742600Z",
     "start_time": "2023-07-09T11:25:43.025410300Z"
    }
   },
   "outputs": [
    {
     "data": {
      "text/plain": "Model                     0\nDispl                     0\nCyl                     199\nTrans                   199\nDrive                    93\nFuel                      0\nSales Area                0\nStnd                      0\nUnderhood ID              0\nVeh Class                 0\nAir Pollution Score       0\nFE Calc Appr            199\nCity MPG                199\nHwy MPG                 199\nCmb MPG                 199\nUnadj Cmb MPG           199\nGreenhouse Gas Score    199\nSmartWay                  0\ndtype: int64"
     },
     "execution_count": 7,
     "metadata": {},
     "output_type": "execute_result"
    }
   ],
   "source": [
    "#features with missing values\n",
    "df_10.isnull().sum()"
   ]
  },
  {
   "cell_type": "code",
   "execution_count": 8,
   "metadata": {
    "collapsed": false,
    "ExecuteTime": {
     "end_time": "2023-07-09T11:25:43.863978700Z",
     "start_time": "2023-07-09T11:25:43.841629200Z"
    }
   },
   "outputs": [
    {
     "data": {
      "text/plain": "Model                   0\nDispl                   2\nCyl                     2\nTrans                   0\nDrive                   0\nFuel                    0\nCert Region             0\nStnd                    0\nStnd Description        0\nUnderhood ID            0\nVeh Class               0\nAir Pollution Score     0\nCity MPG                0\nHwy MPG                 0\nCmb MPG                 0\nGreenhouse Gas Score    0\nSmartWay                0\nComb CO2                0\ndtype: int64"
     },
     "execution_count": 8,
     "metadata": {},
     "output_type": "execute_result"
    }
   ],
   "source": [
    "df_14.isnull().sum()"
   ]
  },
  {
   "cell_type": "code",
   "execution_count": 9,
   "metadata": {
    "collapsed": false,
    "ExecuteTime": {
     "end_time": "2023-07-09T11:25:44.589867900Z",
     "start_time": "2023-07-09T11:25:44.570163500Z"
    }
   },
   "outputs": [
    {
     "data": {
      "text/plain": "Model                    object\nDispl                   float64\nCyl                      object\nTrans                    object\nDrive                    object\nFuel                     object\nSales Area               object\nStnd                     object\nUnderhood ID             object\nVeh Class                object\nAir Pollution Score      object\nFE Calc Appr             object\nCity MPG                 object\nHwy MPG                  object\nCmb MPG                  object\nUnadj Cmb MPG           float64\nGreenhouse Gas Score     object\nSmartWay                 object\ndtype: object"
     },
     "execution_count": 9,
     "metadata": {},
     "output_type": "execute_result"
    }
   ],
   "source": [
    "# Data types for each variables in the 2010 dataset\n",
    "df_10.dtypes"
   ]
  },
  {
   "cell_type": "code",
   "execution_count": 10,
   "metadata": {
    "collapsed": false,
    "ExecuteTime": {
     "end_time": "2023-07-09T11:25:45.279763Z",
     "start_time": "2023-07-09T11:25:45.266448200Z"
    }
   },
   "outputs": [
    {
     "data": {
      "text/plain": "Model                    object\nDispl                   float64\nCyl                     float64\nTrans                    object\nDrive                    object\nFuel                     object\nCert Region              object\nStnd                     object\nStnd Description         object\nUnderhood ID             object\nVeh Class                object\nAir Pollution Score       int64\nCity MPG                 object\nHwy MPG                  object\nCmb MPG                  object\nGreenhouse Gas Score      int64\nSmartWay                 object\nComb CO2                 object\ndtype: object"
     },
     "execution_count": 10,
     "metadata": {},
     "output_type": "execute_result"
    }
   ],
   "source": [
    "# # Data types for each variables in the 2014 dataset\n",
    "df_14.dtypes"
   ]
  },
  {
   "cell_type": "code",
   "execution_count": 11,
   "metadata": {
    "collapsed": false,
    "ExecuteTime": {
     "end_time": "2023-07-09T11:25:45.801758400Z",
     "start_time": "2023-07-09T11:25:45.786673200Z"
    }
   },
   "outputs": [
    {
     "data": {
      "text/plain": "Model                   436\nDispl                    47\nCyl                       8\nTrans                    14\nDrive                     2\nFuel                      5\nSales Area                3\nStnd                     12\nUnderhood ID            343\nVeh Class                 9\nAir Pollution Score      13\nFE Calc Appr              2\nCity MPG                 39\nHwy MPG                  43\nCmb MPG                  38\nUnadj Cmb MPG           721\nGreenhouse Gas Score     20\nSmartWay                  2\ndtype: int64"
     },
     "execution_count": 11,
     "metadata": {},
     "output_type": "execute_result"
    }
   ],
   "source": [
    "# number of non-null unique values for features in 2010 dataset\n",
    "df_10.nunique()"
   ]
  },
  {
   "cell_type": "code",
   "execution_count": 12,
   "metadata": {
    "collapsed": false,
    "ExecuteTime": {
     "end_time": "2023-07-09T11:25:46.274173300Z",
     "start_time": "2023-07-09T11:25:46.250173400Z"
    }
   },
   "outputs": [
    {
     "data": {
      "text/plain": "Model                   367\nDispl                    36\nCyl                       7\nTrans                    26\nDrive                     2\nFuel                      5\nCert Region               2\nStnd                     19\nStnd Description         19\nUnderhood ID            230\nVeh Class                 9\nAir Pollution Score       6\nCity MPG                 58\nHwy MPG                  62\nCmb MPG                  57\nGreenhouse Gas Score     10\nSmartWay                  3\nComb CO2                299\ndtype: int64"
     },
     "execution_count": 12,
     "metadata": {},
     "output_type": "execute_result"
    }
   ],
   "source": [
    "# number of non-null unique values for features in 2014 dataset\n",
    "df_14.nunique()"
   ]
  },
  {
   "cell_type": "code",
   "execution_count": 13,
   "metadata": {
    "collapsed": false,
    "ExecuteTime": {
     "end_time": "2023-07-09T11:25:46.623682100Z",
     "start_time": "2023-07-09T11:25:46.587045900Z"
    }
   },
   "outputs": [
    {
     "data": {
      "text/plain": "array(['Gasoline', 'ethanol/gas', 'ethanol', 'diesel', 'CNG'],\n      dtype=object)"
     },
     "execution_count": 13,
     "metadata": {},
     "output_type": "execute_result"
    }
   ],
   "source": [
    "df_10['Fuel'].unique()"
   ]
  },
  {
   "cell_type": "code",
   "execution_count": 14,
   "metadata": {
    "collapsed": false,
    "ExecuteTime": {
     "end_time": "2023-07-09T11:25:47.079043300Z",
     "start_time": "2023-07-09T11:25:47.065549500Z"
    }
   },
   "outputs": [
    {
     "data": {
      "text/plain": "array(['Gasoline', 'Gasoline/Electricity', 'Diesel', 'Ethanol/Gas',\n       'Electricity'], dtype=object)"
     },
     "execution_count": 14,
     "metadata": {},
     "output_type": "execute_result"
    }
   ],
   "source": [
    "df_14['Fuel'].unique()"
   ]
  },
  {
   "cell_type": "markdown",
   "metadata": {
    "collapsed": false
   },
   "source": [
    "# Cleaning Column Labels And Dropping Extraneous Columns\n",
    "\n",
    "1. Drop extraneous columns that are not consistent or aren't relevant to our questions.\n",
    "   - From 2010 dataset: 'Stnd', 'Underhood ID', 'FE Calc Appr', 'Unadj Cmb MPG'\n",
    "   - From 2014 dataset: 'Stnd', 'Stnd Description', 'Underhood ID', 'Comb CO2'\n",
    "2. Renaming Columns labels\n",
    "   - Change the \"Sales Area\" column label in the 2010 dataset to \"Cert Region\" for consistency.\n",
    "   - Rename all column labels to replace spaces with underscores and convert everything to lowercase.\n",
    "\n"
   ]
  },
  {
   "cell_type": "markdown",
   "metadata": {
    "collapsed": false
   },
   "source": [
    "### Dropping Extraneous Columns"
   ]
  },
  {
   "cell_type": "code",
   "execution_count": 15,
   "metadata": {
    "collapsed": false,
    "ExecuteTime": {
     "end_time": "2023-07-09T11:25:48.953541100Z",
     "start_time": "2023-07-09T11:25:48.937254500Z"
    }
   },
   "outputs": [
    {
     "data": {
      "text/plain": "       Model  Displ      Cyl    Trans Drive      Fuel Sales Area Veh Class  \\\n0  ACURA MDX    3.7  (6 cyl)  Auto-S5   4WD  Gasoline         CA       SUV   \n\n  Air Pollution Score City MPG Hwy MPG Cmb MPG Greenhouse Gas Score SmartWay  \n0                   7       15      20      17                    4       no  ",
      "text/html": "<div>\n<style scoped>\n    .dataframe tbody tr th:only-of-type {\n        vertical-align: middle;\n    }\n\n    .dataframe tbody tr th {\n        vertical-align: top;\n    }\n\n    .dataframe thead th {\n        text-align: right;\n    }\n</style>\n<table border=\"1\" class=\"dataframe\">\n  <thead>\n    <tr style=\"text-align: right;\">\n      <th></th>\n      <th>Model</th>\n      <th>Displ</th>\n      <th>Cyl</th>\n      <th>Trans</th>\n      <th>Drive</th>\n      <th>Fuel</th>\n      <th>Sales Area</th>\n      <th>Veh Class</th>\n      <th>Air Pollution Score</th>\n      <th>City MPG</th>\n      <th>Hwy MPG</th>\n      <th>Cmb MPG</th>\n      <th>Greenhouse Gas Score</th>\n      <th>SmartWay</th>\n    </tr>\n  </thead>\n  <tbody>\n    <tr>\n      <th>0</th>\n      <td>ACURA MDX</td>\n      <td>3.7</td>\n      <td>(6 cyl)</td>\n      <td>Auto-S5</td>\n      <td>4WD</td>\n      <td>Gasoline</td>\n      <td>CA</td>\n      <td>SUV</td>\n      <td>7</td>\n      <td>15</td>\n      <td>20</td>\n      <td>17</td>\n      <td>4</td>\n      <td>no</td>\n    </tr>\n  </tbody>\n</table>\n</div>"
     },
     "execution_count": 15,
     "metadata": {},
     "output_type": "execute_result"
    }
   ],
   "source": [
    "#dropping extraneous columns from 2010\n",
    "df_10.drop(['Stnd', 'Underhood ID', 'FE Calc Appr', 'Unadj Cmb MPG'], axis=1, inplace= True)\n",
    "\n",
    "# validate changes\n",
    "df_10.head(1)"
   ]
  },
  {
   "cell_type": "code",
   "execution_count": 16,
   "metadata": {
    "collapsed": false,
    "ExecuteTime": {
     "end_time": "2023-07-09T11:25:49.705124300Z",
     "start_time": "2023-07-09T11:25:49.690168600Z"
    }
   },
   "outputs": [
    {
     "data": {
      "text/plain": "       Model  Displ  Cyl       Trans Drive      Fuel Cert Region  Veh Class  \\\n0  ACURA RDX    3.5  6.0  SemiAuto-6   2WD  Gasoline          FA  small SUV   \n\n   Air Pollution Score City MPG Hwy MPG Cmb MPG  Greenhouse Gas Score SmartWay  \n0                    3       20      28      23                     5       No  ",
      "text/html": "<div>\n<style scoped>\n    .dataframe tbody tr th:only-of-type {\n        vertical-align: middle;\n    }\n\n    .dataframe tbody tr th {\n        vertical-align: top;\n    }\n\n    .dataframe thead th {\n        text-align: right;\n    }\n</style>\n<table border=\"1\" class=\"dataframe\">\n  <thead>\n    <tr style=\"text-align: right;\">\n      <th></th>\n      <th>Model</th>\n      <th>Displ</th>\n      <th>Cyl</th>\n      <th>Trans</th>\n      <th>Drive</th>\n      <th>Fuel</th>\n      <th>Cert Region</th>\n      <th>Veh Class</th>\n      <th>Air Pollution Score</th>\n      <th>City MPG</th>\n      <th>Hwy MPG</th>\n      <th>Cmb MPG</th>\n      <th>Greenhouse Gas Score</th>\n      <th>SmartWay</th>\n    </tr>\n  </thead>\n  <tbody>\n    <tr>\n      <th>0</th>\n      <td>ACURA RDX</td>\n      <td>3.5</td>\n      <td>6.0</td>\n      <td>SemiAuto-6</td>\n      <td>2WD</td>\n      <td>Gasoline</td>\n      <td>FA</td>\n      <td>small SUV</td>\n      <td>3</td>\n      <td>20</td>\n      <td>28</td>\n      <td>23</td>\n      <td>5</td>\n      <td>No</td>\n    </tr>\n  </tbody>\n</table>\n</div>"
     },
     "execution_count": 16,
     "metadata": {},
     "output_type": "execute_result"
    }
   ],
   "source": [
    "#dropping extraneous columns from 2014\n",
    "df_14.drop(['Stnd', 'Stnd Description', 'Underhood ID', 'Comb CO2'], axis=1, inplace=True)\n",
    "\n",
    "#validate changes\n",
    "df_14.head(1)"
   ]
  },
  {
   "cell_type": "markdown",
   "metadata": {
    "collapsed": false
   },
   "source": [
    "### Renaming Columns"
   ]
  },
  {
   "cell_type": "code",
   "execution_count": 17,
   "metadata": {
    "collapsed": false,
    "ExecuteTime": {
     "end_time": "2023-07-09T11:25:50.749485600Z",
     "start_time": "2023-07-09T11:25:50.737973300Z"
    }
   },
   "outputs": [
    {
     "data": {
      "text/plain": "       Model  Displ      Cyl    Trans Drive      Fuel Cert Region Veh Class  \\\n0  ACURA MDX    3.7  (6 cyl)  Auto-S5   4WD  Gasoline          CA       SUV   \n\n  Air Pollution Score City MPG Hwy MPG Cmb MPG Greenhouse Gas Score SmartWay  \n0                   7       15      20      17                    4       no  ",
      "text/html": "<div>\n<style scoped>\n    .dataframe tbody tr th:only-of-type {\n        vertical-align: middle;\n    }\n\n    .dataframe tbody tr th {\n        vertical-align: top;\n    }\n\n    .dataframe thead th {\n        text-align: right;\n    }\n</style>\n<table border=\"1\" class=\"dataframe\">\n  <thead>\n    <tr style=\"text-align: right;\">\n      <th></th>\n      <th>Model</th>\n      <th>Displ</th>\n      <th>Cyl</th>\n      <th>Trans</th>\n      <th>Drive</th>\n      <th>Fuel</th>\n      <th>Cert Region</th>\n      <th>Veh Class</th>\n      <th>Air Pollution Score</th>\n      <th>City MPG</th>\n      <th>Hwy MPG</th>\n      <th>Cmb MPG</th>\n      <th>Greenhouse Gas Score</th>\n      <th>SmartWay</th>\n    </tr>\n  </thead>\n  <tbody>\n    <tr>\n      <th>0</th>\n      <td>ACURA MDX</td>\n      <td>3.7</td>\n      <td>(6 cyl)</td>\n      <td>Auto-S5</td>\n      <td>4WD</td>\n      <td>Gasoline</td>\n      <td>CA</td>\n      <td>SUV</td>\n      <td>7</td>\n      <td>15</td>\n      <td>20</td>\n      <td>17</td>\n      <td>4</td>\n      <td>no</td>\n    </tr>\n  </tbody>\n</table>\n</div>"
     },
     "execution_count": 17,
     "metadata": {},
     "output_type": "execute_result"
    }
   ],
   "source": [
    "# Renaming \"Sales Area\" column label in the 2010 dataset to \"Cert Region\" for consistency.\n",
    "df_10.rename(columns={\"Sales Area\": \"Cert Region\"}, inplace=True)\n",
    "\n",
    "# validate changes\n",
    "df_10.head(1)"
   ]
  },
  {
   "cell_type": "code",
   "execution_count": 18,
   "metadata": {
    "collapsed": false,
    "ExecuteTime": {
     "end_time": "2023-07-09T11:25:51.410260700Z",
     "start_time": "2023-07-09T11:25:51.378213700Z"
    }
   },
   "outputs": [
    {
     "data": {
      "text/plain": "       model  displ      cyl    trans drive      fuel cert_region veh_class  \\\n0  ACURA MDX    3.7  (6 cyl)  Auto-S5   4WD  Gasoline          CA       SUV   \n\n  air_pollution_score city_mpg hwy_mpg cmb_mpg greenhouse_gas_score smartway  \n0                   7       15      20      17                    4       no  ",
      "text/html": "<div>\n<style scoped>\n    .dataframe tbody tr th:only-of-type {\n        vertical-align: middle;\n    }\n\n    .dataframe tbody tr th {\n        vertical-align: top;\n    }\n\n    .dataframe thead th {\n        text-align: right;\n    }\n</style>\n<table border=\"1\" class=\"dataframe\">\n  <thead>\n    <tr style=\"text-align: right;\">\n      <th></th>\n      <th>model</th>\n      <th>displ</th>\n      <th>cyl</th>\n      <th>trans</th>\n      <th>drive</th>\n      <th>fuel</th>\n      <th>cert_region</th>\n      <th>veh_class</th>\n      <th>air_pollution_score</th>\n      <th>city_mpg</th>\n      <th>hwy_mpg</th>\n      <th>cmb_mpg</th>\n      <th>greenhouse_gas_score</th>\n      <th>smartway</th>\n    </tr>\n  </thead>\n  <tbody>\n    <tr>\n      <th>0</th>\n      <td>ACURA MDX</td>\n      <td>3.7</td>\n      <td>(6 cyl)</td>\n      <td>Auto-S5</td>\n      <td>4WD</td>\n      <td>Gasoline</td>\n      <td>CA</td>\n      <td>SUV</td>\n      <td>7</td>\n      <td>15</td>\n      <td>20</td>\n      <td>17</td>\n      <td>4</td>\n      <td>no</td>\n    </tr>\n  </tbody>\n</table>\n</div>"
     },
     "execution_count": 18,
     "metadata": {},
     "output_type": "execute_result"
    }
   ],
   "source": [
    "# replace spaces with underscores and lowercase labels for 2008 dataset\n",
    "df_10.rename(columns=lambda x : x.strip().lower().replace(' ','_'), inplace=True)\n",
    "\n",
    "# validate changes\n",
    "df_10.head(1)"
   ]
  },
  {
   "cell_type": "code",
   "execution_count": 19,
   "metadata": {
    "collapsed": false,
    "ExecuteTime": {
     "end_time": "2023-07-09T11:25:51.927518600Z",
     "start_time": "2023-07-09T11:25:51.913988700Z"
    }
   },
   "outputs": [
    {
     "data": {
      "text/plain": "       model  displ  cyl       trans drive      fuel cert_region  veh_class  \\\n0  ACURA RDX    3.5  6.0  SemiAuto-6   2WD  Gasoline          FA  small SUV   \n\n   air_pollution_score city_mpg hwy_mpg cmb_mpg  greenhouse_gas_score smartway  \n0                    3       20      28      23                     5       No  ",
      "text/html": "<div>\n<style scoped>\n    .dataframe tbody tr th:only-of-type {\n        vertical-align: middle;\n    }\n\n    .dataframe tbody tr th {\n        vertical-align: top;\n    }\n\n    .dataframe thead th {\n        text-align: right;\n    }\n</style>\n<table border=\"1\" class=\"dataframe\">\n  <thead>\n    <tr style=\"text-align: right;\">\n      <th></th>\n      <th>model</th>\n      <th>displ</th>\n      <th>cyl</th>\n      <th>trans</th>\n      <th>drive</th>\n      <th>fuel</th>\n      <th>cert_region</th>\n      <th>veh_class</th>\n      <th>air_pollution_score</th>\n      <th>city_mpg</th>\n      <th>hwy_mpg</th>\n      <th>cmb_mpg</th>\n      <th>greenhouse_gas_score</th>\n      <th>smartway</th>\n    </tr>\n  </thead>\n  <tbody>\n    <tr>\n      <th>0</th>\n      <td>ACURA RDX</td>\n      <td>3.5</td>\n      <td>6.0</td>\n      <td>SemiAuto-6</td>\n      <td>2WD</td>\n      <td>Gasoline</td>\n      <td>FA</td>\n      <td>small SUV</td>\n      <td>3</td>\n      <td>20</td>\n      <td>28</td>\n      <td>23</td>\n      <td>5</td>\n      <td>No</td>\n    </tr>\n  </tbody>\n</table>\n</div>"
     },
     "execution_count": 19,
     "metadata": {},
     "output_type": "execute_result"
    }
   ],
   "source": [
    "# replace spaces with underscores and lowercase labels for 201 dataset\n",
    "df_14.rename(columns=lambda x : x.strip().lower().replace(' ','_'), inplace=True)\n",
    "\n",
    "#validate changes\n",
    "df_14.head(1)"
   ]
  },
  {
   "cell_type": "code",
   "execution_count": 20,
   "metadata": {
    "collapsed": false,
    "ExecuteTime": {
     "end_time": "2023-07-09T11:25:52.656959700Z",
     "start_time": "2023-07-09T11:25:52.634623300Z"
    }
   },
   "outputs": [
    {
     "data": {
      "text/plain": "array([ True,  True,  True,  True,  True,  True,  True,  True,  True,\n        True,  True,  True,  True,  True])"
     },
     "execution_count": 20,
     "metadata": {},
     "output_type": "execute_result"
    }
   ],
   "source": [
    "# confirm column labels for 2010 and 2014 datasets are identical\n",
    "df_10.columns == df_14.columns"
   ]
  },
  {
   "cell_type": "markdown",
   "metadata": {
    "collapsed": false
   },
   "source": [
    "# Filter, Drop Nulls, Dedupe\n",
    "1. Filter: For consistency, only compare cars certified by California standards.\n",
    "2. Drop Nulls: Drop any rows in both datasets that contain missing values.\n",
    "3. Dedupe: Drop any duplicate rows in both datasets."
   ]
  },
  {
   "cell_type": "markdown",
   "metadata": {
    "collapsed": false
   },
   "source": [
    "## Filter Data"
   ]
  },
  {
   "cell_type": "code",
   "execution_count": 21,
   "metadata": {
    "collapsed": false,
    "ExecuteTime": {
     "end_time": "2023-07-09T11:25:55.744632300Z",
     "start_time": "2023-07-09T11:25:55.732013400Z"
    }
   },
   "outputs": [],
   "source": [
    "# filter datasets for rows following California standards\n",
    "df_10 = df_10.query('cert_region == \"CA\"')\n",
    "df_14 = df_14.query('cert_region == \"CA\"')"
   ]
  },
  {
   "cell_type": "code",
   "execution_count": 22,
   "metadata": {
    "collapsed": false,
    "ExecuteTime": {
     "end_time": "2023-07-09T11:25:56.342034Z",
     "start_time": "2023-07-09T11:25:56.316237700Z"
    }
   },
   "outputs": [
    {
     "data": {
      "text/plain": "array(['CA'], dtype=object)"
     },
     "execution_count": 22,
     "metadata": {},
     "output_type": "execute_result"
    }
   ],
   "source": [
    "# confirm only certification region is California\n",
    "df_14['cert_region'].unique()"
   ]
  },
  {
   "cell_type": "code",
   "execution_count": 23,
   "metadata": {
    "collapsed": false,
    "ExecuteTime": {
     "end_time": "2023-07-09T11:25:58.416648800Z",
     "start_time": "2023-07-09T11:25:58.389793800Z"
    }
   },
   "outputs": [],
   "source": [
    "# drop certification region columns form both datasets\n",
    "if 'cert_region' in df_10.columns:\n",
    "    df_10.drop('cert_region', axis=1, inplace=True)\n",
    "else:\n",
    "    print(\"'cert_region' column not found in df_10\")\n",
    "\n",
    "if 'cert_region' in df_14.columns:\n",
    "    df_14.drop('cert_region', axis=1, inplace=True)\n",
    "else:\n",
    "    print(\"'cert_region' column not found in df_14\")"
   ]
  },
  {
   "cell_type": "code",
   "execution_count": 24,
   "metadata": {
    "collapsed": false,
    "ExecuteTime": {
     "end_time": "2023-07-09T11:25:59.277956500Z",
     "start_time": "2023-07-09T11:25:59.264144700Z"
    }
   },
   "outputs": [
    {
     "data": {
      "text/plain": "(1084, 13)"
     },
     "execution_count": 24,
     "metadata": {},
     "output_type": "execute_result"
    }
   ],
   "source": [
    "df_10.shape"
   ]
  },
  {
   "cell_type": "code",
   "execution_count": 25,
   "metadata": {
    "collapsed": false,
    "ExecuteTime": {
     "end_time": "2023-07-09T11:25:59.724684800Z",
     "start_time": "2023-07-09T11:25:59.672009600Z"
    }
   },
   "outputs": [
    {
     "data": {
      "text/plain": "(798, 13)"
     },
     "execution_count": 25,
     "metadata": {},
     "output_type": "execute_result"
    }
   ],
   "source": [
    "df_14.shape"
   ]
  },
  {
   "cell_type": "markdown",
   "metadata": {
    "collapsed": false
   },
   "source": [
    "## Drop Rows with Missing Values"
   ]
  },
  {
   "cell_type": "code",
   "execution_count": 26,
   "metadata": {
    "collapsed": false,
    "ExecuteTime": {
     "end_time": "2023-07-09T11:26:01.382671600Z",
     "start_time": "2023-07-09T11:26:01.353158800Z"
    }
   },
   "outputs": [
    {
     "data": {
      "text/plain": "model                    0\ndispl                    0\ncyl                     75\ntrans                   75\ndrive                   37\nfuel                     0\nveh_class                0\nair_pollution_score      0\ncity_mpg                75\nhwy_mpg                 75\ncmb_mpg                 75\ngreenhouse_gas_score    75\nsmartway                 0\ndtype: int64"
     },
     "execution_count": 26,
     "metadata": {},
     "output_type": "execute_result"
    }
   ],
   "source": [
    "# view missing value count for each feature in 2010\n",
    "df_10.isnull().sum()"
   ]
  },
  {
   "cell_type": "code",
   "execution_count": 27,
   "metadata": {
    "collapsed": false,
    "ExecuteTime": {
     "end_time": "2023-07-09T11:26:02.165732400Z",
     "start_time": "2023-07-09T11:26:02.157206Z"
    }
   },
   "outputs": [
    {
     "data": {
      "text/plain": "model                   0\ndispl                   1\ncyl                     1\ntrans                   0\ndrive                   0\nfuel                    0\nveh_class               0\nair_pollution_score     0\ncity_mpg                0\nhwy_mpg                 0\ncmb_mpg                 0\ngreenhouse_gas_score    0\nsmartway                0\ndtype: int64"
     },
     "execution_count": 27,
     "metadata": {},
     "output_type": "execute_result"
    }
   ],
   "source": [
    "# view missing value count for each feature in 2018\n",
    "df_14.isnull().sum()"
   ]
  },
  {
   "cell_type": "code",
   "execution_count": 28,
   "metadata": {
    "collapsed": false,
    "ExecuteTime": {
     "end_time": "2023-07-09T11:26:02.848270100Z",
     "start_time": "2023-07-09T11:26:02.834988600Z"
    }
   },
   "outputs": [],
   "source": [
    "# drop rows with any null values in both datasets\n",
    "df_10.dropna(inplace=True)\n",
    "df_14.dropna(inplace=True)"
   ]
  },
  {
   "cell_type": "code",
   "execution_count": 29,
   "metadata": {
    "collapsed": false,
    "ExecuteTime": {
     "end_time": "2023-07-09T11:26:03.863926300Z",
     "start_time": "2023-07-09T11:26:03.853121500Z"
    }
   },
   "outputs": [
    {
     "data": {
      "text/plain": "False"
     },
     "execution_count": 29,
     "metadata": {},
     "output_type": "execute_result"
    }
   ],
   "source": [
    "# checks if any of columns in 2010 have null values - should print False\n",
    "df_10.isnull().sum().any()"
   ]
  },
  {
   "cell_type": "code",
   "execution_count": 30,
   "metadata": {
    "collapsed": false,
    "ExecuteTime": {
     "end_time": "2023-07-09T11:26:04.760198900Z",
     "start_time": "2023-07-09T11:26:04.733913400Z"
    }
   },
   "outputs": [
    {
     "data": {
      "text/plain": "False"
     },
     "execution_count": 30,
     "metadata": {},
     "output_type": "execute_result"
    }
   ],
   "source": [
    "# checks if any of columns in 2010 have null values - should print False\n",
    "df_14.isnull().sum().any()"
   ]
  },
  {
   "cell_type": "markdown",
   "metadata": {
    "collapsed": false
   },
   "source": [
    "## Dedupe Data"
   ]
  },
  {
   "cell_type": "code",
   "execution_count": 31,
   "metadata": {
    "collapsed": false,
    "ExecuteTime": {
     "end_time": "2023-07-09T11:26:05.820287Z",
     "start_time": "2023-07-09T11:26:05.809901500Z"
    }
   },
   "outputs": [
    {
     "name": "stdout",
     "output_type": "stream",
     "text": [
      "Number of duplicate row in 2010 and 2014 dataset respectively are 23 and 3.\n"
     ]
    }
   ],
   "source": [
    "# duplicate rows in both dataset\n",
    "print('Number of duplicate row in 2010 and 2014 dataset respectively are '+str(df_10.duplicated().sum())+' and '\n",
    "      +str(df_14.duplicated().sum())+'.')"
   ]
  },
  {
   "cell_type": "code",
   "execution_count": 32,
   "metadata": {
    "collapsed": false,
    "ExecuteTime": {
     "end_time": "2023-07-09T11:26:06.566585900Z",
     "start_time": "2023-07-09T11:26:06.552102Z"
    }
   },
   "outputs": [],
   "source": [
    "#drop duplicates in both dataset\n",
    "df_10.drop_duplicates(inplace=True)\n",
    "df_14.drop_duplicates(inplace=True)"
   ]
  },
  {
   "cell_type": "code",
   "execution_count": 33,
   "metadata": {
    "collapsed": false,
    "ExecuteTime": {
     "end_time": "2023-07-09T11:26:07.158221600Z",
     "start_time": "2023-07-09T11:26:07.145040600Z"
    }
   },
   "outputs": [
    {
     "name": "stdout",
     "output_type": "stream",
     "text": [
      "Number of duplicate row in 2010 and 2014 dataset respectively are 0 and 0.\n"
     ]
    }
   ],
   "source": [
    "# check for duplicate rows in both dataset again\n",
    "print('Number of duplicate row in 2010 and 2014 dataset respectively are '+str(df_10.duplicated().sum())+' and '\n",
    "      +str(df_14.duplicated().sum())+'.')"
   ]
  },
  {
   "cell_type": "markdown",
   "metadata": {
    "collapsed": false
   },
   "source": [
    "# Inspecting Data Types\n",
    "Inspect the data types in both dataset and make necessary changes."
   ]
  },
  {
   "cell_type": "code",
   "execution_count": 34,
   "metadata": {
    "collapsed": false,
    "ExecuteTime": {
     "end_time": "2023-07-09T11:26:08.245058500Z",
     "start_time": "2023-07-09T11:26:08.234025600Z"
    }
   },
   "outputs": [
    {
     "data": {
      "text/plain": "model                    object\ndispl                   float64\ncyl                      object\ntrans                    object\ndrive                    object\nfuel                     object\nveh_class                object\nair_pollution_score      object\ncity_mpg                 object\nhwy_mpg                  object\ncmb_mpg                  object\ngreenhouse_gas_score     object\nsmartway                 object\ndtype: object"
     },
     "execution_count": 34,
     "metadata": {},
     "output_type": "execute_result"
    }
   ],
   "source": [
    "# inspect the datatypes for 200 data\n",
    "df_10.dtypes"
   ]
  },
  {
   "cell_type": "code",
   "execution_count": 35,
   "metadata": {
    "collapsed": false,
    "ExecuteTime": {
     "end_time": "2023-07-09T11:26:08.798422700Z",
     "start_time": "2023-07-09T11:26:08.779279500Z"
    }
   },
   "outputs": [
    {
     "data": {
      "text/plain": "model                    object\ndispl                   float64\ncyl                     float64\ntrans                    object\ndrive                    object\nfuel                     object\nveh_class                object\nair_pollution_score       int64\ncity_mpg                 object\nhwy_mpg                  object\ncmb_mpg                  object\ngreenhouse_gas_score      int64\nsmartway                 object\ndtype: object"
     },
     "execution_count": 35,
     "metadata": {},
     "output_type": "execute_result"
    }
   ],
   "source": [
    "# inspect the datatypes for 2014 data\n",
    "df_14.dtypes"
   ]
  },
  {
   "cell_type": "code",
   "execution_count": 36,
   "metadata": {
    "collapsed": false,
    "ExecuteTime": {
     "end_time": "2023-07-09T11:26:09.397817900Z",
     "start_time": "2023-07-09T11:26:09.386142900Z"
    }
   },
   "outputs": [
    {
     "data": {
      "text/plain": "cyl\n(6 cyl)     409\n(4 cyl)     283\n(8 cyl)     199\n(5 cyl)      48\n(12 cyl)     30\n(10 cyl)     14\n(2 cyl)       2\n(16 cyl)      1\nName: count, dtype: int64"
     },
     "execution_count": 36,
     "metadata": {},
     "output_type": "execute_result"
    }
   ],
   "source": [
    "# check value counts for the 2010 cyl column\n",
    "df_10['cyl'].value_counts()"
   ]
  },
  {
   "cell_type": "code",
   "execution_count": 37,
   "metadata": {
    "collapsed": false,
    "ExecuteTime": {
     "end_time": "2023-07-09T11:26:10.254838300Z",
     "start_time": "2023-07-09T11:26:10.242662800Z"
    }
   },
   "outputs": [
    {
     "data": {
      "text/plain": "cyl\n4.0     365\n6.0     246\n8.0     153\n3.0      18\n12.0      9\n5.0       2\n16.0      1\nName: count, dtype: int64"
     },
     "execution_count": 37,
     "metadata": {},
     "output_type": "execute_result"
    }
   ],
   "source": [
    "# check value counts for the 2014 cyl column\n",
    "df_14['cyl'].value_counts()"
   ]
  },
  {
   "cell_type": "markdown",
   "metadata": {
    "collapsed": false
   },
   "source": [
    "Fixing `cyl` Data Type\n",
    "\n",
    "- 2010: extract int from string\n",
    "- 2014: convert float to int\n",
    "\n"
   ]
  },
  {
   "cell_type": "code",
   "execution_count": 38,
   "metadata": {
    "collapsed": false,
    "ExecuteTime": {
     "end_time": "2023-07-09T11:26:12.827707500Z",
     "start_time": "2023-07-09T11:26:12.809845800Z"
    }
   },
   "outputs": [],
   "source": [
    "# Extract int from strings in the 2010 cyl column\n",
    "df_10['cyl'] = df_10.cyl.str.extract('(\\d+)').astype(int)"
   ]
  },
  {
   "cell_type": "code",
   "execution_count": 39,
   "metadata": {
    "collapsed": false,
    "ExecuteTime": {
     "end_time": "2023-07-09T11:26:13.437477300Z",
     "start_time": "2023-07-09T11:26:13.401825100Z"
    }
   },
   "outputs": [
    {
     "data": {
      "text/plain": "cyl\n6     409\n4     283\n8     199\n5      48\n12     30\n10     14\n2       2\n16      1\nName: count, dtype: int64"
     },
     "execution_count": 39,
     "metadata": {},
     "output_type": "execute_result"
    }
   ],
   "source": [
    "# Check value counts for 2010 cyl column again to confirm the change\n",
    "df_10.cyl.value_counts()"
   ]
  },
  {
   "cell_type": "code",
   "execution_count": 40,
   "metadata": {
    "collapsed": false,
    "ExecuteTime": {
     "end_time": "2023-07-09T11:26:14.125819400Z",
     "start_time": "2023-07-09T11:26:14.113762500Z"
    }
   },
   "outputs": [],
   "source": [
    "# convert 2014 cyl column to int\n",
    "df_14.cyl = df_14.cyl.astype(int)"
   ]
  },
  {
   "cell_type": "code",
   "execution_count": 41,
   "metadata": {
    "collapsed": false,
    "ExecuteTime": {
     "end_time": "2023-07-09T11:26:14.682157700Z",
     "start_time": "2023-07-09T11:26:14.656863400Z"
    }
   },
   "outputs": [
    {
     "data": {
      "text/plain": "cyl\n4     365\n6     246\n8     153\n3      18\n12      9\n5       2\n16      1\nName: count, dtype: int64"
     },
     "execution_count": 41,
     "metadata": {},
     "output_type": "execute_result"
    }
   ],
   "source": [
    "# Check value counts for 2014 cyl column again to confirm the change\n",
    "df_14.cyl.value_counts()"
   ]
  },
  {
   "cell_type": "markdown",
   "metadata": {
    "collapsed": false
   },
   "source": [
    "# Fixing `air_pollution_score` Data Type\n",
    "\n",
    "- 2010 convert string to float\n",
    "- 2014: convert int to float\n",
    "\n"
   ]
  },
  {
   "cell_type": "code",
   "execution_count": 42,
   "metadata": {
    "collapsed": false,
    "ExecuteTime": {
     "end_time": "2023-07-09T11:26:16.035751500Z",
     "start_time": "2023-07-09T11:26:16.025712600Z"
    }
   },
   "outputs": [
    {
     "name": "stdout",
     "output_type": "stream",
     "text": [
      "Column not found: Air Pollution Score\n"
     ]
    }
   ],
   "source": [
    "if 'Air Pollution Score' in df_10.columns:\n",
    "    df_10['Air Pollution Score'].value_counts()\n",
    "else:\n",
    "    print('Column not found: Air Pollution Score')"
   ]
  },
  {
   "cell_type": "markdown",
   "metadata": {
    "collapsed": false
   },
   "source": [
    "# Figuring out the issue\n",
    "Looks like this isn't going to be as simple as converting the datatype. According to the error above, the air pollution score value in one of the rows is \"6/4\" - let's check it out."
   ]
  },
  {
   "cell_type": "code",
   "execution_count": 43,
   "metadata": {
    "collapsed": false,
    "ExecuteTime": {
     "end_time": "2023-07-09T11:26:16.964961200Z",
     "start_time": "2023-07-09T11:26:16.953864200Z"
    }
   },
   "outputs": [
    {
     "name": "stdout",
     "output_type": "stream",
     "text": [
      "Column 'Air Pollution Score' does not exist in the DataFrame\n"
     ]
    }
   ],
   "source": [
    "if 'Air Pollution Score' in df_10.columns:\n",
    "    filtered_df = df_10[df_10['Air Pollution Score'] == '6/4']\n",
    "else:\n",
    "    print(\"Column 'Air Pollution Score' does not exist in the DataFrame\")"
   ]
  },
  {
   "cell_type": "code",
   "execution_count": 44,
   "metadata": {
    "collapsed": false,
    "ExecuteTime": {
     "end_time": "2023-07-09T11:26:17.469630200Z",
     "start_time": "2023-07-09T11:26:17.456305800Z"
    }
   },
   "outputs": [
    {
     "name": "stdout",
     "output_type": "stream",
     "text": [
      "model\n",
      "NISSAN Altima             12\n",
      "HONDA Accord              11\n",
      "FORD Ranger               10\n",
      "DODGE RAM 1500             9\n",
      "SUBARU Legacy              8\n",
      "                          ..\n",
      "MERCEDES-BENZ S65 AMG      1\n",
      "MERCEDES-BENZ SL55 AMG     1\n",
      "MERCEDES-BENZ SL550        1\n",
      "MERCEDES-BENZ SL600        1\n",
      "ACURA MDX                  1\n",
      "Name: count, Length: 377, dtype: int64\n",
      "displ\n",
      "2.4    96\n",
      "2.5    89\n",
      "3.5    87\n",
      "3.0    71\n",
      "2.0    59\n",
      "3.6    53\n",
      "4.0    40\n",
      "3.7    38\n",
      "2.3    35\n",
      "2.7    32\n",
      "3.8    26\n",
      "5.3    26\n",
      "4.6    24\n",
      "4.2    22\n",
      "4.7    22\n",
      "6.0    19\n",
      "5.7    18\n",
      "1.8    18\n",
      "2.2    17\n",
      "3.2    17\n",
      "5.4    14\n",
      "6.2    14\n",
      "5.0    13\n",
      "5.5    13\n",
      "4.8    11\n",
      "4.3    11\n",
      "3.3    11\n",
      "3.1     9\n",
      "1.6     8\n",
      "3.4     8\n",
      "4.4     8\n",
      "5.6     8\n",
      "1.5     6\n",
      "2.8     6\n",
      "5.9     6\n",
      "6.1     6\n",
      "6.5     5\n",
      "6.7     5\n",
      "4.5     3\n",
      "3.9     3\n",
      "1.3     3\n",
      "5.2     2\n",
      "8.4     2\n",
      "8.0     1\n",
      "7.0     1\n",
      "Name: count, dtype: int64\n",
      "cyl\n",
      "6     409\n",
      "4     283\n",
      "8     199\n",
      "5      48\n",
      "12     30\n",
      "10     14\n",
      "2       2\n",
      "16      1\n",
      "Name: count, dtype: int64\n",
      "trans\n",
      "Auto-L4    176\n",
      "Auto-S6    162\n",
      "Auto-L5    157\n",
      "Man-6      142\n",
      "Man-5      123\n",
      "Auto-S5     71\n",
      "Auto-L6     56\n",
      "Auto-AV     45\n",
      "Auto-S4     21\n",
      "Auto-L7     14\n",
      "Auto-S7     11\n",
      "Auto-6       4\n",
      "S8           4\n",
      "Name: count, dtype: int64\n",
      "drive\n",
      "2WD    661\n",
      "4WD    325\n",
      "Name: count, dtype: int64\n",
      "fuel\n",
      "Gasoline       984\n",
      "CNG              1\n",
      "ethanol/gas      1\n",
      "Name: count, dtype: int64\n",
      "veh_class\n",
      "small car        332\n",
      "SUV              280\n",
      "midsize car      138\n",
      "pickup            83\n",
      "station wagon     60\n",
      "large car         55\n",
      "van               21\n",
      "minivan           17\n",
      "Name: count, dtype: int64\n",
      "air_pollution_score\n",
      "6      500\n",
      "7      398\n",
      "9.5     80\n",
      "9        7\n",
      "6/4      1\n",
      "Name: count, dtype: int64\n",
      "city_mpg\n",
      "17       109\n",
      "16        96\n",
      "20        96\n",
      "15        90\n",
      "19        87\n",
      "18        80\n",
      "13        72\n",
      "14        71\n",
      "21        64\n",
      "12        57\n",
      "22        44\n",
      "23        21\n",
      "24        20\n",
      "11        17\n",
      "10        14\n",
      "25         8\n",
      "27         8\n",
      "26         8\n",
      "9          6\n",
      "29         5\n",
      "34         3\n",
      "8          3\n",
      "28         2\n",
      "40         1\n",
      "13/18      1\n",
      "35         1\n",
      "33         1\n",
      "48         1\n",
      "Name: count, dtype: int64\n",
      "hwy_mpg\n",
      "24       111\n",
      "26        82\n",
      "25        76\n",
      "28        70\n",
      "20        69\n",
      "19        69\n",
      "27        60\n",
      "22        59\n",
      "18        58\n",
      "29        49\n",
      "23        48\n",
      "17        41\n",
      "31        41\n",
      "30        33\n",
      "21        26\n",
      "16        25\n",
      "33        19\n",
      "32        16\n",
      "15        10\n",
      "14         5\n",
      "35         5\n",
      "34         4\n",
      "36         3\n",
      "13         3\n",
      "45         2\n",
      "19/25      1\n",
      "37         1\n",
      "Name: count, dtype: int64\n",
      "cmb_mpg\n",
      "22       101\n",
      "20        94\n",
      "19        89\n",
      "21        83\n",
      "15        82\n",
      "18        77\n",
      "24        67\n",
      "14        64\n",
      "17        61\n",
      "23        59\n",
      "16        53\n",
      "25        36\n",
      "26        24\n",
      "27        17\n",
      "13        16\n",
      "12        15\n",
      "28        13\n",
      "29        12\n",
      "11         7\n",
      "32         4\n",
      "10         3\n",
      "31         3\n",
      "34         2\n",
      "42         1\n",
      "30         1\n",
      "15/21      1\n",
      "46         1\n",
      "Name: count, dtype: int64\n",
      "greenhouse_gas_score\n",
      "6      278\n",
      "5      166\n",
      "7      162\n",
      "4      114\n",
      "3       82\n",
      "8       66\n",
      "2       64\n",
      "0       25\n",
      "1       16\n",
      "9       10\n",
      "10       2\n",
      "7/6      1\n",
      "Name: count, dtype: int64\n",
      "smartway\n",
      "no     606\n",
      "yes    380\n",
      "Name: count, dtype: int64\n"
     ]
    }
   ],
   "source": [
    "for col_name in df_10.columns:\n",
    "    print(df_10[col_name].value_counts())"
   ]
  },
  {
   "cell_type": "code",
   "execution_count": 45,
   "metadata": {
    "collapsed": false,
    "ExecuteTime": {
     "end_time": "2023-07-09T11:26:17.913270200Z",
     "start_time": "2023-07-09T11:26:17.891893700Z"
    }
   },
   "outputs": [
    {
     "name": "stdout",
     "output_type": "stream",
     "text": [
      "model\n",
      "FORD F150                    22\n",
      "CHEVROLET Silverado 15       13\n",
      "GMC Sierra 15                13\n",
      "CHEVROLET Camaro              8\n",
      "CHEVROLET Colorado            8\n",
      "                             ..\n",
      "MERCEDES-BENZ E300 4Matic     1\n",
      "MERCEDES-BENZ GLA 250         1\n",
      "BMW X4 xDrive28i              1\n",
      "MERCEDES-BENZ GLC 300         1\n",
      "KIA Sedona                    1\n",
      "Name: count, Length: 357, dtype: int64\n",
      "displ\n",
      "2.0    211\n",
      "3.0    113\n",
      "3.6     50\n",
      "2.5     37\n",
      "2.4     35\n",
      "5.3     34\n",
      "1.5     34\n",
      "3.5     29\n",
      "1.6     26\n",
      "6.2     24\n",
      "1.4     18\n",
      "4.0     18\n",
      "3.3     18\n",
      "5.7     18\n",
      "1.8     15\n",
      "5.0     13\n",
      "4.4     13\n",
      "3.7     10\n",
      "2.7      9\n",
      "6.4      8\n",
      "3.9      7\n",
      "3.8      6\n",
      "4.7      6\n",
      "2.8      5\n",
      "5.5      5\n",
      "6.5      5\n",
      "3.2      4\n",
      "5.6      4\n",
      "1.2      4\n",
      "4.3      4\n",
      "4.6      3\n",
      "2.9      3\n",
      "6.0      2\n",
      "6.3      1\n",
      "6.6      1\n",
      "8.0      1\n",
      "Name: count, dtype: int64\n",
      "cyl\n",
      "4     365\n",
      "6     246\n",
      "8     153\n",
      "3      18\n",
      "12      9\n",
      "5       2\n",
      "16      1\n",
      "Name: count, dtype: int64\n",
      "trans\n",
      "SemiAuto-8     172\n",
      "SemiAuto-6     128\n",
      "Man-6           82\n",
      "Auto-6          62\n",
      "Auto-8          57\n",
      "Auto-9          49\n",
      "AMS-7           49\n",
      "AutoMan-7       29\n",
      "SemiAuto-10     21\n",
      "CVT             18\n",
      "SemiAuto-7      18\n",
      "Man-7           17\n",
      "SCV-7           15\n",
      "Auto-7          15\n",
      "AMS-8           13\n",
      "Man-5           10\n",
      "Auto-10          8\n",
      "SemiAuto-9       8\n",
      "SCV-6            7\n",
      "AMS-6            6\n",
      "Auto-4           3\n",
      "SCV-8            2\n",
      "SemiAuto-5       2\n",
      "AutoMan-6        1\n",
      "Auto-1           1\n",
      "SCV-10           1\n",
      "Name: count, dtype: int64\n",
      "drive\n",
      "2WD    438\n",
      "4WD    356\n",
      "Name: count, dtype: int64\n",
      "fuel\n",
      "Gasoline                737\n",
      "Ethanol/Gas              26\n",
      "Diesel                   19\n",
      "Gasoline/Electricity     12\n",
      "Name: count, dtype: int64\n",
      "veh_class\n",
      "small car          278\n",
      "midsize car        135\n",
      "small SUV          104\n",
      "large car           82\n",
      "standard SUV        75\n",
      "pickup              71\n",
      "station wagon       34\n",
      "special purpose     10\n",
      "minivan              5\n",
      "Name: count, dtype: int64\n",
      "air_pollution_score\n",
      "3    372\n",
      "5    187\n",
      "7    139\n",
      "1     89\n",
      "6      7\n",
      "Name: count, dtype: int64\n",
      "city_mpg\n",
      "22        74\n",
      "16        66\n",
      "20        65\n",
      "21        65\n",
      "18        55\n",
      "19        54\n",
      "17        52\n",
      "23        43\n",
      "24        41\n",
      "15        41\n",
      "25        31\n",
      "28        30\n",
      "27        24\n",
      "14        24\n",
      "13        20\n",
      "26        19\n",
      "29        14\n",
      "30         9\n",
      "31         7\n",
      "12/16      6\n",
      "10         4\n",
      "11/16      4\n",
      "13/18      3\n",
      "12         3\n",
      "33         3\n",
      "32         2\n",
      "9/13       2\n",
      "14/19      2\n",
      "43/113     2\n",
      "12/17      2\n",
      "12/18      2\n",
      "49         1\n",
      "26/60      1\n",
      "26/70      1\n",
      "9          1\n",
      "34         1\n",
      "48         1\n",
      "44         1\n",
      "51         1\n",
      "40         1\n",
      "35         1\n",
      "37         1\n",
      "28/63      1\n",
      "17/23      1\n",
      "17/24      1\n",
      "28/66      1\n",
      "20/59      1\n",
      "14/21      1\n",
      "15/21      1\n",
      "27/70      1\n",
      "27/66      1\n",
      "43         1\n",
      "43/102     1\n",
      "25/62      1\n",
      "14/18      1\n",
      "26/63      1\n",
      "Name: count, dtype: int64\n",
      "hwy_mpg\n",
      "25       67\n",
      "30       61\n",
      "28       56\n",
      "24       47\n",
      "29       46\n",
      "22       44\n",
      "23       42\n",
      "27       41\n",
      "26       40\n",
      "32       39\n",
      "33       35\n",
      "31       33\n",
      "34       31\n",
      "36       22\n",
      "35       19\n",
      "37       19\n",
      "21       19\n",
      "20       15\n",
      "18       12\n",
      "38       12\n",
      "40       11\n",
      "19       10\n",
      "39        8\n",
      "17/23     6\n",
      "17        6\n",
      "41        4\n",
      "15/22     4\n",
      "16        3\n",
      "43        3\n",
      "22/30     3\n",
      "16/22     2\n",
      "42/99     2\n",
      "20/27     2\n",
      "16/24     2\n",
      "15        2\n",
      "47        2\n",
      "42        2\n",
      "23/31     1\n",
      "17/22     1\n",
      "27/66     1\n",
      "21/61     1\n",
      "53        1\n",
      "13/17     1\n",
      "12/17     1\n",
      "33/72     1\n",
      "24/32     1\n",
      "28/58     1\n",
      "45        1\n",
      "21/28     1\n",
      "41/91     1\n",
      "20/28     1\n",
      "48        1\n",
      "52        1\n",
      "29/68     1\n",
      "31/68     1\n",
      "31/75     1\n",
      "34/78     1\n",
      "14        1\n",
      "30/61     1\n",
      "Name: count, dtype: int64\n",
      "cmb_mpg\n",
      "23        67\n",
      "25        64\n",
      "19        61\n",
      "24        53\n",
      "21        53\n",
      "22        52\n",
      "27        47\n",
      "20        46\n",
      "18        44\n",
      "26        38\n",
      "17        34\n",
      "28        33\n",
      "32        27\n",
      "29        26\n",
      "16        19\n",
      "30        17\n",
      "31        15\n",
      "15        15\n",
      "33         9\n",
      "34         8\n",
      "14/19      7\n",
      "35         5\n",
      "12         4\n",
      "36         3\n",
      "14         3\n",
      "37         3\n",
      "17/23      3\n",
      "46         3\n",
      "13         2\n",
      "16/21      2\n",
      "13/18      2\n",
      "42/106     2\n",
      "14/20      2\n",
      "12/18      2\n",
      "13/19      2\n",
      "19/26      1\n",
      "26/59      1\n",
      "29/71      1\n",
      "10/15      1\n",
      "10/14      1\n",
      "52         1\n",
      "40         1\n",
      "11         1\n",
      "39         1\n",
      "27/65      1\n",
      "20/27      1\n",
      "30/71      1\n",
      "20/60      1\n",
      "18/25      1\n",
      "29/72      1\n",
      "28/67      1\n",
      "42         1\n",
      "42/97      1\n",
      "27/64      1\n",
      "16/22      1\n",
      "27/62      1\n",
      "Name: count, dtype: int64\n",
      "greenhouse_gas_score\n",
      "5     225\n",
      "4     159\n",
      "3     153\n",
      "6     109\n",
      "7      63\n",
      "2      35\n",
      "8      20\n",
      "10     14\n",
      "1      11\n",
      "9       5\n",
      "Name: count, dtype: int64\n",
      "smartway\n",
      "No       697\n",
      "Yes       87\n",
      "Elite     10\n",
      "Name: count, dtype: int64\n"
     ]
    }
   ],
   "source": [
    "for col_name in df_14.columns:\n",
    "    print(df_14[col_name].value_counts())"
   ]
  },
  {
   "cell_type": "markdown",
   "metadata": {
    "collapsed": false
   },
   "source": [
    "# It's not just the air pollution score!\n",
    "\n",
    "The mpg columns and greenhouse gas scores also seem to have the same problem - maybe that's why these were all saved as strings! According to [this link](http://www.fueleconomy.gov/feg/findacarhelp.shtml#airPollutionScore), which I found from the PDF documentation:\n",
    "\n",
    "    \"If a vehicle can operate on more than one type of fuel, an estimate is provided for each fuel type.\"\n",
    "\n",
    "Ohh.. so all vehicles with more than one fuel type, or hybrids, like the one above \\(it uses ethanol AND gas\\) will have a string that holds two values \\- one for each. This is a little tricky, so I'm going to show you how to do it with the 2010 dataset, and then you'll try it with the 2014 dataset.\n"
   ]
  },
  {
   "cell_type": "code",
   "execution_count": 46,
   "metadata": {
    "collapsed": false,
    "ExecuteTime": {
     "end_time": "2023-07-09T11:26:22.237487500Z",
     "start_time": "2023-07-09T11:26:22.205590300Z"
    }
   },
   "outputs": [
    {
     "data": {
      "text/plain": "                   model  displ  cyl    trans drive         fuel  veh_class  \\\n1550  MERCEDES-BENZ C300    3.0    6  Auto-L7   2WD  ethanol/gas  small car   \n\n     air_pollution_score city_mpg hwy_mpg cmb_mpg greenhouse_gas_score  \\\n1550                 6/4    13/18   19/25   15/21                  7/6   \n\n     smartway  \n1550       no  ",
      "text/html": "<div>\n<style scoped>\n    .dataframe tbody tr th:only-of-type {\n        vertical-align: middle;\n    }\n\n    .dataframe tbody tr th {\n        vertical-align: top;\n    }\n\n    .dataframe thead th {\n        text-align: right;\n    }\n</style>\n<table border=\"1\" class=\"dataframe\">\n  <thead>\n    <tr style=\"text-align: right;\">\n      <th></th>\n      <th>model</th>\n      <th>displ</th>\n      <th>cyl</th>\n      <th>trans</th>\n      <th>drive</th>\n      <th>fuel</th>\n      <th>veh_class</th>\n      <th>air_pollution_score</th>\n      <th>city_mpg</th>\n      <th>hwy_mpg</th>\n      <th>cmb_mpg</th>\n      <th>greenhouse_gas_score</th>\n      <th>smartway</th>\n    </tr>\n  </thead>\n  <tbody>\n    <tr>\n      <th>1550</th>\n      <td>MERCEDES-BENZ C300</td>\n      <td>3.0</td>\n      <td>6</td>\n      <td>Auto-L7</td>\n      <td>2WD</td>\n      <td>ethanol/gas</td>\n      <td>small car</td>\n      <td>6/4</td>\n      <td>13/18</td>\n      <td>19/25</td>\n      <td>15/21</td>\n      <td>7/6</td>\n      <td>no</td>\n    </tr>\n  </tbody>\n</table>\n</div>"
     },
     "execution_count": 46,
     "metadata": {},
     "output_type": "execute_result"
    }
   ],
   "source": [
    "# First, let's get all the hybrids in 2008\n",
    "hb_10 = df_10[df_10['fuel'].str.contains('/')]\n",
    "hb_10"
   ]
  },
  {
   "cell_type": "code",
   "execution_count": 47,
   "metadata": {
    "collapsed": false,
    "ExecuteTime": {
     "end_time": "2023-07-09T11:26:23.005902500Z",
     "start_time": "2023-07-09T11:26:22.995430Z"
    }
   },
   "outputs": [
    {
     "data": {
      "text/plain": "                                  model  displ  cyl       trans drive  \\\n108                            BMW 330e    2.0    4  SemiAuto-8   2WD   \n160                            BMW 530e    2.0    4  SemiAuto-8   2WD   \n162                            BMW 530e    2.0    4  SemiAuto-8   4WD   \n188                            BMW 740e    2.0    4  SemiAuto-8   4WD   \n382                    CHEVROLET Impala    3.6    6  SemiAuto-6   2WD   \n394              CHEVROLET Silverado 15    4.3    6      Auto-6   2WD   \n396              CHEVROLET Silverado 15    4.3    6      Auto-6   4WD   \n398              CHEVROLET Silverado 15    5.3    8      Auto-6   2WD   \n428             CHEVROLET Suburban 1500    5.3    8      Auto-6   2WD   \n432             CHEVROLET Suburban 1500    5.3    8      Auto-6   4WD   \n436                CHEVROLET Tahoe 1500    5.3    8      Auto-6   2WD   \n440                CHEVROLET Tahoe 1500    5.3    8      Auto-6   4WD   \n454                      CHEVROLET Volt    1.5    4         CVT   2WD   \n456                      CHEVROLET Volt    1.5    4         CVT   2WD   \n458                        CHRYSLER 300    3.6    6      Auto-8   2WD   \n462                        CHRYSLER 300    3.6    6      Auto-8   4WD   \n492                       DODGE Charger    3.6    6      Auto-8   2WD   \n496                       DODGE Charger    3.6    6      Auto-8   4WD   \n605   FORD Fusion Energi Plug-in Hybrid    2.0    4         CVT   2WD   \n659                       GMC Sierra 15    4.3    6      Auto-6   2WD   \n661                       GMC Sierra 15    4.3    6      Auto-6   4WD   \n663                       GMC Sierra 15    5.3    8      Auto-6   2WD   \n697                      GMC Yukon 1500    5.3    8      Auto-6   2WD   \n701                      GMC Yukon 1500    5.3    8      Auto-6   4WD   \n709                   GMC Yukon 1500 XL    5.3    8      Auto-6   2WD   \n715                   GMC Yukon XL 1500    5.3    8      Auto-6   4WD   \n892                       JEEP Cherokee    2.4    4      Auto-9   2WD   \n896                       JEEP Cherokee    2.4    4      Auto-9   4WD   \n933                        KARMA Revero    2.0    4      Auto-1   2WD   \n1162        MERCEDES-BENZ CLA250 4Matic    2.0    4   AutoMan-7   4WD   \n1179        MERCEDES-BENZ GLA250 4Matic    2.0    4   AutoMan-7   4WD   \n1192        MERCEDES-BENZ GLE350 4Matic    3.5    6      Auto-7   4WD   \n1256     MINI Cooper SE Countryman All4    1.5    3  SemiAuto-6   4WD   \n1507                 TOYOTA Sequoia FFV    5.7    8  SemiAuto-6   4WD   \n1517                  TOYOTA Tundra FFV    5.7    8  SemiAuto-6   4WD   \n1577                          VOLVO S90    2.0    4  SemiAuto-8   4WD   \n1601                        VOLVO XC 60    2.0    4  SemiAuto-8   4WD   \n1609                        VOLVO XC 90    2.0    4  SemiAuto-8   4WD   \n\n                      fuel     veh_class  air_pollution_score city_mpg  \\\n108   Gasoline/Electricity     small car                    3    28/66   \n160   Gasoline/Electricity     small car                    7    27/70   \n162   Gasoline/Electricity     small car                    7    27/66   \n188   Gasoline/Electricity     large car                    3    25/62   \n382            Ethanol/Gas     large car                    5    14/18   \n394            Ethanol/Gas        pickup                    5    12/18   \n396            Ethanol/Gas        pickup                    5    12/17   \n398            Ethanol/Gas        pickup                    3    12/16   \n428            Ethanol/Gas  standard SUV                    3    12/16   \n432            Ethanol/Gas  standard SUV                    3    11/16   \n436            Ethanol/Gas  standard SUV                    3    12/16   \n440            Ethanol/Gas  standard SUV                    3    11/16   \n454   Gasoline/Electricity     small car                    3   43/113   \n456   Gasoline/Electricity     small car                    7   43/113   \n458            Ethanol/Gas     large car                    3    14/19   \n462            Ethanol/Gas     large car                    3    13/18   \n492            Ethanol/Gas     large car                    3    14/19   \n496            Ethanol/Gas     large car                    3    13/18   \n605   Gasoline/Electricity   midsize car                    7   43/102   \n659            Ethanol/Gas        pickup                    5    12/18   \n661            Ethanol/Gas        pickup                    5    12/17   \n663            Ethanol/Gas        pickup                    3    12/16   \n697            Ethanol/Gas  standard SUV                    3    12/16   \n701            Ethanol/Gas  standard SUV                    3    11/16   \n709            Ethanol/Gas  standard SUV                    3    12/16   \n715            Ethanol/Gas  standard SUV                    3    11/16   \n892            Ethanol/Gas     small SUV                    3    15/21   \n896            Ethanol/Gas     small SUV                    3    14/21   \n933   Gasoline/Electricity     small car                    1    20/59   \n1162           Ethanol/Gas     small car                    5    17/24   \n1179           Ethanol/Gas     small SUV                    5    17/23   \n1192           Ethanol/Gas  standard SUV                    3    13/18   \n1256  Gasoline/Electricity   midsize car                    3    28/63   \n1507           Ethanol/Gas  standard SUV                    5     9/13   \n1517           Ethanol/Gas        pickup                    5     9/13   \n1577  Gasoline/Electricity   midsize car                    7    26/70   \n1601  Gasoline/Electricity     small SUV                    7    26/60   \n1609  Gasoline/Electricity  standard SUV                    7    26/63   \n\n     hwy_mpg cmb_mpg  greenhouse_gas_score smartway  \n108    34/78   30/71                    10      Yes  \n160    31/75   29/72                    10    Elite  \n162    31/68   28/67                    10    Elite  \n188    29/68   27/64                     9      Yes  \n382    20/28   16/22                     4       No  \n394    16/24   14/20                     4       No  \n396    15/22   13/19                     3       No  \n398    17/23   14/19                     3       No  \n428    17/23   14/19                     3       No  \n432    15/22   12/18                     3       No  \n436    17/23   14/19                     3       No  \n440    16/22   13/18                     3       No  \n454    42/99  42/106                    10      Yes  \n456    42/99  42/106                    10    Elite  \n458    22/30   17/23                     5       No  \n462    20/27   16/21                     4       No  \n492    22/30   17/23                     5       No  \n496    20/27   16/21                     4       No  \n605    41/91   42/97                    10    Elite  \n659    16/24   14/20                     4       No  \n661    15/22   13/19                     3       No  \n663    17/23   14/19                     3       No  \n697    17/23   14/19                     3       No  \n701    16/22   13/18                     3       No  \n709    17/23   14/19                     3       No  \n715    15/22   12/18                     3       No  \n892    22/30   18/25                     5       No  \n896    21/28   17/23                     5       No  \n933    21/61   20/60                    10       No  \n1162   24/32   20/27                     6       No  \n1179   23/31   19/26                     5       No  \n1192   17/22   14/19                     3       No  \n1256   27/66   27/65                     9      Yes  \n1507   13/17   10/14                     1       No  \n1517   12/17   10/15                     2       No  \n1577   33/72   29/71                    10    Elite  \n1601   28/58   26/59                    10    Elite  \n1609   30/61   27/62                    10    Elite  ",
      "text/html": "<div>\n<style scoped>\n    .dataframe tbody tr th:only-of-type {\n        vertical-align: middle;\n    }\n\n    .dataframe tbody tr th {\n        vertical-align: top;\n    }\n\n    .dataframe thead th {\n        text-align: right;\n    }\n</style>\n<table border=\"1\" class=\"dataframe\">\n  <thead>\n    <tr style=\"text-align: right;\">\n      <th></th>\n      <th>model</th>\n      <th>displ</th>\n      <th>cyl</th>\n      <th>trans</th>\n      <th>drive</th>\n      <th>fuel</th>\n      <th>veh_class</th>\n      <th>air_pollution_score</th>\n      <th>city_mpg</th>\n      <th>hwy_mpg</th>\n      <th>cmb_mpg</th>\n      <th>greenhouse_gas_score</th>\n      <th>smartway</th>\n    </tr>\n  </thead>\n  <tbody>\n    <tr>\n      <th>108</th>\n      <td>BMW 330e</td>\n      <td>2.0</td>\n      <td>4</td>\n      <td>SemiAuto-8</td>\n      <td>2WD</td>\n      <td>Gasoline/Electricity</td>\n      <td>small car</td>\n      <td>3</td>\n      <td>28/66</td>\n      <td>34/78</td>\n      <td>30/71</td>\n      <td>10</td>\n      <td>Yes</td>\n    </tr>\n    <tr>\n      <th>160</th>\n      <td>BMW 530e</td>\n      <td>2.0</td>\n      <td>4</td>\n      <td>SemiAuto-8</td>\n      <td>2WD</td>\n      <td>Gasoline/Electricity</td>\n      <td>small car</td>\n      <td>7</td>\n      <td>27/70</td>\n      <td>31/75</td>\n      <td>29/72</td>\n      <td>10</td>\n      <td>Elite</td>\n    </tr>\n    <tr>\n      <th>162</th>\n      <td>BMW 530e</td>\n      <td>2.0</td>\n      <td>4</td>\n      <td>SemiAuto-8</td>\n      <td>4WD</td>\n      <td>Gasoline/Electricity</td>\n      <td>small car</td>\n      <td>7</td>\n      <td>27/66</td>\n      <td>31/68</td>\n      <td>28/67</td>\n      <td>10</td>\n      <td>Elite</td>\n    </tr>\n    <tr>\n      <th>188</th>\n      <td>BMW 740e</td>\n      <td>2.0</td>\n      <td>4</td>\n      <td>SemiAuto-8</td>\n      <td>4WD</td>\n      <td>Gasoline/Electricity</td>\n      <td>large car</td>\n      <td>3</td>\n      <td>25/62</td>\n      <td>29/68</td>\n      <td>27/64</td>\n      <td>9</td>\n      <td>Yes</td>\n    </tr>\n    <tr>\n      <th>382</th>\n      <td>CHEVROLET Impala</td>\n      <td>3.6</td>\n      <td>6</td>\n      <td>SemiAuto-6</td>\n      <td>2WD</td>\n      <td>Ethanol/Gas</td>\n      <td>large car</td>\n      <td>5</td>\n      <td>14/18</td>\n      <td>20/28</td>\n      <td>16/22</td>\n      <td>4</td>\n      <td>No</td>\n    </tr>\n    <tr>\n      <th>394</th>\n      <td>CHEVROLET Silverado 15</td>\n      <td>4.3</td>\n      <td>6</td>\n      <td>Auto-6</td>\n      <td>2WD</td>\n      <td>Ethanol/Gas</td>\n      <td>pickup</td>\n      <td>5</td>\n      <td>12/18</td>\n      <td>16/24</td>\n      <td>14/20</td>\n      <td>4</td>\n      <td>No</td>\n    </tr>\n    <tr>\n      <th>396</th>\n      <td>CHEVROLET Silverado 15</td>\n      <td>4.3</td>\n      <td>6</td>\n      <td>Auto-6</td>\n      <td>4WD</td>\n      <td>Ethanol/Gas</td>\n      <td>pickup</td>\n      <td>5</td>\n      <td>12/17</td>\n      <td>15/22</td>\n      <td>13/19</td>\n      <td>3</td>\n      <td>No</td>\n    </tr>\n    <tr>\n      <th>398</th>\n      <td>CHEVROLET Silverado 15</td>\n      <td>5.3</td>\n      <td>8</td>\n      <td>Auto-6</td>\n      <td>2WD</td>\n      <td>Ethanol/Gas</td>\n      <td>pickup</td>\n      <td>3</td>\n      <td>12/16</td>\n      <td>17/23</td>\n      <td>14/19</td>\n      <td>3</td>\n      <td>No</td>\n    </tr>\n    <tr>\n      <th>428</th>\n      <td>CHEVROLET Suburban 1500</td>\n      <td>5.3</td>\n      <td>8</td>\n      <td>Auto-6</td>\n      <td>2WD</td>\n      <td>Ethanol/Gas</td>\n      <td>standard SUV</td>\n      <td>3</td>\n      <td>12/16</td>\n      <td>17/23</td>\n      <td>14/19</td>\n      <td>3</td>\n      <td>No</td>\n    </tr>\n    <tr>\n      <th>432</th>\n      <td>CHEVROLET Suburban 1500</td>\n      <td>5.3</td>\n      <td>8</td>\n      <td>Auto-6</td>\n      <td>4WD</td>\n      <td>Ethanol/Gas</td>\n      <td>standard SUV</td>\n      <td>3</td>\n      <td>11/16</td>\n      <td>15/22</td>\n      <td>12/18</td>\n      <td>3</td>\n      <td>No</td>\n    </tr>\n    <tr>\n      <th>436</th>\n      <td>CHEVROLET Tahoe 1500</td>\n      <td>5.3</td>\n      <td>8</td>\n      <td>Auto-6</td>\n      <td>2WD</td>\n      <td>Ethanol/Gas</td>\n      <td>standard SUV</td>\n      <td>3</td>\n      <td>12/16</td>\n      <td>17/23</td>\n      <td>14/19</td>\n      <td>3</td>\n      <td>No</td>\n    </tr>\n    <tr>\n      <th>440</th>\n      <td>CHEVROLET Tahoe 1500</td>\n      <td>5.3</td>\n      <td>8</td>\n      <td>Auto-6</td>\n      <td>4WD</td>\n      <td>Ethanol/Gas</td>\n      <td>standard SUV</td>\n      <td>3</td>\n      <td>11/16</td>\n      <td>16/22</td>\n      <td>13/18</td>\n      <td>3</td>\n      <td>No</td>\n    </tr>\n    <tr>\n      <th>454</th>\n      <td>CHEVROLET Volt</td>\n      <td>1.5</td>\n      <td>4</td>\n      <td>CVT</td>\n      <td>2WD</td>\n      <td>Gasoline/Electricity</td>\n      <td>small car</td>\n      <td>3</td>\n      <td>43/113</td>\n      <td>42/99</td>\n      <td>42/106</td>\n      <td>10</td>\n      <td>Yes</td>\n    </tr>\n    <tr>\n      <th>456</th>\n      <td>CHEVROLET Volt</td>\n      <td>1.5</td>\n      <td>4</td>\n      <td>CVT</td>\n      <td>2WD</td>\n      <td>Gasoline/Electricity</td>\n      <td>small car</td>\n      <td>7</td>\n      <td>43/113</td>\n      <td>42/99</td>\n      <td>42/106</td>\n      <td>10</td>\n      <td>Elite</td>\n    </tr>\n    <tr>\n      <th>458</th>\n      <td>CHRYSLER 300</td>\n      <td>3.6</td>\n      <td>6</td>\n      <td>Auto-8</td>\n      <td>2WD</td>\n      <td>Ethanol/Gas</td>\n      <td>large car</td>\n      <td>3</td>\n      <td>14/19</td>\n      <td>22/30</td>\n      <td>17/23</td>\n      <td>5</td>\n      <td>No</td>\n    </tr>\n    <tr>\n      <th>462</th>\n      <td>CHRYSLER 300</td>\n      <td>3.6</td>\n      <td>6</td>\n      <td>Auto-8</td>\n      <td>4WD</td>\n      <td>Ethanol/Gas</td>\n      <td>large car</td>\n      <td>3</td>\n      <td>13/18</td>\n      <td>20/27</td>\n      <td>16/21</td>\n      <td>4</td>\n      <td>No</td>\n    </tr>\n    <tr>\n      <th>492</th>\n      <td>DODGE Charger</td>\n      <td>3.6</td>\n      <td>6</td>\n      <td>Auto-8</td>\n      <td>2WD</td>\n      <td>Ethanol/Gas</td>\n      <td>large car</td>\n      <td>3</td>\n      <td>14/19</td>\n      <td>22/30</td>\n      <td>17/23</td>\n      <td>5</td>\n      <td>No</td>\n    </tr>\n    <tr>\n      <th>496</th>\n      <td>DODGE Charger</td>\n      <td>3.6</td>\n      <td>6</td>\n      <td>Auto-8</td>\n      <td>4WD</td>\n      <td>Ethanol/Gas</td>\n      <td>large car</td>\n      <td>3</td>\n      <td>13/18</td>\n      <td>20/27</td>\n      <td>16/21</td>\n      <td>4</td>\n      <td>No</td>\n    </tr>\n    <tr>\n      <th>605</th>\n      <td>FORD Fusion Energi Plug-in Hybrid</td>\n      <td>2.0</td>\n      <td>4</td>\n      <td>CVT</td>\n      <td>2WD</td>\n      <td>Gasoline/Electricity</td>\n      <td>midsize car</td>\n      <td>7</td>\n      <td>43/102</td>\n      <td>41/91</td>\n      <td>42/97</td>\n      <td>10</td>\n      <td>Elite</td>\n    </tr>\n    <tr>\n      <th>659</th>\n      <td>GMC Sierra 15</td>\n      <td>4.3</td>\n      <td>6</td>\n      <td>Auto-6</td>\n      <td>2WD</td>\n      <td>Ethanol/Gas</td>\n      <td>pickup</td>\n      <td>5</td>\n      <td>12/18</td>\n      <td>16/24</td>\n      <td>14/20</td>\n      <td>4</td>\n      <td>No</td>\n    </tr>\n    <tr>\n      <th>661</th>\n      <td>GMC Sierra 15</td>\n      <td>4.3</td>\n      <td>6</td>\n      <td>Auto-6</td>\n      <td>4WD</td>\n      <td>Ethanol/Gas</td>\n      <td>pickup</td>\n      <td>5</td>\n      <td>12/17</td>\n      <td>15/22</td>\n      <td>13/19</td>\n      <td>3</td>\n      <td>No</td>\n    </tr>\n    <tr>\n      <th>663</th>\n      <td>GMC Sierra 15</td>\n      <td>5.3</td>\n      <td>8</td>\n      <td>Auto-6</td>\n      <td>2WD</td>\n      <td>Ethanol/Gas</td>\n      <td>pickup</td>\n      <td>3</td>\n      <td>12/16</td>\n      <td>17/23</td>\n      <td>14/19</td>\n      <td>3</td>\n      <td>No</td>\n    </tr>\n    <tr>\n      <th>697</th>\n      <td>GMC Yukon 1500</td>\n      <td>5.3</td>\n      <td>8</td>\n      <td>Auto-6</td>\n      <td>2WD</td>\n      <td>Ethanol/Gas</td>\n      <td>standard SUV</td>\n      <td>3</td>\n      <td>12/16</td>\n      <td>17/23</td>\n      <td>14/19</td>\n      <td>3</td>\n      <td>No</td>\n    </tr>\n    <tr>\n      <th>701</th>\n      <td>GMC Yukon 1500</td>\n      <td>5.3</td>\n      <td>8</td>\n      <td>Auto-6</td>\n      <td>4WD</td>\n      <td>Ethanol/Gas</td>\n      <td>standard SUV</td>\n      <td>3</td>\n      <td>11/16</td>\n      <td>16/22</td>\n      <td>13/18</td>\n      <td>3</td>\n      <td>No</td>\n    </tr>\n    <tr>\n      <th>709</th>\n      <td>GMC Yukon 1500 XL</td>\n      <td>5.3</td>\n      <td>8</td>\n      <td>Auto-6</td>\n      <td>2WD</td>\n      <td>Ethanol/Gas</td>\n      <td>standard SUV</td>\n      <td>3</td>\n      <td>12/16</td>\n      <td>17/23</td>\n      <td>14/19</td>\n      <td>3</td>\n      <td>No</td>\n    </tr>\n    <tr>\n      <th>715</th>\n      <td>GMC Yukon XL 1500</td>\n      <td>5.3</td>\n      <td>8</td>\n      <td>Auto-6</td>\n      <td>4WD</td>\n      <td>Ethanol/Gas</td>\n      <td>standard SUV</td>\n      <td>3</td>\n      <td>11/16</td>\n      <td>15/22</td>\n      <td>12/18</td>\n      <td>3</td>\n      <td>No</td>\n    </tr>\n    <tr>\n      <th>892</th>\n      <td>JEEP Cherokee</td>\n      <td>2.4</td>\n      <td>4</td>\n      <td>Auto-9</td>\n      <td>2WD</td>\n      <td>Ethanol/Gas</td>\n      <td>small SUV</td>\n      <td>3</td>\n      <td>15/21</td>\n      <td>22/30</td>\n      <td>18/25</td>\n      <td>5</td>\n      <td>No</td>\n    </tr>\n    <tr>\n      <th>896</th>\n      <td>JEEP Cherokee</td>\n      <td>2.4</td>\n      <td>4</td>\n      <td>Auto-9</td>\n      <td>4WD</td>\n      <td>Ethanol/Gas</td>\n      <td>small SUV</td>\n      <td>3</td>\n      <td>14/21</td>\n      <td>21/28</td>\n      <td>17/23</td>\n      <td>5</td>\n      <td>No</td>\n    </tr>\n    <tr>\n      <th>933</th>\n      <td>KARMA Revero</td>\n      <td>2.0</td>\n      <td>4</td>\n      <td>Auto-1</td>\n      <td>2WD</td>\n      <td>Gasoline/Electricity</td>\n      <td>small car</td>\n      <td>1</td>\n      <td>20/59</td>\n      <td>21/61</td>\n      <td>20/60</td>\n      <td>10</td>\n      <td>No</td>\n    </tr>\n    <tr>\n      <th>1162</th>\n      <td>MERCEDES-BENZ CLA250 4Matic</td>\n      <td>2.0</td>\n      <td>4</td>\n      <td>AutoMan-7</td>\n      <td>4WD</td>\n      <td>Ethanol/Gas</td>\n      <td>small car</td>\n      <td>5</td>\n      <td>17/24</td>\n      <td>24/32</td>\n      <td>20/27</td>\n      <td>6</td>\n      <td>No</td>\n    </tr>\n    <tr>\n      <th>1179</th>\n      <td>MERCEDES-BENZ GLA250 4Matic</td>\n      <td>2.0</td>\n      <td>4</td>\n      <td>AutoMan-7</td>\n      <td>4WD</td>\n      <td>Ethanol/Gas</td>\n      <td>small SUV</td>\n      <td>5</td>\n      <td>17/23</td>\n      <td>23/31</td>\n      <td>19/26</td>\n      <td>5</td>\n      <td>No</td>\n    </tr>\n    <tr>\n      <th>1192</th>\n      <td>MERCEDES-BENZ GLE350 4Matic</td>\n      <td>3.5</td>\n      <td>6</td>\n      <td>Auto-7</td>\n      <td>4WD</td>\n      <td>Ethanol/Gas</td>\n      <td>standard SUV</td>\n      <td>3</td>\n      <td>13/18</td>\n      <td>17/22</td>\n      <td>14/19</td>\n      <td>3</td>\n      <td>No</td>\n    </tr>\n    <tr>\n      <th>1256</th>\n      <td>MINI Cooper SE Countryman All4</td>\n      <td>1.5</td>\n      <td>3</td>\n      <td>SemiAuto-6</td>\n      <td>4WD</td>\n      <td>Gasoline/Electricity</td>\n      <td>midsize car</td>\n      <td>3</td>\n      <td>28/63</td>\n      <td>27/66</td>\n      <td>27/65</td>\n      <td>9</td>\n      <td>Yes</td>\n    </tr>\n    <tr>\n      <th>1507</th>\n      <td>TOYOTA Sequoia FFV</td>\n      <td>5.7</td>\n      <td>8</td>\n      <td>SemiAuto-6</td>\n      <td>4WD</td>\n      <td>Ethanol/Gas</td>\n      <td>standard SUV</td>\n      <td>5</td>\n      <td>9/13</td>\n      <td>13/17</td>\n      <td>10/14</td>\n      <td>1</td>\n      <td>No</td>\n    </tr>\n    <tr>\n      <th>1517</th>\n      <td>TOYOTA Tundra FFV</td>\n      <td>5.7</td>\n      <td>8</td>\n      <td>SemiAuto-6</td>\n      <td>4WD</td>\n      <td>Ethanol/Gas</td>\n      <td>pickup</td>\n      <td>5</td>\n      <td>9/13</td>\n      <td>12/17</td>\n      <td>10/15</td>\n      <td>2</td>\n      <td>No</td>\n    </tr>\n    <tr>\n      <th>1577</th>\n      <td>VOLVO S90</td>\n      <td>2.0</td>\n      <td>4</td>\n      <td>SemiAuto-8</td>\n      <td>4WD</td>\n      <td>Gasoline/Electricity</td>\n      <td>midsize car</td>\n      <td>7</td>\n      <td>26/70</td>\n      <td>33/72</td>\n      <td>29/71</td>\n      <td>10</td>\n      <td>Elite</td>\n    </tr>\n    <tr>\n      <th>1601</th>\n      <td>VOLVO XC 60</td>\n      <td>2.0</td>\n      <td>4</td>\n      <td>SemiAuto-8</td>\n      <td>4WD</td>\n      <td>Gasoline/Electricity</td>\n      <td>small SUV</td>\n      <td>7</td>\n      <td>26/60</td>\n      <td>28/58</td>\n      <td>26/59</td>\n      <td>10</td>\n      <td>Elite</td>\n    </tr>\n    <tr>\n      <th>1609</th>\n      <td>VOLVO XC 90</td>\n      <td>2.0</td>\n      <td>4</td>\n      <td>SemiAuto-8</td>\n      <td>4WD</td>\n      <td>Gasoline/Electricity</td>\n      <td>standard SUV</td>\n      <td>7</td>\n      <td>26/63</td>\n      <td>30/61</td>\n      <td>27/62</td>\n      <td>10</td>\n      <td>Elite</td>\n    </tr>\n  </tbody>\n</table>\n</div>"
     },
     "execution_count": 47,
     "metadata": {},
     "output_type": "execute_result"
    }
   ],
   "source": [
    "# hybrids in 2014\n",
    "hb_14 = df_14[df_14['fuel'].str.contains('/')]\n",
    "hb_14"
   ]
  },
  {
   "cell_type": "markdown",
   "metadata": {
    "collapsed": false
   },
   "source": [
    "We're going to take each hybrid row and split them into two new rows - one with values for the first fuel type (values before the \"/\"), and the other with values for the second fuel type (values after the \"/\"). Let's separate them with two dataframes!"
   ]
  },
  {
   "cell_type": "code",
   "execution_count": 48,
   "metadata": {
    "collapsed": false,
    "ExecuteTime": {
     "end_time": "2023-07-09T11:26:24.446736500Z",
     "start_time": "2023-07-09T11:26:24.435036800Z"
    }
   },
   "outputs": [
    {
     "data": {
      "text/plain": "                   model  displ  cyl    trans drive         fuel  veh_class  \\\n1550  MERCEDES-BENZ C300    3.0    6  Auto-L7   2WD  ethanol/gas  small car   \n\n     air_pollution_score city_mpg hwy_mpg cmb_mpg greenhouse_gas_score  \\\n1550                 6/4    13/18   19/25   15/21                  7/6   \n\n     smartway  \n1550       no  ",
      "text/html": "<div>\n<style scoped>\n    .dataframe tbody tr th:only-of-type {\n        vertical-align: middle;\n    }\n\n    .dataframe tbody tr th {\n        vertical-align: top;\n    }\n\n    .dataframe thead th {\n        text-align: right;\n    }\n</style>\n<table border=\"1\" class=\"dataframe\">\n  <thead>\n    <tr style=\"text-align: right;\">\n      <th></th>\n      <th>model</th>\n      <th>displ</th>\n      <th>cyl</th>\n      <th>trans</th>\n      <th>drive</th>\n      <th>fuel</th>\n      <th>veh_class</th>\n      <th>air_pollution_score</th>\n      <th>city_mpg</th>\n      <th>hwy_mpg</th>\n      <th>cmb_mpg</th>\n      <th>greenhouse_gas_score</th>\n      <th>smartway</th>\n    </tr>\n  </thead>\n  <tbody>\n    <tr>\n      <th>1550</th>\n      <td>MERCEDES-BENZ C300</td>\n      <td>3.0</td>\n      <td>6</td>\n      <td>Auto-L7</td>\n      <td>2WD</td>\n      <td>ethanol/gas</td>\n      <td>small car</td>\n      <td>6/4</td>\n      <td>13/18</td>\n      <td>19/25</td>\n      <td>15/21</td>\n      <td>7/6</td>\n      <td>no</td>\n    </tr>\n  </tbody>\n</table>\n</div>"
     },
     "execution_count": 48,
     "metadata": {},
     "output_type": "execute_result"
    }
   ],
   "source": [
    "# create two copies of the 2010 hybrids dataframe\n",
    "df1 = hb_10.copy()  # data on first fuel type of each hybrid vehicle\n",
    "df2 = hb_10.copy()  # data on second fuel type of each hybrid vehicle\n",
    "\n",
    "# Each one should look like this\n",
    "df1"
   ]
  },
  {
   "cell_type": "code",
   "execution_count": 49,
   "metadata": {
    "collapsed": false,
    "ExecuteTime": {
     "end_time": "2023-07-09T11:26:25.198459500Z",
     "start_time": "2023-07-09T11:26:25.185954Z"
    }
   },
   "outputs": [
    {
     "data": {
      "text/plain": "                   model  displ  cyl    trans drive         fuel  veh_class  \\\n1550  MERCEDES-BENZ C300    3.0    6  Auto-L7   2WD  ethanol/gas  small car   \n\n     air_pollution_score city_mpg hwy_mpg cmb_mpg greenhouse_gas_score  \\\n1550                 6/4    13/18   19/25   15/21                  7/6   \n\n     smartway  \n1550       no  ",
      "text/html": "<div>\n<style scoped>\n    .dataframe tbody tr th:only-of-type {\n        vertical-align: middle;\n    }\n\n    .dataframe tbody tr th {\n        vertical-align: top;\n    }\n\n    .dataframe thead th {\n        text-align: right;\n    }\n</style>\n<table border=\"1\" class=\"dataframe\">\n  <thead>\n    <tr style=\"text-align: right;\">\n      <th></th>\n      <th>model</th>\n      <th>displ</th>\n      <th>cyl</th>\n      <th>trans</th>\n      <th>drive</th>\n      <th>fuel</th>\n      <th>veh_class</th>\n      <th>air_pollution_score</th>\n      <th>city_mpg</th>\n      <th>hwy_mpg</th>\n      <th>cmb_mpg</th>\n      <th>greenhouse_gas_score</th>\n      <th>smartway</th>\n    </tr>\n  </thead>\n  <tbody>\n    <tr>\n      <th>1550</th>\n      <td>MERCEDES-BENZ C300</td>\n      <td>3.0</td>\n      <td>6</td>\n      <td>Auto-L7</td>\n      <td>2WD</td>\n      <td>ethanol/gas</td>\n      <td>small car</td>\n      <td>6/4</td>\n      <td>13/18</td>\n      <td>19/25</td>\n      <td>15/21</td>\n      <td>7/6</td>\n      <td>no</td>\n    </tr>\n  </tbody>\n</table>\n</div>"
     },
     "execution_count": 49,
     "metadata": {},
     "output_type": "execute_result"
    }
   ],
   "source": [
    "# this dataframe holds info for the FIRST fuel type of the hybrid\n",
    "# aka the values before the \"/\"s\n",
    "df1"
   ]
  },
  {
   "cell_type": "code",
   "execution_count": 50,
   "metadata": {
    "collapsed": false,
    "ExecuteTime": {
     "end_time": "2023-07-09T11:26:27.468508300Z",
     "start_time": "2023-07-09T11:26:27.442172300Z"
    }
   },
   "outputs": [
    {
     "data": {
      "text/plain": "                   model  displ  cyl    trans drive         fuel  veh_class  \\\n1550  MERCEDES-BENZ C300    3.0    6  Auto-L7   2WD  ethanol/gas  small car   \n\n     air_pollution_score city_mpg hwy_mpg cmb_mpg greenhouse_gas_score  \\\n1550                 6/4    13/18   19/25   15/21                  7/6   \n\n     smartway  \n1550       no  ",
      "text/html": "<div>\n<style scoped>\n    .dataframe tbody tr th:only-of-type {\n        vertical-align: middle;\n    }\n\n    .dataframe tbody tr th {\n        vertical-align: top;\n    }\n\n    .dataframe thead th {\n        text-align: right;\n    }\n</style>\n<table border=\"1\" class=\"dataframe\">\n  <thead>\n    <tr style=\"text-align: right;\">\n      <th></th>\n      <th>model</th>\n      <th>displ</th>\n      <th>cyl</th>\n      <th>trans</th>\n      <th>drive</th>\n      <th>fuel</th>\n      <th>veh_class</th>\n      <th>air_pollution_score</th>\n      <th>city_mpg</th>\n      <th>hwy_mpg</th>\n      <th>cmb_mpg</th>\n      <th>greenhouse_gas_score</th>\n      <th>smartway</th>\n    </tr>\n  </thead>\n  <tbody>\n    <tr>\n      <th>1550</th>\n      <td>MERCEDES-BENZ C300</td>\n      <td>3.0</td>\n      <td>6</td>\n      <td>Auto-L7</td>\n      <td>2WD</td>\n      <td>ethanol/gas</td>\n      <td>small car</td>\n      <td>6/4</td>\n      <td>13/18</td>\n      <td>19/25</td>\n      <td>15/21</td>\n      <td>7/6</td>\n      <td>no</td>\n    </tr>\n  </tbody>\n</table>\n</div>"
     },
     "execution_count": 50,
     "metadata": {},
     "output_type": "execute_result"
    }
   ],
   "source": [
    "# this dataframe holds info for the SECOND fuel type of the hybrid\n",
    "# aka the values before the \"/\"s\n",
    "df2"
   ]
  },
  {
   "cell_type": "code",
   "execution_count": 51,
   "metadata": {
    "collapsed": false,
    "ExecuteTime": {
     "end_time": "2023-07-09T11:26:28.782207200Z",
     "start_time": "2023-07-09T11:26:28.746179700Z"
    }
   },
   "outputs": [
    {
     "data": {
      "text/plain": "                   model  displ  cyl    trans drive         fuel  veh_class  \\\n1550  MERCEDES-BENZ C300    3.0    6  Auto-L7   2WD  ethanol/gas  small car   \n\n     air_pollution_score city_mpg hwy_mpg cmb_mpg greenhouse_gas_score  \\\n1550                 6/4    13/18   19/25   15/21                  7/6   \n\n     smartway  \n1550       no  ",
      "text/html": "<div>\n<style scoped>\n    .dataframe tbody tr th:only-of-type {\n        vertical-align: middle;\n    }\n\n    .dataframe tbody tr th {\n        vertical-align: top;\n    }\n\n    .dataframe thead th {\n        text-align: right;\n    }\n</style>\n<table border=\"1\" class=\"dataframe\">\n  <thead>\n    <tr style=\"text-align: right;\">\n      <th></th>\n      <th>model</th>\n      <th>displ</th>\n      <th>cyl</th>\n      <th>trans</th>\n      <th>drive</th>\n      <th>fuel</th>\n      <th>veh_class</th>\n      <th>air_pollution_score</th>\n      <th>city_mpg</th>\n      <th>hwy_mpg</th>\n      <th>cmb_mpg</th>\n      <th>greenhouse_gas_score</th>\n      <th>smartway</th>\n    </tr>\n  </thead>\n  <tbody>\n    <tr>\n      <th>1550</th>\n      <td>MERCEDES-BENZ C300</td>\n      <td>3.0</td>\n      <td>6</td>\n      <td>Auto-L7</td>\n      <td>2WD</td>\n      <td>ethanol/gas</td>\n      <td>small car</td>\n      <td>6/4</td>\n      <td>13/18</td>\n      <td>19/25</td>\n      <td>15/21</td>\n      <td>7/6</td>\n      <td>no</td>\n    </tr>\n  </tbody>\n</table>\n</div>"
     },
     "execution_count": 51,
     "metadata": {},
     "output_type": "execute_result"
    }
   ],
   "source": [
    "# check that all the original hybrid rows with \"/\"s are gone\n",
    "df_10[df_10['fuel'].str.contains('/')]"
   ]
  },
  {
   "cell_type": "code",
   "execution_count": 52,
   "metadata": {
    "collapsed": false,
    "ExecuteTime": {
     "end_time": "2023-07-09T11:26:30.534821200Z",
     "start_time": "2023-07-09T11:26:30.505688700Z"
    }
   },
   "outputs": [
    {
     "data": {
      "text/plain": "(986, 13)"
     },
     "execution_count": 52,
     "metadata": {},
     "output_type": "execute_result"
    }
   ],
   "source": [
    "df_10.shape"
   ]
  },
  {
   "cell_type": "markdown",
   "metadata": {
    "collapsed": false
   },
   "source": [
    "# Repeat this process for the 2014 dataset\n",
    "\n"
   ]
  },
  {
   "cell_type": "code",
   "execution_count": 53,
   "metadata": {
    "collapsed": false,
    "ExecuteTime": {
     "end_time": "2023-07-09T11:26:31.995171400Z",
     "start_time": "2023-07-09T11:26:31.985649600Z"
    }
   },
   "outputs": [],
   "source": [
    "# create two copies of the 2014 hybrids dataframe\n",
    "df1 = hb_14.copy()  # data on first fuel type of each hybrid vehicle\n",
    "df2 = hb_14.copy()  # data on second fuel type of each hybrid vehicle"
   ]
  },
  {
   "cell_type": "markdown",
   "metadata": {
    "collapsed": false
   },
   "source": [
    "### Split values for `fuel`, `city_mpg`, `hwy_mpg`, `cmb_mpg`\n",
    "\n",
    "We don't need to split for `air_pollution_score` or `greenhouse_gas_score` here because these columns are already ints in the 2014 dataset.\n"
   ]
  },
  {
   "cell_type": "code",
   "execution_count": 54,
   "metadata": {
    "collapsed": false,
    "ExecuteTime": {
     "end_time": "2023-07-09T11:26:33.235918Z",
     "start_time": "2023-07-09T11:26:33.225124700Z"
    }
   },
   "outputs": [],
   "source": [
    "split_columns = ['fuel', 'city_mpg', 'hwy_mpg', 'cmb_mpg']\n",
    "\n",
    "for c in split_columns:\n",
    "    df1[c] = df1[c].apply(lambda x : x.split('/')[0])\n",
    "    df2[c] = df2[c].apply(lambda x : x.split('/')[1])"
   ]
  },
  {
   "cell_type": "code",
   "execution_count": 55,
   "metadata": {
    "collapsed": false,
    "ExecuteTime": {
     "end_time": "2023-07-09T11:26:33.820994800Z",
     "start_time": "2023-07-09T11:26:33.792602400Z"
    }
   },
   "outputs": [
    {
     "data": {
      "text/plain": "                                  model  displ  cyl       trans drive  \\\n108                            BMW 330e    2.0    4  SemiAuto-8   2WD   \n160                            BMW 530e    2.0    4  SemiAuto-8   2WD   \n162                            BMW 530e    2.0    4  SemiAuto-8   4WD   \n188                            BMW 740e    2.0    4  SemiAuto-8   4WD   \n382                    CHEVROLET Impala    3.6    6  SemiAuto-6   2WD   \n394              CHEVROLET Silverado 15    4.3    6      Auto-6   2WD   \n396              CHEVROLET Silverado 15    4.3    6      Auto-6   4WD   \n398              CHEVROLET Silverado 15    5.3    8      Auto-6   2WD   \n428             CHEVROLET Suburban 1500    5.3    8      Auto-6   2WD   \n432             CHEVROLET Suburban 1500    5.3    8      Auto-6   4WD   \n436                CHEVROLET Tahoe 1500    5.3    8      Auto-6   2WD   \n440                CHEVROLET Tahoe 1500    5.3    8      Auto-6   4WD   \n454                      CHEVROLET Volt    1.5    4         CVT   2WD   \n456                      CHEVROLET Volt    1.5    4         CVT   2WD   \n458                        CHRYSLER 300    3.6    6      Auto-8   2WD   \n462                        CHRYSLER 300    3.6    6      Auto-8   4WD   \n492                       DODGE Charger    3.6    6      Auto-8   2WD   \n496                       DODGE Charger    3.6    6      Auto-8   4WD   \n605   FORD Fusion Energi Plug-in Hybrid    2.0    4         CVT   2WD   \n659                       GMC Sierra 15    4.3    6      Auto-6   2WD   \n661                       GMC Sierra 15    4.3    6      Auto-6   4WD   \n663                       GMC Sierra 15    5.3    8      Auto-6   2WD   \n697                      GMC Yukon 1500    5.3    8      Auto-6   2WD   \n701                      GMC Yukon 1500    5.3    8      Auto-6   4WD   \n709                   GMC Yukon 1500 XL    5.3    8      Auto-6   2WD   \n715                   GMC Yukon XL 1500    5.3    8      Auto-6   4WD   \n892                       JEEP Cherokee    2.4    4      Auto-9   2WD   \n896                       JEEP Cherokee    2.4    4      Auto-9   4WD   \n933                        KARMA Revero    2.0    4      Auto-1   2WD   \n1162        MERCEDES-BENZ CLA250 4Matic    2.0    4   AutoMan-7   4WD   \n1179        MERCEDES-BENZ GLA250 4Matic    2.0    4   AutoMan-7   4WD   \n1192        MERCEDES-BENZ GLE350 4Matic    3.5    6      Auto-7   4WD   \n1256     MINI Cooper SE Countryman All4    1.5    3  SemiAuto-6   4WD   \n1507                 TOYOTA Sequoia FFV    5.7    8  SemiAuto-6   4WD   \n1517                  TOYOTA Tundra FFV    5.7    8  SemiAuto-6   4WD   \n1577                          VOLVO S90    2.0    4  SemiAuto-8   4WD   \n1601                        VOLVO XC 60    2.0    4  SemiAuto-8   4WD   \n1609                        VOLVO XC 90    2.0    4  SemiAuto-8   4WD   \n\n                      fuel     veh_class  air_pollution_score city_mpg  \\\n108   Gasoline/Electricity     small car                    3    28/66   \n160   Gasoline/Electricity     small car                    7    27/70   \n162   Gasoline/Electricity     small car                    7    27/66   \n188   Gasoline/Electricity     large car                    3    25/62   \n382            Ethanol/Gas     large car                    5    14/18   \n394            Ethanol/Gas        pickup                    5    12/18   \n396            Ethanol/Gas        pickup                    5    12/17   \n398            Ethanol/Gas        pickup                    3    12/16   \n428            Ethanol/Gas  standard SUV                    3    12/16   \n432            Ethanol/Gas  standard SUV                    3    11/16   \n436            Ethanol/Gas  standard SUV                    3    12/16   \n440            Ethanol/Gas  standard SUV                    3    11/16   \n454   Gasoline/Electricity     small car                    3   43/113   \n456   Gasoline/Electricity     small car                    7   43/113   \n458            Ethanol/Gas     large car                    3    14/19   \n462            Ethanol/Gas     large car                    3    13/18   \n492            Ethanol/Gas     large car                    3    14/19   \n496            Ethanol/Gas     large car                    3    13/18   \n605   Gasoline/Electricity   midsize car                    7   43/102   \n659            Ethanol/Gas        pickup                    5    12/18   \n661            Ethanol/Gas        pickup                    5    12/17   \n663            Ethanol/Gas        pickup                    3    12/16   \n697            Ethanol/Gas  standard SUV                    3    12/16   \n701            Ethanol/Gas  standard SUV                    3    11/16   \n709            Ethanol/Gas  standard SUV                    3    12/16   \n715            Ethanol/Gas  standard SUV                    3    11/16   \n892            Ethanol/Gas     small SUV                    3    15/21   \n896            Ethanol/Gas     small SUV                    3    14/21   \n933   Gasoline/Electricity     small car                    1    20/59   \n1162           Ethanol/Gas     small car                    5    17/24   \n1179           Ethanol/Gas     small SUV                    5    17/23   \n1192           Ethanol/Gas  standard SUV                    3    13/18   \n1256  Gasoline/Electricity   midsize car                    3    28/63   \n1507           Ethanol/Gas  standard SUV                    5     9/13   \n1517           Ethanol/Gas        pickup                    5     9/13   \n1577  Gasoline/Electricity   midsize car                    7    26/70   \n1601  Gasoline/Electricity     small SUV                    7    26/60   \n1609  Gasoline/Electricity  standard SUV                    7    26/63   \n\n     hwy_mpg cmb_mpg  greenhouse_gas_score smartway  \n108    34/78   30/71                    10      Yes  \n160    31/75   29/72                    10    Elite  \n162    31/68   28/67                    10    Elite  \n188    29/68   27/64                     9      Yes  \n382    20/28   16/22                     4       No  \n394    16/24   14/20                     4       No  \n396    15/22   13/19                     3       No  \n398    17/23   14/19                     3       No  \n428    17/23   14/19                     3       No  \n432    15/22   12/18                     3       No  \n436    17/23   14/19                     3       No  \n440    16/22   13/18                     3       No  \n454    42/99  42/106                    10      Yes  \n456    42/99  42/106                    10    Elite  \n458    22/30   17/23                     5       No  \n462    20/27   16/21                     4       No  \n492    22/30   17/23                     5       No  \n496    20/27   16/21                     4       No  \n605    41/91   42/97                    10    Elite  \n659    16/24   14/20                     4       No  \n661    15/22   13/19                     3       No  \n663    17/23   14/19                     3       No  \n697    17/23   14/19                     3       No  \n701    16/22   13/18                     3       No  \n709    17/23   14/19                     3       No  \n715    15/22   12/18                     3       No  \n892    22/30   18/25                     5       No  \n896    21/28   17/23                     5       No  \n933    21/61   20/60                    10       No  \n1162   24/32   20/27                     6       No  \n1179   23/31   19/26                     5       No  \n1192   17/22   14/19                     3       No  \n1256   27/66   27/65                     9      Yes  \n1507   13/17   10/14                     1       No  \n1517   12/17   10/15                     2       No  \n1577   33/72   29/71                    10    Elite  \n1601   28/58   26/59                    10    Elite  \n1609   30/61   27/62                    10    Elite  ",
      "text/html": "<div>\n<style scoped>\n    .dataframe tbody tr th:only-of-type {\n        vertical-align: middle;\n    }\n\n    .dataframe tbody tr th {\n        vertical-align: top;\n    }\n\n    .dataframe thead th {\n        text-align: right;\n    }\n</style>\n<table border=\"1\" class=\"dataframe\">\n  <thead>\n    <tr style=\"text-align: right;\">\n      <th></th>\n      <th>model</th>\n      <th>displ</th>\n      <th>cyl</th>\n      <th>trans</th>\n      <th>drive</th>\n      <th>fuel</th>\n      <th>veh_class</th>\n      <th>air_pollution_score</th>\n      <th>city_mpg</th>\n      <th>hwy_mpg</th>\n      <th>cmb_mpg</th>\n      <th>greenhouse_gas_score</th>\n      <th>smartway</th>\n    </tr>\n  </thead>\n  <tbody>\n    <tr>\n      <th>108</th>\n      <td>BMW 330e</td>\n      <td>2.0</td>\n      <td>4</td>\n      <td>SemiAuto-8</td>\n      <td>2WD</td>\n      <td>Gasoline/Electricity</td>\n      <td>small car</td>\n      <td>3</td>\n      <td>28/66</td>\n      <td>34/78</td>\n      <td>30/71</td>\n      <td>10</td>\n      <td>Yes</td>\n    </tr>\n    <tr>\n      <th>160</th>\n      <td>BMW 530e</td>\n      <td>2.0</td>\n      <td>4</td>\n      <td>SemiAuto-8</td>\n      <td>2WD</td>\n      <td>Gasoline/Electricity</td>\n      <td>small car</td>\n      <td>7</td>\n      <td>27/70</td>\n      <td>31/75</td>\n      <td>29/72</td>\n      <td>10</td>\n      <td>Elite</td>\n    </tr>\n    <tr>\n      <th>162</th>\n      <td>BMW 530e</td>\n      <td>2.0</td>\n      <td>4</td>\n      <td>SemiAuto-8</td>\n      <td>4WD</td>\n      <td>Gasoline/Electricity</td>\n      <td>small car</td>\n      <td>7</td>\n      <td>27/66</td>\n      <td>31/68</td>\n      <td>28/67</td>\n      <td>10</td>\n      <td>Elite</td>\n    </tr>\n    <tr>\n      <th>188</th>\n      <td>BMW 740e</td>\n      <td>2.0</td>\n      <td>4</td>\n      <td>SemiAuto-8</td>\n      <td>4WD</td>\n      <td>Gasoline/Electricity</td>\n      <td>large car</td>\n      <td>3</td>\n      <td>25/62</td>\n      <td>29/68</td>\n      <td>27/64</td>\n      <td>9</td>\n      <td>Yes</td>\n    </tr>\n    <tr>\n      <th>382</th>\n      <td>CHEVROLET Impala</td>\n      <td>3.6</td>\n      <td>6</td>\n      <td>SemiAuto-6</td>\n      <td>2WD</td>\n      <td>Ethanol/Gas</td>\n      <td>large car</td>\n      <td>5</td>\n      <td>14/18</td>\n      <td>20/28</td>\n      <td>16/22</td>\n      <td>4</td>\n      <td>No</td>\n    </tr>\n    <tr>\n      <th>394</th>\n      <td>CHEVROLET Silverado 15</td>\n      <td>4.3</td>\n      <td>6</td>\n      <td>Auto-6</td>\n      <td>2WD</td>\n      <td>Ethanol/Gas</td>\n      <td>pickup</td>\n      <td>5</td>\n      <td>12/18</td>\n      <td>16/24</td>\n      <td>14/20</td>\n      <td>4</td>\n      <td>No</td>\n    </tr>\n    <tr>\n      <th>396</th>\n      <td>CHEVROLET Silverado 15</td>\n      <td>4.3</td>\n      <td>6</td>\n      <td>Auto-6</td>\n      <td>4WD</td>\n      <td>Ethanol/Gas</td>\n      <td>pickup</td>\n      <td>5</td>\n      <td>12/17</td>\n      <td>15/22</td>\n      <td>13/19</td>\n      <td>3</td>\n      <td>No</td>\n    </tr>\n    <tr>\n      <th>398</th>\n      <td>CHEVROLET Silverado 15</td>\n      <td>5.3</td>\n      <td>8</td>\n      <td>Auto-6</td>\n      <td>2WD</td>\n      <td>Ethanol/Gas</td>\n      <td>pickup</td>\n      <td>3</td>\n      <td>12/16</td>\n      <td>17/23</td>\n      <td>14/19</td>\n      <td>3</td>\n      <td>No</td>\n    </tr>\n    <tr>\n      <th>428</th>\n      <td>CHEVROLET Suburban 1500</td>\n      <td>5.3</td>\n      <td>8</td>\n      <td>Auto-6</td>\n      <td>2WD</td>\n      <td>Ethanol/Gas</td>\n      <td>standard SUV</td>\n      <td>3</td>\n      <td>12/16</td>\n      <td>17/23</td>\n      <td>14/19</td>\n      <td>3</td>\n      <td>No</td>\n    </tr>\n    <tr>\n      <th>432</th>\n      <td>CHEVROLET Suburban 1500</td>\n      <td>5.3</td>\n      <td>8</td>\n      <td>Auto-6</td>\n      <td>4WD</td>\n      <td>Ethanol/Gas</td>\n      <td>standard SUV</td>\n      <td>3</td>\n      <td>11/16</td>\n      <td>15/22</td>\n      <td>12/18</td>\n      <td>3</td>\n      <td>No</td>\n    </tr>\n    <tr>\n      <th>436</th>\n      <td>CHEVROLET Tahoe 1500</td>\n      <td>5.3</td>\n      <td>8</td>\n      <td>Auto-6</td>\n      <td>2WD</td>\n      <td>Ethanol/Gas</td>\n      <td>standard SUV</td>\n      <td>3</td>\n      <td>12/16</td>\n      <td>17/23</td>\n      <td>14/19</td>\n      <td>3</td>\n      <td>No</td>\n    </tr>\n    <tr>\n      <th>440</th>\n      <td>CHEVROLET Tahoe 1500</td>\n      <td>5.3</td>\n      <td>8</td>\n      <td>Auto-6</td>\n      <td>4WD</td>\n      <td>Ethanol/Gas</td>\n      <td>standard SUV</td>\n      <td>3</td>\n      <td>11/16</td>\n      <td>16/22</td>\n      <td>13/18</td>\n      <td>3</td>\n      <td>No</td>\n    </tr>\n    <tr>\n      <th>454</th>\n      <td>CHEVROLET Volt</td>\n      <td>1.5</td>\n      <td>4</td>\n      <td>CVT</td>\n      <td>2WD</td>\n      <td>Gasoline/Electricity</td>\n      <td>small car</td>\n      <td>3</td>\n      <td>43/113</td>\n      <td>42/99</td>\n      <td>42/106</td>\n      <td>10</td>\n      <td>Yes</td>\n    </tr>\n    <tr>\n      <th>456</th>\n      <td>CHEVROLET Volt</td>\n      <td>1.5</td>\n      <td>4</td>\n      <td>CVT</td>\n      <td>2WD</td>\n      <td>Gasoline/Electricity</td>\n      <td>small car</td>\n      <td>7</td>\n      <td>43/113</td>\n      <td>42/99</td>\n      <td>42/106</td>\n      <td>10</td>\n      <td>Elite</td>\n    </tr>\n    <tr>\n      <th>458</th>\n      <td>CHRYSLER 300</td>\n      <td>3.6</td>\n      <td>6</td>\n      <td>Auto-8</td>\n      <td>2WD</td>\n      <td>Ethanol/Gas</td>\n      <td>large car</td>\n      <td>3</td>\n      <td>14/19</td>\n      <td>22/30</td>\n      <td>17/23</td>\n      <td>5</td>\n      <td>No</td>\n    </tr>\n    <tr>\n      <th>462</th>\n      <td>CHRYSLER 300</td>\n      <td>3.6</td>\n      <td>6</td>\n      <td>Auto-8</td>\n      <td>4WD</td>\n      <td>Ethanol/Gas</td>\n      <td>large car</td>\n      <td>3</td>\n      <td>13/18</td>\n      <td>20/27</td>\n      <td>16/21</td>\n      <td>4</td>\n      <td>No</td>\n    </tr>\n    <tr>\n      <th>492</th>\n      <td>DODGE Charger</td>\n      <td>3.6</td>\n      <td>6</td>\n      <td>Auto-8</td>\n      <td>2WD</td>\n      <td>Ethanol/Gas</td>\n      <td>large car</td>\n      <td>3</td>\n      <td>14/19</td>\n      <td>22/30</td>\n      <td>17/23</td>\n      <td>5</td>\n      <td>No</td>\n    </tr>\n    <tr>\n      <th>496</th>\n      <td>DODGE Charger</td>\n      <td>3.6</td>\n      <td>6</td>\n      <td>Auto-8</td>\n      <td>4WD</td>\n      <td>Ethanol/Gas</td>\n      <td>large car</td>\n      <td>3</td>\n      <td>13/18</td>\n      <td>20/27</td>\n      <td>16/21</td>\n      <td>4</td>\n      <td>No</td>\n    </tr>\n    <tr>\n      <th>605</th>\n      <td>FORD Fusion Energi Plug-in Hybrid</td>\n      <td>2.0</td>\n      <td>4</td>\n      <td>CVT</td>\n      <td>2WD</td>\n      <td>Gasoline/Electricity</td>\n      <td>midsize car</td>\n      <td>7</td>\n      <td>43/102</td>\n      <td>41/91</td>\n      <td>42/97</td>\n      <td>10</td>\n      <td>Elite</td>\n    </tr>\n    <tr>\n      <th>659</th>\n      <td>GMC Sierra 15</td>\n      <td>4.3</td>\n      <td>6</td>\n      <td>Auto-6</td>\n      <td>2WD</td>\n      <td>Ethanol/Gas</td>\n      <td>pickup</td>\n      <td>5</td>\n      <td>12/18</td>\n      <td>16/24</td>\n      <td>14/20</td>\n      <td>4</td>\n      <td>No</td>\n    </tr>\n    <tr>\n      <th>661</th>\n      <td>GMC Sierra 15</td>\n      <td>4.3</td>\n      <td>6</td>\n      <td>Auto-6</td>\n      <td>4WD</td>\n      <td>Ethanol/Gas</td>\n      <td>pickup</td>\n      <td>5</td>\n      <td>12/17</td>\n      <td>15/22</td>\n      <td>13/19</td>\n      <td>3</td>\n      <td>No</td>\n    </tr>\n    <tr>\n      <th>663</th>\n      <td>GMC Sierra 15</td>\n      <td>5.3</td>\n      <td>8</td>\n      <td>Auto-6</td>\n      <td>2WD</td>\n      <td>Ethanol/Gas</td>\n      <td>pickup</td>\n      <td>3</td>\n      <td>12/16</td>\n      <td>17/23</td>\n      <td>14/19</td>\n      <td>3</td>\n      <td>No</td>\n    </tr>\n    <tr>\n      <th>697</th>\n      <td>GMC Yukon 1500</td>\n      <td>5.3</td>\n      <td>8</td>\n      <td>Auto-6</td>\n      <td>2WD</td>\n      <td>Ethanol/Gas</td>\n      <td>standard SUV</td>\n      <td>3</td>\n      <td>12/16</td>\n      <td>17/23</td>\n      <td>14/19</td>\n      <td>3</td>\n      <td>No</td>\n    </tr>\n    <tr>\n      <th>701</th>\n      <td>GMC Yukon 1500</td>\n      <td>5.3</td>\n      <td>8</td>\n      <td>Auto-6</td>\n      <td>4WD</td>\n      <td>Ethanol/Gas</td>\n      <td>standard SUV</td>\n      <td>3</td>\n      <td>11/16</td>\n      <td>16/22</td>\n      <td>13/18</td>\n      <td>3</td>\n      <td>No</td>\n    </tr>\n    <tr>\n      <th>709</th>\n      <td>GMC Yukon 1500 XL</td>\n      <td>5.3</td>\n      <td>8</td>\n      <td>Auto-6</td>\n      <td>2WD</td>\n      <td>Ethanol/Gas</td>\n      <td>standard SUV</td>\n      <td>3</td>\n      <td>12/16</td>\n      <td>17/23</td>\n      <td>14/19</td>\n      <td>3</td>\n      <td>No</td>\n    </tr>\n    <tr>\n      <th>715</th>\n      <td>GMC Yukon XL 1500</td>\n      <td>5.3</td>\n      <td>8</td>\n      <td>Auto-6</td>\n      <td>4WD</td>\n      <td>Ethanol/Gas</td>\n      <td>standard SUV</td>\n      <td>3</td>\n      <td>11/16</td>\n      <td>15/22</td>\n      <td>12/18</td>\n      <td>3</td>\n      <td>No</td>\n    </tr>\n    <tr>\n      <th>892</th>\n      <td>JEEP Cherokee</td>\n      <td>2.4</td>\n      <td>4</td>\n      <td>Auto-9</td>\n      <td>2WD</td>\n      <td>Ethanol/Gas</td>\n      <td>small SUV</td>\n      <td>3</td>\n      <td>15/21</td>\n      <td>22/30</td>\n      <td>18/25</td>\n      <td>5</td>\n      <td>No</td>\n    </tr>\n    <tr>\n      <th>896</th>\n      <td>JEEP Cherokee</td>\n      <td>2.4</td>\n      <td>4</td>\n      <td>Auto-9</td>\n      <td>4WD</td>\n      <td>Ethanol/Gas</td>\n      <td>small SUV</td>\n      <td>3</td>\n      <td>14/21</td>\n      <td>21/28</td>\n      <td>17/23</td>\n      <td>5</td>\n      <td>No</td>\n    </tr>\n    <tr>\n      <th>933</th>\n      <td>KARMA Revero</td>\n      <td>2.0</td>\n      <td>4</td>\n      <td>Auto-1</td>\n      <td>2WD</td>\n      <td>Gasoline/Electricity</td>\n      <td>small car</td>\n      <td>1</td>\n      <td>20/59</td>\n      <td>21/61</td>\n      <td>20/60</td>\n      <td>10</td>\n      <td>No</td>\n    </tr>\n    <tr>\n      <th>1162</th>\n      <td>MERCEDES-BENZ CLA250 4Matic</td>\n      <td>2.0</td>\n      <td>4</td>\n      <td>AutoMan-7</td>\n      <td>4WD</td>\n      <td>Ethanol/Gas</td>\n      <td>small car</td>\n      <td>5</td>\n      <td>17/24</td>\n      <td>24/32</td>\n      <td>20/27</td>\n      <td>6</td>\n      <td>No</td>\n    </tr>\n    <tr>\n      <th>1179</th>\n      <td>MERCEDES-BENZ GLA250 4Matic</td>\n      <td>2.0</td>\n      <td>4</td>\n      <td>AutoMan-7</td>\n      <td>4WD</td>\n      <td>Ethanol/Gas</td>\n      <td>small SUV</td>\n      <td>5</td>\n      <td>17/23</td>\n      <td>23/31</td>\n      <td>19/26</td>\n      <td>5</td>\n      <td>No</td>\n    </tr>\n    <tr>\n      <th>1192</th>\n      <td>MERCEDES-BENZ GLE350 4Matic</td>\n      <td>3.5</td>\n      <td>6</td>\n      <td>Auto-7</td>\n      <td>4WD</td>\n      <td>Ethanol/Gas</td>\n      <td>standard SUV</td>\n      <td>3</td>\n      <td>13/18</td>\n      <td>17/22</td>\n      <td>14/19</td>\n      <td>3</td>\n      <td>No</td>\n    </tr>\n    <tr>\n      <th>1256</th>\n      <td>MINI Cooper SE Countryman All4</td>\n      <td>1.5</td>\n      <td>3</td>\n      <td>SemiAuto-6</td>\n      <td>4WD</td>\n      <td>Gasoline/Electricity</td>\n      <td>midsize car</td>\n      <td>3</td>\n      <td>28/63</td>\n      <td>27/66</td>\n      <td>27/65</td>\n      <td>9</td>\n      <td>Yes</td>\n    </tr>\n    <tr>\n      <th>1507</th>\n      <td>TOYOTA Sequoia FFV</td>\n      <td>5.7</td>\n      <td>8</td>\n      <td>SemiAuto-6</td>\n      <td>4WD</td>\n      <td>Ethanol/Gas</td>\n      <td>standard SUV</td>\n      <td>5</td>\n      <td>9/13</td>\n      <td>13/17</td>\n      <td>10/14</td>\n      <td>1</td>\n      <td>No</td>\n    </tr>\n    <tr>\n      <th>1517</th>\n      <td>TOYOTA Tundra FFV</td>\n      <td>5.7</td>\n      <td>8</td>\n      <td>SemiAuto-6</td>\n      <td>4WD</td>\n      <td>Ethanol/Gas</td>\n      <td>pickup</td>\n      <td>5</td>\n      <td>9/13</td>\n      <td>12/17</td>\n      <td>10/15</td>\n      <td>2</td>\n      <td>No</td>\n    </tr>\n    <tr>\n      <th>1577</th>\n      <td>VOLVO S90</td>\n      <td>2.0</td>\n      <td>4</td>\n      <td>SemiAuto-8</td>\n      <td>4WD</td>\n      <td>Gasoline/Electricity</td>\n      <td>midsize car</td>\n      <td>7</td>\n      <td>26/70</td>\n      <td>33/72</td>\n      <td>29/71</td>\n      <td>10</td>\n      <td>Elite</td>\n    </tr>\n    <tr>\n      <th>1601</th>\n      <td>VOLVO XC 60</td>\n      <td>2.0</td>\n      <td>4</td>\n      <td>SemiAuto-8</td>\n      <td>4WD</td>\n      <td>Gasoline/Electricity</td>\n      <td>small SUV</td>\n      <td>7</td>\n      <td>26/60</td>\n      <td>28/58</td>\n      <td>26/59</td>\n      <td>10</td>\n      <td>Elite</td>\n    </tr>\n    <tr>\n      <th>1609</th>\n      <td>VOLVO XC 90</td>\n      <td>2.0</td>\n      <td>4</td>\n      <td>SemiAuto-8</td>\n      <td>4WD</td>\n      <td>Gasoline/Electricity</td>\n      <td>standard SUV</td>\n      <td>7</td>\n      <td>26/63</td>\n      <td>30/61</td>\n      <td>27/62</td>\n      <td>10</td>\n      <td>Elite</td>\n    </tr>\n  </tbody>\n</table>\n</div>"
     },
     "execution_count": 55,
     "metadata": {},
     "output_type": "execute_result"
    }
   ],
   "source": [
    "# check that they're gone\n",
    "df_14[df_14['fuel'].str.contains('/')]"
   ]
  },
  {
   "cell_type": "code",
   "execution_count": 56,
   "metadata": {
    "collapsed": false,
    "ExecuteTime": {
     "end_time": "2023-07-09T11:26:34.560009900Z",
     "start_time": "2023-07-09T11:26:34.545488700Z"
    }
   },
   "outputs": [
    {
     "data": {
      "text/plain": "(794, 13)"
     },
     "execution_count": 56,
     "metadata": {},
     "output_type": "execute_result"
    }
   ],
   "source": [
    "df_14.shape"
   ]
  },
  {
   "cell_type": "markdown",
   "metadata": {
    "collapsed": false
   },
   "source": [
    "### Now we can comfortably continue the changes needed for `air_pollution_score`! Here they are again:\n",
    "\n",
    "- 2010 convert string to float\n",
    "- 20143: convert int to float\n",
    "\n"
   ]
  },
  {
   "cell_type": "code",
   "execution_count": 57,
   "metadata": {
    "collapsed": false,
    "ExecuteTime": {
     "end_time": "2023-07-09T11:26:35.478012100Z",
     "start_time": "2023-07-09T11:26:35.466821Z"
    }
   },
   "outputs": [],
   "source": [
    "# convert int to float for 2014 air pollution column\n",
    "df_14.air_pollution_score = df_14.air_pollution_score.astype(float)"
   ]
  },
  {
   "cell_type": "markdown",
   "metadata": {
    "collapsed": false
   },
   "source": [
    "## Fix `city_mpg`, `hwy_mpg`, `cmb_mpg` datatypes\n",
    "    2008 and 2018: convert string to float"
   ]
  },
  {
   "cell_type": "code",
   "execution_count": 58,
   "metadata": {
    "collapsed": false,
    "ExecuteTime": {
     "end_time": "2023-07-09T11:26:36.484794400Z",
     "start_time": "2023-07-09T11:26:36.479806700Z"
    }
   },
   "outputs": [],
   "source": [
    "# convert mpg columns to float\n",
    "mpg_columns = ['city_mpg', 'hwy_mpg', 'cmb_mpg']\n",
    "for col in mpg_columns:\n",
    "    df_10[col] = pd.to_numeric(df_10[col], errors='coerce')\n",
    "    df_14[col] = pd.to_numeric(df_14[col], errors='coerce')"
   ]
  },
  {
   "cell_type": "markdown",
   "metadata": {
    "collapsed": false
   },
   "source": [
    "## Fix `greenhouse_gas_score` datatype\n",
    "    2008: convert from float to int"
   ]
  },
  {
   "cell_type": "code",
   "execution_count": 59,
   "metadata": {
    "collapsed": false,
    "ExecuteTime": {
     "end_time": "2023-07-09T11:26:37.481075200Z",
     "start_time": "2023-07-09T11:26:37.469878300Z"
    }
   },
   "outputs": [],
   "source": [
    "# convert from string to int\n",
    "df_10['greenhouse_gas_score'] = df_14['greenhouse_gas_score'].astype(int)"
   ]
  },
  {
   "cell_type": "code",
   "execution_count": 60,
   "metadata": {
    "collapsed": false,
    "ExecuteTime": {
     "end_time": "2023-07-09T11:26:37.868658700Z",
     "start_time": "2023-07-09T11:26:37.855880300Z"
    }
   },
   "outputs": [
    {
     "data": {
      "text/plain": "model                    object\ndispl                   float64\ncyl                       int32\ntrans                    object\ndrive                    object\nfuel                     object\nveh_class                object\nair_pollution_score      object\ncity_mpg                float64\nhwy_mpg                 float64\ncmb_mpg                 float64\ngreenhouse_gas_score    float64\nsmartway                 object\ndtype: object"
     },
     "execution_count": 60,
     "metadata": {},
     "output_type": "execute_result"
    }
   ],
   "source": [
    "# Check if all the datatypes are fixed\n",
    "df_10.dtypes"
   ]
  },
  {
   "cell_type": "code",
   "execution_count": 61,
   "metadata": {
    "collapsed": false,
    "ExecuteTime": {
     "end_time": "2023-07-09T11:26:38.367584300Z",
     "start_time": "2023-07-09T11:26:38.354424500Z"
    }
   },
   "outputs": [
    {
     "data": {
      "text/plain": "model                    object\ndispl                   float64\ncyl                       int32\ntrans                    object\ndrive                    object\nfuel                     object\nveh_class                object\nair_pollution_score     float64\ncity_mpg                float64\nhwy_mpg                 float64\ncmb_mpg                 float64\ngreenhouse_gas_score      int64\nsmartway                 object\ndtype: object"
     },
     "execution_count": 61,
     "metadata": {},
     "output_type": "execute_result"
    }
   ],
   "source": [
    "df_14.dtypes"
   ]
  },
  {
   "cell_type": "code",
   "execution_count": 62,
   "metadata": {
    "collapsed": false,
    "ExecuteTime": {
     "end_time": "2023-07-09T11:26:38.908136500Z",
     "start_time": "2023-07-09T11:26:38.897029Z"
    }
   },
   "outputs": [
    {
     "data": {
      "text/plain": "model                    True\ndispl                    True\ncyl                      True\ntrans                    True\ndrive                    True\nfuel                     True\nveh_class                True\nair_pollution_score     False\ncity_mpg                 True\nhwy_mpg                  True\ncmb_mpg                  True\ngreenhouse_gas_score    False\nsmartway                 True\ndtype: bool"
     },
     "execution_count": 62,
     "metadata": {},
     "output_type": "execute_result"
    }
   ],
   "source": [
    "df_10.dtypes == df_14.dtypes"
   ]
  },
  {
   "cell_type": "markdown",
   "metadata": {
    "collapsed": false
   },
   "source": [
    "# Exploring With Visuals\n",
    "\n",
    "### We are going to use histogram and scatter plot to explore the data and explore following questions:\n",
    "\n",
    "1. Compare the distribution of the greenhouse gas score in 2010 and 2014.\n",
    "   - The distribution for 2010is more skewed to the left.\n",
    "2. How has the distribution of the combined mpg changed from 2010 to 2014?\n",
    "   - The distribution has become more skewed to the right.\n",
    "3. Describe the correlation between displacement and combined mpg.\n",
    "   - There is a negative correlation between displacement and combined mpg.\n",
    "4. Describe the correlation between greenhouse gas score and combined mpg.\n",
    "   - There is a positive correlation between greenhouse gas score and combined mpg.\n",
    "\n"
   ]
  },
  {
   "cell_type": "markdown",
   "metadata": {
    "collapsed": false
   },
   "source": [
    "### Compare the distributions of greenhouse gas score in 2008 and 2018 using histograms\n"
   ]
  },
  {
   "cell_type": "code",
   "execution_count": 63,
   "metadata": {
    "collapsed": false,
    "ExecuteTime": {
     "end_time": "2023-07-09T11:26:43.124904200Z",
     "start_time": "2023-07-09T11:26:42.969591700Z"
    }
   },
   "outputs": [
    {
     "data": {
      "text/plain": "Text(0, 0.5, 'Count')"
     },
     "execution_count": 63,
     "metadata": {},
     "output_type": "execute_result"
    },
    {
     "data": {
      "text/plain": "<Figure size 640x480 with 1 Axes>",
      "image/png": "[encoded data removed]"
     },
     "metadata": {},
     "output_type": "display_data"
    }
   ],
   "source": [
    "plt.hist(df_10['greenhouse_gas_score'])\n",
    "plt.title('Histogram greenhouse gas score 2010')\n",
    "plt.xlabel('greenhouse gas score')\n",
    "plt.ylabel('Count')"
   ]
  },
  {
   "cell_type": "code",
   "execution_count": 64,
   "metadata": {
    "collapsed": false,
    "ExecuteTime": {
     "end_time": "2023-07-09T11:26:44.343769500Z",
     "start_time": "2023-07-09T11:26:44.144057100Z"
    }
   },
   "outputs": [
    {
     "data": {
      "text/plain": "<Figure size 640x480 with 1 Axes>",
      "image/png": "[encoded data removed]"
     },
     "metadata": {},
     "output_type": "display_data"
    }
   ],
   "source": [
    "plt.hist(df_14['greenhouse_gas_score'])\n",
    "plt.title('Histogram greenhouse gas score 2014')\n",
    "plt.xlabel('greenhouse gas score')\n",
    "plt.ylabel('Count');"
   ]
  },
  {
   "cell_type": "code",
   "execution_count": 65,
   "metadata": {
    "collapsed": false,
    "ExecuteTime": {
     "end_time": "2023-07-09T11:26:45.149951800Z",
     "start_time": "2023-07-09T11:26:44.990543100Z"
    }
   },
   "outputs": [
    {
     "data": {
      "text/plain": "<Figure size 640x480 with 1 Axes>",
      "image/png": "[encoded data removed]"
     },
     "metadata": {},
     "output_type": "display_data"
    }
   ],
   "source": [
    "plt.hist(df_10['cmb_mpg'])\n",
    "plt.title('Histogram combined mpg 2010')\n",
    "plt.xlabel('Combined MPG')\n",
    "plt.ylabel('Count');"
   ]
  },
  {
   "cell_type": "code",
   "execution_count": 66,
   "metadata": {
    "collapsed": false,
    "ExecuteTime": {
     "end_time": "2023-07-09T11:26:45.992289700Z",
     "start_time": "2023-07-09T11:26:45.858101Z"
    }
   },
   "outputs": [
    {
     "data": {
      "text/plain": "<Figure size 640x480 with 1 Axes>",
      "image/png": "[encoded data removed]"
     },
     "metadata": {},
     "output_type": "display_data"
    }
   ],
   "source": [
    "plt.hist(df_14['cmb_mpg'])\n",
    "plt.title('Histogram combined mpg 2014')\n",
    "plt.xlabel('Combined MPG')\n",
    "plt.ylabel('Count');"
   ]
  },
  {
   "cell_type": "markdown",
   "metadata": {
    "collapsed": false
   },
   "source": [
    "### Exploring the correlation between displacement and combined mpg using scatterplot.\n"
   ]
  },
  {
   "cell_type": "code",
   "execution_count": 67,
   "metadata": {
    "collapsed": false,
    "ExecuteTime": {
     "end_time": "2023-07-09T11:26:48.641935300Z",
     "start_time": "2023-07-09T11:26:48.450829500Z"
    }
   },
   "outputs": [
    {
     "data": {
      "text/plain": "<Figure size 640x480 with 1 Axes>",
      "image/png": "[encoded data removed]"
     },
     "metadata": {},
     "output_type": "display_data"
    }
   ],
   "source": [
    "plt.scatter(df_10['displ'],df_10['cmb_mpg'])\n",
    "plt.title('Scatter Plot Displacement Vs Combined Mpg 2010')\n",
    "plt.xlabel('Displacement')\n",
    "plt.ylabel('Combined Mpg');"
   ]
  },
  {
   "cell_type": "code",
   "execution_count": 68,
   "metadata": {
    "collapsed": false,
    "ExecuteTime": {
     "end_time": "2023-07-09T11:26:49.731006600Z",
     "start_time": "2023-07-09T11:26:49.576715500Z"
    }
   },
   "outputs": [
    {
     "data": {
      "text/plain": "<Figure size 640x480 with 1 Axes>",
      "image/png": "[encoded data removed]"
     },
     "metadata": {},
     "output_type": "display_data"
    }
   ],
   "source": [
    "plt.scatter(df_14['displ'],df_14['cmb_mpg'])\n",
    "plt.title('Scatter Plot Displacement Vs Combined MPG 2014')\n",
    "plt.xlabel('Displacement')\n",
    "plt.ylabel('Combined MPG');"
   ]
  },
  {
   "cell_type": "markdown",
   "metadata": {
    "collapsed": false
   },
   "source": [
    "### Exploring the correlation between greenhouse gas score and combined mpg using scatterplot.\n"
   ]
  },
  {
   "cell_type": "code",
   "execution_count": 69,
   "metadata": {
    "collapsed": false,
    "ExecuteTime": {
     "end_time": "2023-07-09T11:26:51.211670400Z",
     "start_time": "2023-07-09T11:26:51.058418600Z"
    }
   },
   "outputs": [
    {
     "data": {
      "text/plain": "<Figure size 640x480 with 1 Axes>",
      "image/png": "[encoded data removed]"
     },
     "metadata": {},
     "output_type": "display_data"
    }
   ],
   "source": [
    "plt.scatter(df_10['greenhouse_gas_score'],df_10['cmb_mpg'])\n",
    "plt.title('Scatter Plot Green House Gas Score Vs Combined MPG 2010')\n",
    "plt.xlabel('Green House Gas Score')\n",
    "plt.ylabel('Combined MPG');"
   ]
  },
  {
   "cell_type": "code",
   "execution_count": 70,
   "metadata": {
    "collapsed": false,
    "ExecuteTime": {
     "end_time": "2023-07-09T11:26:52.006614100Z",
     "start_time": "2023-07-09T11:26:51.857124300Z"
    }
   },
   "outputs": [
    {
     "data": {
      "text/plain": "<Figure size 640x480 with 1 Axes>",
      "image/png": "[encoded data removed]"
     },
     "metadata": {},
     "output_type": "display_data"
    }
   ],
   "source": [
    "plt.scatter(df_14['greenhouse_gas_score'],df_14['cmb_mpg'])\n",
    "plt.title('Scatter Plot Green House Gas Score Vs Combined MPG 2014')\n",
    "plt.xlabel('Green House Gas Score')\n",
    "plt.ylabel('Combined MPG');"
   ]
  },
  {
   "cell_type": "markdown",
   "metadata": {
    "collapsed": false
   },
   "source": [
    "# Conclusion And Visual\n",
    "\n",
    "Now we are going to draw conclusion, create visuals to answer the following questions:\n",
    "\n",
    "1. Are more unique models using alternative fuels in 2014 compared to 2010? By how much?\n",
    "2. How much have vehicle classes improved in fuel economy \\(increased in mpg\\)?\n",
    "3. What are the characteristics of SmartWay vehicles? Have they changed over time? \\(mpg, greenhouse gas\\)\n",
    "4. What features are associated with better fuel economy \\(mpg\\)?\n",
    "5. For all of the models that were produced in 2010 that are still being produced in 201, how much has the mpg improved and which vehicle improved the most?\n",
    "\n"
   ]
  },
  {
   "cell_type": "markdown",
   "metadata": {
    "collapsed": false
   },
   "source": [
    "### Q1: Are more unique models using alternative sources of fuel? By how much?"
   ]
  },
  {
   "cell_type": "markdown",
   "metadata": {
    "collapsed": false
   },
   "source": [
    "Lets first explore what are the sources of fuels and which ones are alternative."
   ]
  },
  {
   "cell_type": "code",
   "execution_count": 71,
   "metadata": {
    "collapsed": false,
    "ExecuteTime": {
     "end_time": "2023-07-09T11:26:57.550604500Z",
     "start_time": "2023-07-09T11:26:57.529168800Z"
    }
   },
   "outputs": [
    {
     "data": {
      "text/plain": "fuel\nGasoline       984\nCNG              1\nethanol/gas      1\nName: count, dtype: int64"
     },
     "execution_count": 71,
     "metadata": {},
     "output_type": "execute_result"
    }
   ],
   "source": [
    "df_10.fuel.value_counts()"
   ]
  },
  {
   "cell_type": "code",
   "execution_count": 72,
   "metadata": {
    "collapsed": false,
    "ExecuteTime": {
     "end_time": "2023-07-09T11:26:58.163771100Z",
     "start_time": "2023-07-09T11:26:58.153067600Z"
    }
   },
   "outputs": [
    {
     "data": {
      "text/plain": "fuel\nGasoline                737\nEthanol/Gas              26\nDiesel                   19\nGasoline/Electricity     12\nName: count, dtype: int64"
     },
     "execution_count": 72,
     "metadata": {},
     "output_type": "execute_result"
    }
   ],
   "source": [
    "df_14.fuel.value_counts()"
   ]
  },
  {
   "cell_type": "markdown",
   "metadata": {
    "collapsed": false
   },
   "source": [
    "Alternative sources of fuel available in 2010 are CNG and ethanol, and those in 2014 are ethanol and electricity.\n"
   ]
  },
  {
   "cell_type": "code",
   "execution_count": 73,
   "metadata": {
    "collapsed": false,
    "ExecuteTime": {
     "end_time": "2023-07-09T11:26:59.181993300Z",
     "start_time": "2023-07-09T11:26:59.170845600Z"
    }
   },
   "outputs": [
    {
     "name": "stdout",
     "output_type": "stream",
     "text": [
      "1 unique models are using alternative source of fuel in 2010\n"
     ]
    }
   ],
   "source": [
    "#how many unique models are using alternative source of fuel in 2010\n",
    "alt_10 = df_10.query('fuel in [\"CNG\", \"ethanol\"]').model.nunique()\n",
    "\n",
    "print(str(alt_10)+\" unique models are using alternative source of fuel in 2010\")"
   ]
  },
  {
   "cell_type": "code",
   "execution_count": 74,
   "metadata": {
    "collapsed": false,
    "ExecuteTime": {
     "end_time": "2023-07-09T11:26:59.688074100Z",
     "start_time": "2023-07-09T11:26:59.675745500Z"
    }
   },
   "outputs": [
    {
     "name": "stdout",
     "output_type": "stream",
     "text": [
      "0 unique models are using alternative source of fuel in 2014\n"
     ]
    }
   ],
   "source": [
    "#how many unique models are using alternative source of fuel in 2014\n",
    "alt_14 = df_14.query('fuel in [\"Electricity\", \"Ethanol\"]').model.nunique()\n",
    "\n",
    "print(str(alt_14)+\" unique models are using alternative source of fuel in 2014\")"
   ]
  },
  {
   "cell_type": "code",
   "execution_count": 75,
   "metadata": {
    "collapsed": false,
    "ExecuteTime": {
     "end_time": "2023-07-09T11:27:00.223362500Z",
     "start_time": "2023-07-09T11:27:00.121902400Z"
    }
   },
   "outputs": [
    {
     "data": {
      "text/plain": "<Figure size 640x480 with 1 Axes>",
      "image/png": "[encoded data removed]"
     },
     "metadata": {},
     "output_type": "display_data"
    }
   ],
   "source": [
    "plt.bar(['2010','2014'],[alt_10, alt_14])\n",
    "plt.title('Number of Unique Models Using Alternate Fuel')\n",
    "plt.xlabel('Year')\n",
    "plt.ylabel('Number of Unique Models');"
   ]
  },
  {
   "cell_type": "markdown",
   "metadata": {
    "collapsed": false
   },
   "source": [
    "Since 2010, the number of unique models using alternative sources of fuel increased by 24.\n"
   ]
  },
  {
   "cell_type": "markdown",
   "metadata": {
    "collapsed": false
   },
   "source": [
    "#### Let us look at proportions."
   ]
  },
  {
   "cell_type": "code",
   "execution_count": 76,
   "metadata": {
    "collapsed": false,
    "ExecuteTime": {
     "end_time": "2023-07-09T11:27:01.646286800Z",
     "start_time": "2023-07-09T11:27:01.635495900Z"
    }
   },
   "outputs": [
    {
     "data": {
      "text/plain": "(377, 357)"
     },
     "execution_count": 76,
     "metadata": {},
     "output_type": "execute_result"
    }
   ],
   "source": [
    "#total unique models \n",
    "total_10 = df_10.model.nunique()\n",
    "total_14 = df_14.model.nunique()\n",
    "\n",
    "total_10,total_14"
   ]
  },
  {
   "cell_type": "code",
   "execution_count": 77,
   "metadata": {
    "collapsed": false,
    "ExecuteTime": {
     "end_time": "2023-07-09T11:27:02.050077800Z",
     "start_time": "2023-07-09T11:27:02.016788600Z"
    }
   },
   "outputs": [
    {
     "data": {
      "text/plain": "(0.002652519893899204, 0.0)"
     },
     "execution_count": 77,
     "metadata": {},
     "output_type": "execute_result"
    }
   ],
   "source": [
    "#Calculating proportions\n",
    "prop_10 = alt_10/total_10\n",
    "prop_14 = alt_14/total_14\n",
    "\n",
    "prop_10,prop_14"
   ]
  },
  {
   "cell_type": "code",
   "execution_count": 78,
   "metadata": {
    "collapsed": false,
    "ExecuteTime": {
     "end_time": "2023-07-09T11:27:02.695834500Z",
     "start_time": "2023-07-09T11:27:02.590411900Z"
    }
   },
   "outputs": [
    {
     "data": {
      "text/plain": "<Figure size 640x480 with 1 Axes>",
      "image/png": "[encoded data removed]"
     },
     "metadata": {},
     "output_type": "display_data"
    }
   ],
   "source": [
    "plt.bar([\"2010\", \"2014\"], [prop_10,prop_14])\n",
    "plt.title(\"Proportion of Unique Models Using Alternative Fuels\")\n",
    "plt.xlabel(\"Year\")\n",
    "plt.ylabel(\"Proportion of Unique Models\");"
   ]
  },
  {
   "cell_type": "markdown",
   "metadata": {
    "collapsed": false
   },
   "source": [
    "### Q2: How much have vehicle classes improved in fuel economy?  "
   ]
  },
  {
   "cell_type": "markdown",
   "metadata": {
    "collapsed": false
   },
   "source": [
    "Lets explore the the average fuel economy for each vehicle class"
   ]
  },
  {
   "cell_type": "code",
   "execution_count": 79,
   "metadata": {
    "collapsed": false,
    "ExecuteTime": {
     "end_time": "2023-07-09T11:27:04.221791400Z",
     "start_time": "2023-07-09T11:27:04.193798300Z"
    }
   },
   "outputs": [
    {
     "data": {
      "text/plain": "veh_class\nSUV              18.471429\nlarge car        18.509091\nmidsize car      21.601449\nminivan          19.117647\npickup           16.277108\nsmall car        21.123867\nstation wagon    22.366667\nvan              14.952381\nName: cmb_mpg, dtype: float64"
     },
     "execution_count": 79,
     "metadata": {},
     "output_type": "execute_result"
    }
   ],
   "source": [
    "veh_10 = df_10.groupby('veh_class').cmb_mpg.mean()\n",
    "veh_10"
   ]
  },
  {
   "cell_type": "code",
   "execution_count": 80,
   "metadata": {
    "collapsed": false,
    "ExecuteTime": {
     "end_time": "2023-07-09T11:27:04.770164200Z",
     "start_time": "2023-07-09T11:27:04.758644900Z"
    }
   },
   "outputs": [
    {
     "data": {
      "text/plain": "veh_class\nlarge car          23.381579\nmidsize car        26.643939\nminivan            20.800000\npickup             19.171875\nsmall SUV          23.870000\nsmall car          24.077491\nspecial purpose    18.500000\nstandard SUV       18.203125\nstation wagon      27.529412\nName: cmb_mpg, dtype: float64"
     },
     "execution_count": 80,
     "metadata": {},
     "output_type": "execute_result"
    }
   ],
   "source": [
    "veh_14 = df_14.groupby('veh_class').cmb_mpg.mean()\n",
    "veh_14"
   ]
  },
  {
   "cell_type": "code",
   "execution_count": 81,
   "metadata": {
    "collapsed": false,
    "ExecuteTime": {
     "end_time": "2023-07-09T11:27:05.289939100Z",
     "start_time": "2023-07-09T11:27:05.279883Z"
    }
   },
   "outputs": [
    {
     "data": {
      "text/plain": "4.872488038277513"
     },
     "execution_count": 81,
     "metadata": {},
     "output_type": "execute_result"
    }
   ],
   "source": [
    "#Improvements in the average fuel economy for each class\n",
    "inc = veh_14-veh_10\n",
    "inc[1]"
   ]
  },
  {
   "cell_type": "code",
   "execution_count": 82,
   "metadata": {
    "collapsed": false,
    "ExecuteTime": {
     "end_time": "2023-07-09T11:27:05.973589Z",
     "start_time": "2023-07-09T11:27:05.819929400Z"
    }
   },
   "outputs": [
    {
     "data": {
      "text/plain": "Text(0, 0.5, 'Increase in Average Combined MPG')"
     },
     "execution_count": 82,
     "metadata": {},
     "output_type": "execute_result"
    },
    {
     "data": {
      "text/plain": "<Figure size 640x480 with 1 Axes>",
      "image/png": "[encoded data removed]"
     },
     "metadata": {},
     "output_type": "display_data"
    }
   ],
   "source": [
    "#plotting vehicles classes that exist in both year\n",
    "inc.dropna(inplace=True)\n",
    "plt.bar(inc.index,inc)\n",
    "plt.title('Improvements in the Average Fuel Economy From 2010 to 2014 By Vehicles Class')\n",
    "plt.xlabel('Vehicle Class')\n",
    "plt.ylabel('Increase in Average Combined MPG')"
   ]
  },
  {
   "cell_type": "code",
   "execution_count": 83,
   "metadata": {
    "collapsed": false,
    "ExecuteTime": {
     "end_time": "2023-07-09T11:27:06.297699400Z",
     "start_time": "2023-07-09T11:27:06.283893100Z"
    }
   },
   "outputs": [
    {
     "data": {
      "text/plain": "veh_class\nlarge car        4.872488\nmidsize car      5.042490\nminivan          1.682353\npickup           2.894767\nsmall car        2.953624\nstation wagon    5.162745\nName: cmb_mpg, dtype: float64"
     },
     "execution_count": 83,
     "metadata": {},
     "output_type": "execute_result"
    }
   ],
   "source": [
    "inc"
   ]
  },
  {
   "cell_type": "markdown",
   "metadata": {
    "collapsed": false
   },
   "source": [
    "# Q3. What are the characteristics of SmartWay vehicles? Have they changed over time? (mpg, greenhouse gas)"
   ]
  },
  {
   "cell_type": "markdown",
   "metadata": {
    "collapsed": false
   },
   "source": [
    "We will analyze this by filtering each dataframe by SmartWay classification and exploring these datasets."
   ]
  },
  {
   "cell_type": "code",
   "execution_count": 84,
   "metadata": {
    "collapsed": false,
    "ExecuteTime": {
     "end_time": "2023-07-09T11:27:07.763955300Z",
     "start_time": "2023-07-09T11:27:07.753145100Z"
    }
   },
   "outputs": [
    {
     "data": {
      "text/plain": "smartway\nno     606\nyes    380\nName: count, dtype: int64"
     },
     "execution_count": 84,
     "metadata": {},
     "output_type": "execute_result"
    }
   ],
   "source": [
    "df_10.smartway.value_counts()"
   ]
  },
  {
   "cell_type": "code",
   "execution_count": 85,
   "metadata": {
    "collapsed": false,
    "ExecuteTime": {
     "end_time": "2023-07-09T11:27:08.369057300Z",
     "start_time": "2023-07-09T11:27:08.355537400Z"
    }
   },
   "outputs": [],
   "source": [
    "# Get all smartway vehicles in 2010\n",
    "smart_10 = df_10.query('smartway == \"yes\"')"
   ]
  },
  {
   "cell_type": "code",
   "execution_count": 86,
   "metadata": {
    "collapsed": false,
    "ExecuteTime": {
     "end_time": "2023-07-09T11:27:08.975687Z",
     "start_time": "2023-07-09T11:27:08.937881800Z"
    }
   },
   "outputs": [
    {
     "data": {
      "text/plain": "            displ         cyl    city_mpg     hwy_mpg     cmb_mpg  \\\ncount  986.000000  986.000000  985.000000  985.000000  985.000000   \nmean     3.497566    6.022312   17.389848   24.042640   19.791878   \nstd      1.242012    1.861038    4.089733    4.755422    4.252968   \nmin      1.300000    2.000000    8.000000   13.000000   10.000000   \n25%      2.500000    4.000000   15.000000   20.000000   17.000000   \n50%      3.500000    6.000000   17.000000   24.000000   20.000000   \n75%      4.200000    6.000000   20.000000   27.000000   22.000000   \nmax      8.400000   16.000000   48.000000   45.000000   46.000000   \n\n       greenhouse_gas_score  \ncount            300.000000  \nmean               4.610000  \nstd                1.572517  \nmin                1.000000  \n25%                3.000000  \n50%                5.000000  \n75%                5.000000  \nmax               10.000000  ",
      "text/html": "<div>\n<style scoped>\n    .dataframe tbody tr th:only-of-type {\n        vertical-align: middle;\n    }\n\n    .dataframe tbody tr th {\n        vertical-align: top;\n    }\n\n    .dataframe thead th {\n        text-align: right;\n    }\n</style>\n<table border=\"1\" class=\"dataframe\">\n  <thead>\n    <tr style=\"text-align: right;\">\n      <th></th>\n      <th>displ</th>\n      <th>cyl</th>\n      <th>city_mpg</th>\n      <th>hwy_mpg</th>\n      <th>cmb_mpg</th>\n      <th>greenhouse_gas_score</th>\n    </tr>\n  </thead>\n  <tbody>\n    <tr>\n      <th>count</th>\n      <td>986.000000</td>\n      <td>986.000000</td>\n      <td>985.000000</td>\n      <td>985.000000</td>\n      <td>985.000000</td>\n      <td>300.000000</td>\n    </tr>\n    <tr>\n      <th>mean</th>\n      <td>3.497566</td>\n      <td>6.022312</td>\n      <td>17.389848</td>\n      <td>24.042640</td>\n      <td>19.791878</td>\n      <td>4.610000</td>\n    </tr>\n    <tr>\n      <th>std</th>\n      <td>1.242012</td>\n      <td>1.861038</td>\n      <td>4.089733</td>\n      <td>4.755422</td>\n      <td>4.252968</td>\n      <td>1.572517</td>\n    </tr>\n    <tr>\n      <th>min</th>\n      <td>1.300000</td>\n      <td>2.000000</td>\n      <td>8.000000</td>\n      <td>13.000000</td>\n      <td>10.000000</td>\n      <td>1.000000</td>\n    </tr>\n    <tr>\n      <th>25%</th>\n      <td>2.500000</td>\n      <td>4.000000</td>\n      <td>15.000000</td>\n      <td>20.000000</td>\n      <td>17.000000</td>\n      <td>3.000000</td>\n    </tr>\n    <tr>\n      <th>50%</th>\n      <td>3.500000</td>\n      <td>6.000000</td>\n      <td>17.000000</td>\n      <td>24.000000</td>\n      <td>20.000000</td>\n      <td>5.000000</td>\n    </tr>\n    <tr>\n      <th>75%</th>\n      <td>4.200000</td>\n      <td>6.000000</td>\n      <td>20.000000</td>\n      <td>27.000000</td>\n      <td>22.000000</td>\n      <td>5.000000</td>\n    </tr>\n    <tr>\n      <th>max</th>\n      <td>8.400000</td>\n      <td>16.000000</td>\n      <td>48.000000</td>\n      <td>45.000000</td>\n      <td>46.000000</td>\n      <td>10.000000</td>\n    </tr>\n  </tbody>\n</table>\n</div>"
     },
     "execution_count": 86,
     "metadata": {},
     "output_type": "execute_result"
    }
   ],
   "source": [
    "df_10.describe()"
   ]
  },
  {
   "cell_type": "code",
   "execution_count": 87,
   "metadata": {
    "collapsed": false,
    "ExecuteTime": {
     "end_time": "2023-07-09T11:27:09.529077800Z",
     "start_time": "2023-07-09T11:27:09.488444400Z"
    }
   },
   "outputs": [
    {
     "data": {
      "text/plain": "            displ         cyl    city_mpg     hwy_mpg     cmb_mpg  \\\ncount  380.000000  380.000000  380.000000  380.000000  380.000000   \nmean     2.602895    4.826316   20.984211   28.413158   23.736842   \nstd      0.623436    1.002025    3.442672    3.075194    3.060379   \nmin      1.300000    4.000000   17.000000   22.000000   20.000000   \n25%      2.275000    4.000000   19.000000   26.000000   22.000000   \n50%      2.400000    4.000000   20.000000   28.000000   23.000000   \n75%      3.000000    6.000000   22.000000   30.000000   25.000000   \nmax      5.000000    8.000000   48.000000   45.000000   46.000000   \n\n       greenhouse_gas_score  \ncount             97.000000  \nmean               4.659794  \nstd                1.593519  \nmin                2.000000  \n25%                3.000000  \n50%                5.000000  \n75%                6.000000  \nmax               10.000000  ",
      "text/html": "<div>\n<style scoped>\n    .dataframe tbody tr th:only-of-type {\n        vertical-align: middle;\n    }\n\n    .dataframe tbody tr th {\n        vertical-align: top;\n    }\n\n    .dataframe thead th {\n        text-align: right;\n    }\n</style>\n<table border=\"1\" class=\"dataframe\">\n  <thead>\n    <tr style=\"text-align: right;\">\n      <th></th>\n      <th>displ</th>\n      <th>cyl</th>\n      <th>city_mpg</th>\n      <th>hwy_mpg</th>\n      <th>cmb_mpg</th>\n      <th>greenhouse_gas_score</th>\n    </tr>\n  </thead>\n  <tbody>\n    <tr>\n      <th>count</th>\n      <td>380.000000</td>\n      <td>380.000000</td>\n      <td>380.000000</td>\n      <td>380.000000</td>\n      <td>380.000000</td>\n      <td>97.000000</td>\n    </tr>\n    <tr>\n      <th>mean</th>\n      <td>2.602895</td>\n      <td>4.826316</td>\n      <td>20.984211</td>\n      <td>28.413158</td>\n      <td>23.736842</td>\n      <td>4.659794</td>\n    </tr>\n    <tr>\n      <th>std</th>\n      <td>0.623436</td>\n      <td>1.002025</td>\n      <td>3.442672</td>\n      <td>3.075194</td>\n      <td>3.060379</td>\n      <td>1.593519</td>\n    </tr>\n    <tr>\n      <th>min</th>\n      <td>1.300000</td>\n      <td>4.000000</td>\n      <td>17.000000</td>\n      <td>22.000000</td>\n      <td>20.000000</td>\n      <td>2.000000</td>\n    </tr>\n    <tr>\n      <th>25%</th>\n      <td>2.275000</td>\n      <td>4.000000</td>\n      <td>19.000000</td>\n      <td>26.000000</td>\n      <td>22.000000</td>\n      <td>3.000000</td>\n    </tr>\n    <tr>\n      <th>50%</th>\n      <td>2.400000</td>\n      <td>4.000000</td>\n      <td>20.000000</td>\n      <td>28.000000</td>\n      <td>23.000000</td>\n      <td>5.000000</td>\n    </tr>\n    <tr>\n      <th>75%</th>\n      <td>3.000000</td>\n      <td>6.000000</td>\n      <td>22.000000</td>\n      <td>30.000000</td>\n      <td>25.000000</td>\n      <td>6.000000</td>\n    </tr>\n    <tr>\n      <th>max</th>\n      <td>5.000000</td>\n      <td>8.000000</td>\n      <td>48.000000</td>\n      <td>45.000000</td>\n      <td>46.000000</td>\n      <td>10.000000</td>\n    </tr>\n  </tbody>\n</table>\n</div>"
     },
     "execution_count": 87,
     "metadata": {},
     "output_type": "execute_result"
    }
   ],
   "source": [
    "#Explore smartway vehicles in 2010.\n",
    "smart_10.describe()"
   ]
  },
  {
   "cell_type": "code",
   "execution_count": 88,
   "metadata": {
    "collapsed": false,
    "ExecuteTime": {
     "end_time": "2023-07-09T11:27:10.091906200Z",
     "start_time": "2023-07-09T11:27:10.065883800Z"
    }
   },
   "outputs": [
    {
     "data": {
      "text/plain": "smartway\nNo       697\nYes       87\nElite     10\nName: count, dtype: int64"
     },
     "execution_count": 88,
     "metadata": {},
     "output_type": "execute_result"
    }
   ],
   "source": [
    "df_14.smartway.value_counts()"
   ]
  },
  {
   "cell_type": "code",
   "execution_count": 89,
   "metadata": {
    "collapsed": false,
    "ExecuteTime": {
     "end_time": "2023-07-09T11:27:10.667669Z",
     "start_time": "2023-07-09T11:27:10.640732300Z"
    }
   },
   "outputs": [
    {
     "data": {
      "text/plain": "            displ         cyl  air_pollution_score    city_mpg     hwy_mpg  \\\ncount  794.000000  794.000000           794.000000  756.000000  756.000000   \nmean     3.055919    5.476071             3.973552   20.783069   28.349206   \nstd      1.349381    1.754851             1.824053    5.062840    5.740274   \nmin      1.200000    3.000000             1.000000    9.000000   14.000000   \n25%      2.000000    4.000000             3.000000   17.000000   24.000000   \n50%      2.950000    6.000000             3.000000   20.000000   28.000000   \n75%      3.600000    6.000000             5.000000   23.250000   32.000000   \nmax      8.000000   16.000000             7.000000   51.000000   53.000000   \n\n          cmb_mpg  greenhouse_gas_score  \ncount  756.000000            794.000000  \nmean    23.575397              4.711587  \nstd      5.255171              1.653058  \nmin     11.000000              1.000000  \n25%     20.000000              3.250000  \n50%     23.000000              5.000000  \n75%     27.000000              6.000000  \nmax     52.000000             10.000000  ",
      "text/html": "<div>\n<style scoped>\n    .dataframe tbody tr th:only-of-type {\n        vertical-align: middle;\n    }\n\n    .dataframe tbody tr th {\n        vertical-align: top;\n    }\n\n    .dataframe thead th {\n        text-align: right;\n    }\n</style>\n<table border=\"1\" class=\"dataframe\">\n  <thead>\n    <tr style=\"text-align: right;\">\n      <th></th>\n      <th>displ</th>\n      <th>cyl</th>\n      <th>air_pollution_score</th>\n      <th>city_mpg</th>\n      <th>hwy_mpg</th>\n      <th>cmb_mpg</th>\n      <th>greenhouse_gas_score</th>\n    </tr>\n  </thead>\n  <tbody>\n    <tr>\n      <th>count</th>\n      <td>794.000000</td>\n      <td>794.000000</td>\n      <td>794.000000</td>\n      <td>756.000000</td>\n      <td>756.000000</td>\n      <td>756.000000</td>\n      <td>794.000000</td>\n    </tr>\n    <tr>\n      <th>mean</th>\n      <td>3.055919</td>\n      <td>5.476071</td>\n      <td>3.973552</td>\n      <td>20.783069</td>\n      <td>28.349206</td>\n      <td>23.575397</td>\n      <td>4.711587</td>\n    </tr>\n    <tr>\n      <th>std</th>\n      <td>1.349381</td>\n      <td>1.754851</td>\n      <td>1.824053</td>\n      <td>5.062840</td>\n      <td>5.740274</td>\n      <td>5.255171</td>\n      <td>1.653058</td>\n    </tr>\n    <tr>\n      <th>min</th>\n      <td>1.200000</td>\n      <td>3.000000</td>\n      <td>1.000000</td>\n      <td>9.000000</td>\n      <td>14.000000</td>\n      <td>11.000000</td>\n      <td>1.000000</td>\n    </tr>\n    <tr>\n      <th>25%</th>\n      <td>2.000000</td>\n      <td>4.000000</td>\n      <td>3.000000</td>\n      <td>17.000000</td>\n      <td>24.000000</td>\n      <td>20.000000</td>\n      <td>3.250000</td>\n    </tr>\n    <tr>\n      <th>50%</th>\n      <td>2.950000</td>\n      <td>6.000000</td>\n      <td>3.000000</td>\n      <td>20.000000</td>\n      <td>28.000000</td>\n      <td>23.000000</td>\n      <td>5.000000</td>\n    </tr>\n    <tr>\n      <th>75%</th>\n      <td>3.600000</td>\n      <td>6.000000</td>\n      <td>5.000000</td>\n      <td>23.250000</td>\n      <td>32.000000</td>\n      <td>27.000000</td>\n      <td>6.000000</td>\n    </tr>\n    <tr>\n      <th>max</th>\n      <td>8.000000</td>\n      <td>16.000000</td>\n      <td>7.000000</td>\n      <td>51.000000</td>\n      <td>53.000000</td>\n      <td>52.000000</td>\n      <td>10.000000</td>\n    </tr>\n  </tbody>\n</table>\n</div>"
     },
     "execution_count": 89,
     "metadata": {},
     "output_type": "execute_result"
    }
   ],
   "source": [
    "df_14.describe()"
   ]
  },
  {
   "cell_type": "code",
   "execution_count": 90,
   "metadata": {
    "collapsed": false,
    "ExecuteTime": {
     "end_time": "2023-07-09T11:27:11.160441700Z",
     "start_time": "2023-07-09T11:27:11.137541900Z"
    }
   },
   "outputs": [
    {
     "data": {
      "text/plain": "           displ        cyl  air_pollution_score   city_mpg    hwy_mpg  \\\ncount  97.000000  97.000000            97.000000  86.000000  86.000000   \nmean    1.779381   3.938144             5.175258  30.000000  38.093023   \nstd     0.423266   0.428525             1.779573   4.886957   3.781154   \nmin     1.200000   3.000000             3.000000  26.000000  30.000000   \n25%     1.500000   4.000000             3.000000  28.000000  36.000000   \n50%     1.600000   4.000000             5.000000  28.000000  37.000000   \n75%     2.000000   4.000000             7.000000  30.000000  39.750000   \nmax     3.500000   6.000000             7.000000  51.000000  53.000000   \n\n         cmb_mpg  greenhouse_gas_score  \ncount  86.000000             97.000000  \nmean   33.093023              7.711340  \nstd     3.995962              1.060255  \nmin    30.000000              7.000000  \n25%    31.000000              7.000000  \n50%    32.000000              7.000000  \n75%    33.750000              8.000000  \nmax    52.000000             10.000000  ",
      "text/html": "<div>\n<style scoped>\n    .dataframe tbody tr th:only-of-type {\n        vertical-align: middle;\n    }\n\n    .dataframe tbody tr th {\n        vertical-align: top;\n    }\n\n    .dataframe thead th {\n        text-align: right;\n    }\n</style>\n<table border=\"1\" class=\"dataframe\">\n  <thead>\n    <tr style=\"text-align: right;\">\n      <th></th>\n      <th>displ</th>\n      <th>cyl</th>\n      <th>air_pollution_score</th>\n      <th>city_mpg</th>\n      <th>hwy_mpg</th>\n      <th>cmb_mpg</th>\n      <th>greenhouse_gas_score</th>\n    </tr>\n  </thead>\n  <tbody>\n    <tr>\n      <th>count</th>\n      <td>97.000000</td>\n      <td>97.000000</td>\n      <td>97.000000</td>\n      <td>86.000000</td>\n      <td>86.000000</td>\n      <td>86.000000</td>\n      <td>97.000000</td>\n    </tr>\n    <tr>\n      <th>mean</th>\n      <td>1.779381</td>\n      <td>3.938144</td>\n      <td>5.175258</td>\n      <td>30.000000</td>\n      <td>38.093023</td>\n      <td>33.093023</td>\n      <td>7.711340</td>\n    </tr>\n    <tr>\n      <th>std</th>\n      <td>0.423266</td>\n      <td>0.428525</td>\n      <td>1.779573</td>\n      <td>4.886957</td>\n      <td>3.781154</td>\n      <td>3.995962</td>\n      <td>1.060255</td>\n    </tr>\n    <tr>\n      <th>min</th>\n      <td>1.200000</td>\n      <td>3.000000</td>\n      <td>3.000000</td>\n      <td>26.000000</td>\n      <td>30.000000</td>\n      <td>30.000000</td>\n      <td>7.000000</td>\n    </tr>\n    <tr>\n      <th>25%</th>\n      <td>1.500000</td>\n      <td>4.000000</td>\n      <td>3.000000</td>\n      <td>28.000000</td>\n      <td>36.000000</td>\n      <td>31.000000</td>\n      <td>7.000000</td>\n    </tr>\n    <tr>\n      <th>50%</th>\n      <td>1.600000</td>\n      <td>4.000000</td>\n      <td>5.000000</td>\n      <td>28.000000</td>\n      <td>37.000000</td>\n      <td>32.000000</td>\n      <td>7.000000</td>\n    </tr>\n    <tr>\n      <th>75%</th>\n      <td>2.000000</td>\n      <td>4.000000</td>\n      <td>7.000000</td>\n      <td>30.000000</td>\n      <td>39.750000</td>\n      <td>33.750000</td>\n      <td>8.000000</td>\n    </tr>\n    <tr>\n      <th>max</th>\n      <td>3.500000</td>\n      <td>6.000000</td>\n      <td>7.000000</td>\n      <td>51.000000</td>\n      <td>53.000000</td>\n      <td>52.000000</td>\n      <td>10.000000</td>\n    </tr>\n  </tbody>\n</table>\n</div>"
     },
     "execution_count": 90,
     "metadata": {},
     "output_type": "execute_result"
    }
   ],
   "source": [
    "# Get all smartway vehicles in 2014\n",
    "smart_14 = df_14.query('smartway in [\"Yes\",\"Elite\"]')\n",
    "smart_14.describe()"
   ]
  },
  {
   "cell_type": "markdown",
   "metadata": {
    "collapsed": false
   },
   "source": [
    "Higher fuel economy and better greenhouse gas score are the characteristics of a SmartWay vehicle.\n",
    "\n",
    "The average combined mpg has improved from 23.73 to 37.36 between 2010 to 2014. That is more than top 75% of vehicles in 2010\\(25.00\\). That is a significant improvement in the fuel economy of the SmartWay vehicles.\n",
    "\n",
    "The average greenhouse gas score has improved from 6.88 to 7.93 between 2010 to 2014. That is more than top 75% of vehicles in 2010\\(7.00\\). That is a significant improvement in the greenhouse gas score of the SmartWay vehicles.\n",
    "\n"
   ]
  },
  {
   "cell_type": "markdown",
   "metadata": {
    "collapsed": false
   },
   "source": [
    "## Q4: What features are associated with better fuel economy?"
   ]
  },
  {
   "cell_type": "markdown",
   "metadata": {
    "collapsed": false
   },
   "source": [
    "I am going to explore trends between cmb_mpg and the other features in this dataset, or filter this dataset like in the previous question and explore the properties of that dataset."
   ]
  },
  {
   "cell_type": "code",
   "execution_count": 91,
   "metadata": {
    "collapsed": false,
    "ExecuteTime": {
     "end_time": "2023-07-09T11:27:14.036353100Z",
     "start_time": "2023-07-09T11:27:13.970909Z"
    }
   },
   "outputs": [
    {
     "data": {
      "text/plain": "            displ         cyl    city_mpg     hwy_mpg     cmb_mpg  \\\ncount  518.000000  518.000000  518.000000  518.000000  518.000000   \nmean     2.667181    4.888031   20.322394   27.608108   22.996139   \nstd      0.666034    1.034703    3.199722    3.051919    2.927886   \nmin      1.300000    4.000000   17.000000   20.000000   20.000000   \n25%      2.300000    4.000000   18.000000   25.000000   21.000000   \n50%      2.500000    4.000000   20.000000   27.000000   22.000000   \n75%      3.000000    6.000000   21.000000   29.000000   24.000000   \nmax      6.000000    8.000000   48.000000   45.000000   46.000000   \n\n       greenhouse_gas_score  \ncount            134.000000  \nmean               4.768657  \nstd                1.584294  \nmin                2.000000  \n25%                4.000000  \n50%                5.000000  \n75%                6.000000  \nmax               10.000000  ",
      "text/html": "<div>\n<style scoped>\n    .dataframe tbody tr th:only-of-type {\n        vertical-align: middle;\n    }\n\n    .dataframe tbody tr th {\n        vertical-align: top;\n    }\n\n    .dataframe thead th {\n        text-align: right;\n    }\n</style>\n<table border=\"1\" class=\"dataframe\">\n  <thead>\n    <tr style=\"text-align: right;\">\n      <th></th>\n      <th>displ</th>\n      <th>cyl</th>\n      <th>city_mpg</th>\n      <th>hwy_mpg</th>\n      <th>cmb_mpg</th>\n      <th>greenhouse_gas_score</th>\n    </tr>\n  </thead>\n  <tbody>\n    <tr>\n      <th>count</th>\n      <td>518.000000</td>\n      <td>518.000000</td>\n      <td>518.000000</td>\n      <td>518.000000</td>\n      <td>518.000000</td>\n      <td>134.000000</td>\n    </tr>\n    <tr>\n      <th>mean</th>\n      <td>2.667181</td>\n      <td>4.888031</td>\n      <td>20.322394</td>\n      <td>27.608108</td>\n      <td>22.996139</td>\n      <td>4.768657</td>\n    </tr>\n    <tr>\n      <th>std</th>\n      <td>0.666034</td>\n      <td>1.034703</td>\n      <td>3.199722</td>\n      <td>3.051919</td>\n      <td>2.927886</td>\n      <td>1.584294</td>\n    </tr>\n    <tr>\n      <th>min</th>\n      <td>1.300000</td>\n      <td>4.000000</td>\n      <td>17.000000</td>\n      <td>20.000000</td>\n      <td>20.000000</td>\n      <td>2.000000</td>\n    </tr>\n    <tr>\n      <th>25%</th>\n      <td>2.300000</td>\n      <td>4.000000</td>\n      <td>18.000000</td>\n      <td>25.000000</td>\n      <td>21.000000</td>\n      <td>4.000000</td>\n    </tr>\n    <tr>\n      <th>50%</th>\n      <td>2.500000</td>\n      <td>4.000000</td>\n      <td>20.000000</td>\n      <td>27.000000</td>\n      <td>22.000000</td>\n      <td>5.000000</td>\n    </tr>\n    <tr>\n      <th>75%</th>\n      <td>3.000000</td>\n      <td>6.000000</td>\n      <td>21.000000</td>\n      <td>29.000000</td>\n      <td>24.000000</td>\n      <td>6.000000</td>\n    </tr>\n    <tr>\n      <th>max</th>\n      <td>6.000000</td>\n      <td>8.000000</td>\n      <td>48.000000</td>\n      <td>45.000000</td>\n      <td>46.000000</td>\n      <td>10.000000</td>\n    </tr>\n  </tbody>\n</table>\n</div>"
     },
     "execution_count": 91,
     "metadata": {},
     "output_type": "execute_result"
    }
   ],
   "source": [
    "top_10 = df_10.query('cmb_mpg > cmb_mpg.mean()')\n",
    "top_10.describe()"
   ]
  },
  {
   "cell_type": "code",
   "execution_count": 92,
   "metadata": {
    "collapsed": false,
    "ExecuteTime": {
     "end_time": "2023-07-09T11:27:14.454571800Z",
     "start_time": "2023-07-09T11:27:14.434220600Z"
    }
   },
   "outputs": [
    {
     "data": {
      "text/plain": "            displ         cyl  air_pollution_score    city_mpg     hwy_mpg  \\\ncount  355.000000  355.000000           355.000000  355.000000  355.000000   \nmean     2.072113    4.183099             4.676056   24.845070   33.095775   \nstd      0.496354    0.691144             1.869882    4.145135    4.093106   \nmin      1.200000    3.000000             1.000000   20.000000   27.000000   \n25%      1.800000    4.000000             3.000000   22.000000   30.000000   \n50%      2.000000    4.000000             5.000000   24.000000   32.000000   \n75%      2.000000    4.000000             7.000000   27.000000   35.000000   \nmax      3.600000    6.000000             7.000000   51.000000   53.000000   \n\n          cmb_mpg  greenhouse_gas_score  \ncount  355.000000            355.000000  \nmean    27.943662              5.912676  \nstd      3.936241              1.055378  \nmin     24.000000              4.000000  \n25%     25.000000              5.000000  \n50%     27.000000              6.000000  \n75%     30.000000              7.000000  \nmax     52.000000             10.000000  ",
      "text/html": "<div>\n<style scoped>\n    .dataframe tbody tr th:only-of-type {\n        vertical-align: middle;\n    }\n\n    .dataframe tbody tr th {\n        vertical-align: top;\n    }\n\n    .dataframe thead th {\n        text-align: right;\n    }\n</style>\n<table border=\"1\" class=\"dataframe\">\n  <thead>\n    <tr style=\"text-align: right;\">\n      <th></th>\n      <th>displ</th>\n      <th>cyl</th>\n      <th>air_pollution_score</th>\n      <th>city_mpg</th>\n      <th>hwy_mpg</th>\n      <th>cmb_mpg</th>\n      <th>greenhouse_gas_score</th>\n    </tr>\n  </thead>\n  <tbody>\n    <tr>\n      <th>count</th>\n      <td>355.000000</td>\n      <td>355.000000</td>\n      <td>355.000000</td>\n      <td>355.000000</td>\n      <td>355.000000</td>\n      <td>355.000000</td>\n      <td>355.000000</td>\n    </tr>\n    <tr>\n      <th>mean</th>\n      <td>2.072113</td>\n      <td>4.183099</td>\n      <td>4.676056</td>\n      <td>24.845070</td>\n      <td>33.095775</td>\n      <td>27.943662</td>\n      <td>5.912676</td>\n    </tr>\n    <tr>\n      <th>std</th>\n      <td>0.496354</td>\n      <td>0.691144</td>\n      <td>1.869882</td>\n      <td>4.145135</td>\n      <td>4.093106</td>\n      <td>3.936241</td>\n      <td>1.055378</td>\n    </tr>\n    <tr>\n      <th>min</th>\n      <td>1.200000</td>\n      <td>3.000000</td>\n      <td>1.000000</td>\n      <td>20.000000</td>\n      <td>27.000000</td>\n      <td>24.000000</td>\n      <td>4.000000</td>\n    </tr>\n    <tr>\n      <th>25%</th>\n      <td>1.800000</td>\n      <td>4.000000</td>\n      <td>3.000000</td>\n      <td>22.000000</td>\n      <td>30.000000</td>\n      <td>25.000000</td>\n      <td>5.000000</td>\n    </tr>\n    <tr>\n      <th>50%</th>\n      <td>2.000000</td>\n      <td>4.000000</td>\n      <td>5.000000</td>\n      <td>24.000000</td>\n      <td>32.000000</td>\n      <td>27.000000</td>\n      <td>6.000000</td>\n    </tr>\n    <tr>\n      <th>75%</th>\n      <td>2.000000</td>\n      <td>4.000000</td>\n      <td>7.000000</td>\n      <td>27.000000</td>\n      <td>35.000000</td>\n      <td>30.000000</td>\n      <td>7.000000</td>\n    </tr>\n    <tr>\n      <th>max</th>\n      <td>3.600000</td>\n      <td>6.000000</td>\n      <td>7.000000</td>\n      <td>51.000000</td>\n      <td>53.000000</td>\n      <td>52.000000</td>\n      <td>10.000000</td>\n    </tr>\n  </tbody>\n</table>\n</div>"
     },
     "execution_count": 92,
     "metadata": {},
     "output_type": "execute_result"
    }
   ],
   "source": [
    "top_14 = df_14.query('cmb_mpg > cmb_mpg.mean()')\n",
    "top_14.describe()"
   ]
  },
  {
   "cell_type": "markdown",
   "metadata": {
    "collapsed": false
   },
   "source": [
    "Fewer number of cyl and lower displacement for vehicles is associated with better fuel economy."
   ]
  },
  {
   "cell_type": "markdown",
   "metadata": {
    "collapsed": false
   },
   "source": [
    "### Q5: For all of the models that were produced in 2010that are still being produced in 2014, how much has the mpg improved and which vehicle improved the most?\n",
    "\n",
    "This is a question regarding models that were updated since 2010 and still being produced in 2014. In order to do this, we need a way to compare models that exist in both datasets. To do this, we are goig to merge two datasets.\n",
    "\n"
   ]
  },
  {
   "cell_type": "markdown",
   "metadata": {
    "collapsed": false
   },
   "source": [
    "### Creat combined dataset"
   ]
  },
  {
   "cell_type": "code",
   "execution_count": 93,
   "metadata": {
    "collapsed": false,
    "ExecuteTime": {
     "end_time": "2023-07-09T11:27:16.467739700Z",
     "start_time": "2023-07-09T11:27:16.457719300Z"
    }
   },
   "outputs": [],
   "source": [
    "#rename 2010 dataset\n",
    "df_10.rename(columns=lambda x :x[:10]+ \"_2010\", inplace=True)"
   ]
  },
  {
   "cell_type": "code",
   "execution_count": 94,
   "metadata": {
    "collapsed": false,
    "ExecuteTime": {
     "end_time": "2023-07-09T11:27:16.910412Z",
     "start_time": "2023-07-09T11:27:16.854913700Z"
    }
   },
   "outputs": [
    {
     "data": {
      "text/plain": "  model_2010  displ_2010  cyl_2010 trans_2010 drive_2010 fuel_2010  \\\n0  ACURA MDX         3.7         6    Auto-S5        4WD  Gasoline   \n\n  veh_class_2010 air_pollut_2010  city_mpg_2010  hwy_mpg_2010  cmb_mpg_2010  \\\n0            SUV               7           15.0          20.0          17.0   \n\n   greenhouse_2010 smartway_2010  \n0              NaN            no  ",
      "text/html": "<div>\n<style scoped>\n    .dataframe tbody tr th:only-of-type {\n        vertical-align: middle;\n    }\n\n    .dataframe tbody tr th {\n        vertical-align: top;\n    }\n\n    .dataframe thead th {\n        text-align: right;\n    }\n</style>\n<table border=\"1\" class=\"dataframe\">\n  <thead>\n    <tr style=\"text-align: right;\">\n      <th></th>\n      <th>model_2010</th>\n      <th>displ_2010</th>\n      <th>cyl_2010</th>\n      <th>trans_2010</th>\n      <th>drive_2010</th>\n      <th>fuel_2010</th>\n      <th>veh_class_2010</th>\n      <th>air_pollut_2010</th>\n      <th>city_mpg_2010</th>\n      <th>hwy_mpg_2010</th>\n      <th>cmb_mpg_2010</th>\n      <th>greenhouse_2010</th>\n      <th>smartway_2010</th>\n    </tr>\n  </thead>\n  <tbody>\n    <tr>\n      <th>0</th>\n      <td>ACURA MDX</td>\n      <td>3.7</td>\n      <td>6</td>\n      <td>Auto-S5</td>\n      <td>4WD</td>\n      <td>Gasoline</td>\n      <td>SUV</td>\n      <td>7</td>\n      <td>15.0</td>\n      <td>20.0</td>\n      <td>17.0</td>\n      <td>NaN</td>\n      <td>no</td>\n    </tr>\n  </tbody>\n</table>\n</div>"
     },
     "execution_count": 94,
     "metadata": {},
     "output_type": "execute_result"
    }
   ],
   "source": [
    "#check the name\n",
    "df_10.head(1)"
   ]
  },
  {
   "cell_type": "code",
   "execution_count": 95,
   "metadata": {
    "collapsed": false,
    "ExecuteTime": {
     "end_time": "2023-07-09T11:27:17.501300200Z",
     "start_time": "2023-07-09T11:27:17.490372700Z"
    }
   },
   "outputs": [],
   "source": [
    "#merge data set\n",
    "df_combined = df_10.merge(df_14, how = 'inner', left_on='model_2010', right_on='model')"
   ]
  },
  {
   "cell_type": "code",
   "execution_count": 96,
   "metadata": {
    "collapsed": false,
    "ExecuteTime": {
     "end_time": "2023-07-09T11:27:18.618795500Z",
     "start_time": "2023-07-09T11:27:18.574909500Z"
    }
   },
   "outputs": [
    {
     "data": {
      "text/plain": "  model_2010  displ_2010  cyl_2010 trans_2010 drive_2010 fuel_2010  \\\n0  ACURA RDX         2.3         4    Auto-S5        4WD  Gasoline   \n1  ACURA RDX         2.3         4    Auto-S5        4WD  Gasoline   \n2    AUDI A3         2.0         4      Man-6        2WD  Gasoline   \n3    AUDI A3         2.0         4      Man-6        2WD  Gasoline   \n4    AUDI A3         2.0         4    Auto-S6        2WD  Gasoline   \n\n  veh_class_2010 air_pollut_2010  city_mpg_2010  hwy_mpg_2010  ...  \\\n0            SUV               7           17.0          22.0  ...   \n1            SUV               7           17.0          22.0  ...   \n2  station wagon               7           21.0          29.0  ...   \n3  station wagon               7           21.0          29.0  ...   \n4  station wagon               7           22.0          29.0  ...   \n\n        trans  drive      fuel  veh_class  air_pollution_score  city_mpg  \\\n0  SemiAuto-6    2WD  Gasoline  small SUV                  3.0      20.0   \n1  SemiAuto-6    4WD  Gasoline  small SUV                  3.0      19.0   \n2       AMS-6    4WD  Gasoline  small car                  7.0      24.0   \n3       AMS-7    2WD  Gasoline  small car                  7.0      26.0   \n4       AMS-6    4WD  Gasoline  small car                  7.0      24.0   \n\n  hwy_mpg cmb_mpg greenhouse_gas_score smartway  \n0    28.0    23.0                    5       No  \n1    27.0    22.0                    4       No  \n2    31.0    27.0                    6       No  \n3    35.0    29.0                    6       No  \n4    31.0    27.0                    6       No  \n\n[5 rows x 26 columns]",
      "text/html": "<div>\n<style scoped>\n    .dataframe tbody tr th:only-of-type {\n        vertical-align: middle;\n    }\n\n    .dataframe tbody tr th {\n        vertical-align: top;\n    }\n\n    .dataframe thead th {\n        text-align: right;\n    }\n</style>\n<table border=\"1\" class=\"dataframe\">\n  <thead>\n    <tr style=\"text-align: right;\">\n      <th></th>\n      <th>model_2010</th>\n      <th>displ_2010</th>\n      <th>cyl_2010</th>\n      <th>trans_2010</th>\n      <th>drive_2010</th>\n      <th>fuel_2010</th>\n      <th>veh_class_2010</th>\n      <th>air_pollut_2010</th>\n      <th>city_mpg_2010</th>\n      <th>hwy_mpg_2010</th>\n      <th>...</th>\n      <th>trans</th>\n      <th>drive</th>\n      <th>fuel</th>\n      <th>veh_class</th>\n      <th>air_pollution_score</th>\n      <th>city_mpg</th>\n      <th>hwy_mpg</th>\n      <th>cmb_mpg</th>\n      <th>greenhouse_gas_score</th>\n      <th>smartway</th>\n    </tr>\n  </thead>\n  <tbody>\n    <tr>\n      <th>0</th>\n      <td>ACURA RDX</td>\n      <td>2.3</td>\n      <td>4</td>\n      <td>Auto-S5</td>\n      <td>4WD</td>\n      <td>Gasoline</td>\n      <td>SUV</td>\n      <td>7</td>\n      <td>17.0</td>\n      <td>22.0</td>\n      <td>...</td>\n      <td>SemiAuto-6</td>\n      <td>2WD</td>\n      <td>Gasoline</td>\n      <td>small SUV</td>\n      <td>3.0</td>\n      <td>20.0</td>\n      <td>28.0</td>\n      <td>23.0</td>\n      <td>5</td>\n      <td>No</td>\n    </tr>\n    <tr>\n      <th>1</th>\n      <td>ACURA RDX</td>\n      <td>2.3</td>\n      <td>4</td>\n      <td>Auto-S5</td>\n      <td>4WD</td>\n      <td>Gasoline</td>\n      <td>SUV</td>\n      <td>7</td>\n      <td>17.0</td>\n      <td>22.0</td>\n      <td>...</td>\n      <td>SemiAuto-6</td>\n      <td>4WD</td>\n      <td>Gasoline</td>\n      <td>small SUV</td>\n      <td>3.0</td>\n      <td>19.0</td>\n      <td>27.0</td>\n      <td>22.0</td>\n      <td>4</td>\n      <td>No</td>\n    </tr>\n    <tr>\n      <th>2</th>\n      <td>AUDI A3</td>\n      <td>2.0</td>\n      <td>4</td>\n      <td>Man-6</td>\n      <td>2WD</td>\n      <td>Gasoline</td>\n      <td>station wagon</td>\n      <td>7</td>\n      <td>21.0</td>\n      <td>29.0</td>\n      <td>...</td>\n      <td>AMS-6</td>\n      <td>4WD</td>\n      <td>Gasoline</td>\n      <td>small car</td>\n      <td>7.0</td>\n      <td>24.0</td>\n      <td>31.0</td>\n      <td>27.0</td>\n      <td>6</td>\n      <td>No</td>\n    </tr>\n    <tr>\n      <th>3</th>\n      <td>AUDI A3</td>\n      <td>2.0</td>\n      <td>4</td>\n      <td>Man-6</td>\n      <td>2WD</td>\n      <td>Gasoline</td>\n      <td>station wagon</td>\n      <td>7</td>\n      <td>21.0</td>\n      <td>29.0</td>\n      <td>...</td>\n      <td>AMS-7</td>\n      <td>2WD</td>\n      <td>Gasoline</td>\n      <td>small car</td>\n      <td>7.0</td>\n      <td>26.0</td>\n      <td>35.0</td>\n      <td>29.0</td>\n      <td>6</td>\n      <td>No</td>\n    </tr>\n    <tr>\n      <th>4</th>\n      <td>AUDI A3</td>\n      <td>2.0</td>\n      <td>4</td>\n      <td>Auto-S6</td>\n      <td>2WD</td>\n      <td>Gasoline</td>\n      <td>station wagon</td>\n      <td>7</td>\n      <td>22.0</td>\n      <td>29.0</td>\n      <td>...</td>\n      <td>AMS-6</td>\n      <td>4WD</td>\n      <td>Gasoline</td>\n      <td>small car</td>\n      <td>7.0</td>\n      <td>24.0</td>\n      <td>31.0</td>\n      <td>27.0</td>\n      <td>6</td>\n      <td>No</td>\n    </tr>\n  </tbody>\n</table>\n<p>5 rows × 26 columns</p>\n</div>"
     },
     "execution_count": 96,
     "metadata": {},
     "output_type": "execute_result"
    }
   ],
   "source": [
    "# check the df_combined\n",
    "df_combined.head()"
   ]
  },
  {
   "cell_type": "markdown",
   "metadata": {
    "collapsed": false
   },
   "source": [
    "### 1. Create a new dataframe, `model_mpg`, that contain the mean combined mpg values in 2010 and 2014 for each unique model\n",
    "\n",
    "To do this, we wil group by `model` and find the mean `cmb_mpg_2010` and mean `cmb_mpg` for each.\n"
   ]
  },
  {
   "cell_type": "code",
   "execution_count": 97,
   "metadata": {
    "collapsed": false,
    "ExecuteTime": {
     "end_time": "2023-07-09T11:27:19.615720100Z",
     "start_time": "2023-07-09T11:27:19.604396800Z"
    }
   },
   "outputs": [],
   "source": [
    "model_mpg = df_combined['model'] = df_combined['model'].str.replace('[^0-9]', '')"
   ]
  },
  {
   "cell_type": "code",
   "execution_count": 98,
   "metadata": {
    "collapsed": false,
    "ExecuteTime": {
     "end_time": "2023-07-09T11:27:20.157119200Z",
     "start_time": "2023-07-09T11:27:20.117154400Z"
    }
   },
   "outputs": [
    {
     "data": {
      "text/plain": "0    ACURA RDX\n1    ACURA RDX\n2      AUDI A3\n3      AUDI A3\n4      AUDI A3\nName: model, dtype: object"
     },
     "execution_count": 98,
     "metadata": {},
     "output_type": "execute_result"
    }
   ],
   "source": [
    "model_mpg.head()"
   ]
  },
  {
   "cell_type": "markdown",
   "metadata": {
    "collapsed": false
   },
   "source": [
    "2. Create a new column, `mpg_change`, with the change in mpg\n",
    "\n",
    "Subtract the mean mpg in 2010 from that in 2014 to get the change in mpg\n"
   ]
  },
  {
   "cell_type": "code",
   "execution_count": 99,
   "metadata": {
    "collapsed": false,
    "ExecuteTime": {
     "end_time": "2023-07-09T11:27:21.125285600Z",
     "start_time": "2023-07-09T11:27:21.115262100Z"
    }
   },
   "outputs": [
    {
     "data": {
      "text/plain": "0    ACURA RDX\n1    ACURA RDX\n2      AUDI A3\n3      AUDI A3\n4      AUDI A3\nName: model, dtype: object"
     },
     "execution_count": 99,
     "metadata": {},
     "output_type": "execute_result"
    }
   ],
   "source": [
    "model_mpg.head()"
   ]
  },
  {
   "cell_type": "code",
   "execution_count": 99,
   "metadata": {
    "collapsed": false,
    "ExecuteTime": {
     "end_time": "2023-07-09T11:27:21.724974200Z",
     "start_time": "2023-07-09T11:27:21.639723200Z"
    }
   },
   "outputs": [],
   "source": []
  },
  {
   "cell_type": "code",
   "execution_count": null,
   "outputs": [],
   "source": [],
   "metadata": {
    "collapsed": false
   }
  }
 ],
 "metadata": {
  "kernelspec": {
   "argv": [
    "/usr/bin/python3",
    "-m",
    "ipykernel",
    "--HistoryManager.enabled=False",
    "--matplotlib=inline",
    "-c",
    "%config InlineBackend.figure_formats = set(['retina'])\nimport matplotlib; matplotlib.rcParams['figure.figsize'] = (12, 7)",
    "-f",
    "{connection_file}"
   ],
   "display_name": "Python 3 (system-wide)",
   "env": {},
   "language": "python",
   "metadata": {
    "cocalc": {
     "description": "Python 3 programming language",
     "priority": 100,
     "url": "https://www.python.org/"
    }
   },
   "name": "python3",
   "resource_dir": "/ext/jupyter/kernels/python3"
  },
  "language_info": {
   "codemirror_mode": {
    "name": "ipython",
    "version": 3
   },
   "file_extension": ".py",
   "mimetype": "text/x-python",
   "name": "python",
   "nbconvert_exporter": "python",
   "pygments_lexer": "ipython3",
   "version": "3.10.6"
  }
 },
 "nbformat": 4,
 "nbformat_minor": 4
}
